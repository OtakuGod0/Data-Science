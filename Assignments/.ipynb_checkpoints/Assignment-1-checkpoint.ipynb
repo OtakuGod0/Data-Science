{
 "cells": [
  {
   "cell_type": "markdown",
   "id": "d7a675ed-5bb4-43e3-bccb-3b3a16ba8406",
   "metadata": {},
   "source": [
    "# Exercise 1: Write a program that uses input to prompt a user for their name and then welcomes them. \n",
    "---"
   ]
  },
  {
   "cell_type": "code",
   "execution_count": 1,
   "id": "ea0f338f-b3a7-4290-9dd7-268824671a1c",
   "metadata": {},
   "outputs": [
    {
     "name": "stdin",
     "output_type": "stream",
     "text": [
      "Enter your name:  rabit Kunwar\n"
     ]
    },
    {
     "name": "stdout",
     "output_type": "stream",
     "text": [
      "Welcome rabit Kunwar\n"
     ]
    }
   ],
   "source": [
    "name = input(\"Enter your name: \")\n",
    "print(f\"Welcome {name}\")"
   ]
  },
  {
   "cell_type": "markdown",
   "id": "e6cfa7c9-769a-4169-8831-013eb7ea7f1b",
   "metadata": {},
   "source": [
    "# Exercise 2: Write a program to prompt the user for hours and rate per hour to compute gross pay\n",
    "---"
   ]
  },
  {
   "cell_type": "code",
   "execution_count": 3,
   "id": "d51c83de-5b97-4b73-b14d-f1ed40538f63",
   "metadata": {},
   "outputs": [
    {
     "name": "stdin",
     "output_type": "stream",
     "text": [
      "Enter hours:  40\n",
      "Enter rate:  8\n"
     ]
    },
    {
     "name": "stdout",
     "output_type": "stream",
     "text": [
      "Pay: 320\n"
     ]
    }
   ],
   "source": [
    "hour = int(input(\"Enter hours: \"))\n",
    "rate = int(input(\"Enter rate: \"))\n",
    "print(f\"Pay: {hour * rate}\")"
   ]
  },
  {
   "cell_type": "markdown",
   "id": "adb9bfae-7624-4cd7-a6e6-93de3e36d8c7",
   "metadata": {},
   "source": [
    "# Exercise 3: Assume that we execute the following assignment statements \n",
    "---\n",
    "width = 17\n",
    "height = 12.0 \n",
    "\n",
    "for each of the following expressions, write the value of the expression and the type of the value of the expression and the type (of the value of the expression). \n",
    "1. width // 2\n",
    "2. width / 2.0\n",
    "3. height / 3\n",
    "4. 1 + 2 * 5\n",
    "   \n",
    "Use the python interpreter to check your answer"
   ]
  },
  {
   "cell_type": "code",
   "execution_count": 3,
   "id": "ad8915d9-4926-4e1f-946c-a977cefeaefb",
   "metadata": {},
   "outputs": [],
   "source": [
    "width = 17\n",
    "height = 12.0"
   ]
  },
  {
   "cell_type": "code",
   "execution_count": 4,
   "id": "65e0e534-c971-4dcf-98d7-a7d99a1c1f76",
   "metadata": {},
   "outputs": [
    {
     "data": {
      "text/plain": [
       "8"
      ]
     },
     "execution_count": 4,
     "metadata": {},
     "output_type": "execute_result"
    }
   ],
   "source": [
    "width // 2"
   ]
  },
  {
   "cell_type": "code",
   "execution_count": 5,
   "id": "5ccad5a0-b9e6-4962-9bb1-900537b946df",
   "metadata": {},
   "outputs": [
    {
     "data": {
      "text/plain": [
       "8.5"
      ]
     },
     "execution_count": 5,
     "metadata": {},
     "output_type": "execute_result"
    }
   ],
   "source": [
    "width / 2.0"
   ]
  },
  {
   "cell_type": "code",
   "execution_count": 6,
   "id": "6b6840f8-4242-4b9c-b8fe-fe0a59f20325",
   "metadata": {},
   "outputs": [
    {
     "data": {
      "text/plain": [
       "4.0"
      ]
     },
     "execution_count": 6,
     "metadata": {},
     "output_type": "execute_result"
    }
   ],
   "source": [
    "height / 3 "
   ]
  },
  {
   "cell_type": "code",
   "execution_count": 7,
   "id": "b3f6f5ba-403c-4044-a0bc-addc309a4c2a",
   "metadata": {},
   "outputs": [
    {
     "data": {
      "text/plain": [
       "11"
      ]
     },
     "execution_count": 7,
     "metadata": {},
     "output_type": "execute_result"
    }
   ],
   "source": [
    "1+2*5"
   ]
  },
  {
   "cell_type": "markdown",
   "id": "6b5f063a-40e9-406a-bdf4-afbe32814c71",
   "metadata": {},
   "source": [
    "# Exercise 4: Write a program which prompts the user for a Celsius temperature, convert the temperature to Fahrenheit, and print out the converted temperature.\n",
    "---"
   ]
  },
  {
   "cell_type": "code",
   "execution_count": 13,
   "id": "f459e6a7-f568-46f9-8dea-e680fe967b2b",
   "metadata": {},
   "outputs": [
    {
     "name": "stdin",
     "output_type": "stream",
     "text": [
      "Enter the temperature in Celsius: 100\n"
     ]
    },
    {
     "name": "stdout",
     "output_type": "stream",
     "text": [
      "Temperature in Ferenheit: 212.0\n"
     ]
    }
   ],
   "source": [
    "C = int(input(\"Enter the temperature in Celsius:\"))\n",
    "F = (9 / 5 * C) + 32\n",
    "print(f\"Temperature in Ferenheit: {F}\")"
   ]
  },
  {
   "cell_type": "code",
   "execution_count": null,
   "id": "7b9feda9-8d2a-4a17-b435-41e19db0dd2c",
   "metadata": {},
   "outputs": [],
   "source": []
  }
 ],
 "metadata": {
  "kernelspec": {
   "display_name": "Python 3 (ipykernel)",
   "language": "python",
   "name": "python3"
  },
  "language_info": {
   "codemirror_mode": {
    "name": "ipython",
    "version": 3
   },
   "file_extension": ".py",
   "mimetype": "text/x-python",
   "name": "python",
   "nbconvert_exporter": "python",
   "pygments_lexer": "ipython3",
   "version": "3.12.4"
  }
 },
 "nbformat": 4,
 "nbformat_minor": 5
}
