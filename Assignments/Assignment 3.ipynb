{
 "cells": [
  {
   "cell_type": "markdown",
   "id": "2fb41930-9a12-4969-984b-b05c49d7182f",
   "metadata": {},
   "source": [
    "# Python Functions "
   ]
  },
  {
   "cell_type": "markdown",
   "id": "49605584-930a-40e7-9f2a-d9543c09e0e6",
   "metadata": {},
   "source": [
    "### Exercise 1: Rewrite your pay computation with time-and-a-half for over-time and create a function called computepay which takes two parameters (hours and rate).\n",
    "Enter Hours: 45\n",
    "Enter Rate: 10\n",
    "Pay: 475.0"
   ]
  },
  {
   "cell_type": "code",
   "execution_count": 4,
   "id": "5ee63be1-311f-4317-b32f-b1f5a409b2b4",
   "metadata": {},
   "outputs": [
    {
     "data": {
      "text/plain": [
       "475.0"
      ]
     },
     "execution_count": 4,
     "metadata": {},
     "output_type": "execute_result"
    }
   ],
   "source": [
    "def computePay(hours, rate):\n",
    "    # (rate * 40) for pay under 40 hours; ((hours-40)*rate*1.5) for pay above 40 hours\n",
    "    pay = ( hours * rate ) if ( hours <= 40 ) else ( rate * 40 + (hours-40)*rate*1.5 )\n",
    "    return pay\n",
    "\n",
    "computePay(45, 10)"
   ]
  },
  {
   "cell_type": "markdown",
   "id": "ac126fbf-0c5b-45c8-b6a4-e504d2cb8444",
   "metadata": {},
   "source": [
    "### Exercise 2: Write a program to prompt for a score between 0.0 and 1.0. If the score is out of range, print an error message. (using function) If the score is between 0.0 and 1.0, print a grade using the following table:\n",
    "\n",
    "| Range | Grade |\n",
    "|-------|-------|\n",
    "| >= 0.9 | A     |\n",
    "| >= 0.8 | B     |\n",
    "| >= 0.7 | C     |\n",
    "| >= 0.6 | D     |\n",
    "| < 0.6  | F     |\n",
    "\n",
    "---\n"
   ]
  },
  {
   "cell_type": "code",
   "execution_count": 23,
   "id": "dd143ba4-59ef-4c81-9e42-8ea4710c3d0c",
   "metadata": {},
   "outputs": [
    {
     "name": "stdout",
     "output_type": "stream",
     "text": [
      "Bad Score\n"
     ]
    }
   ],
   "source": [
    "def computeGrade(S):\n",
    "    try: \n",
    "        S = float(S) # for string value passed\n",
    "        if S >= 0.9 and S <= 1:\n",
    "            print(\"A\")\n",
    "        elif S >= 0.8 and S < 0.9: \n",
    "            print(\"B\")\n",
    "        elif S >= 0.7 and S < 0.8:\n",
    "            print(\"C\")\n",
    "        elif S >= 0.6 and S < 0.7: \n",
    "            print(\"D\")\n",
    "        elif S >= 0 and S < 0.6:\n",
    "            print(\"F\")\n",
    "        else:\n",
    "            print(\"Score must be in the range of 0 to 1\")\n",
    "    \n",
    "    except:\n",
    "        print(\"Bad Score\")\n",
    "\n",
    "computeGrade(\"fourty\")"
   ]
  },
  {
   "cell_type": "code",
   "execution_count": null,
   "id": "b351fbff-622a-48af-919d-d6ae536d4e84",
   "metadata": {},
   "outputs": [],
   "source": []
  }
 ],
 "metadata": {
  "kernelspec": {
   "display_name": "Python 3 (ipykernel)",
   "language": "python",
   "name": "python3"
  },
  "language_info": {
   "codemirror_mode": {
    "name": "ipython",
    "version": 3
   },
   "file_extension": ".py",
   "mimetype": "text/x-python",
   "name": "python",
   "nbconvert_exporter": "python",
   "pygments_lexer": "ipython3",
   "version": "3.12.4"
  }
 },
 "nbformat": 4,
 "nbformat_minor": 5
}
