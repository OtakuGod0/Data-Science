{
 "cells": [
  {
   "cell_type": "markdown",
   "id": "d68365cc-e51a-4581-ad8a-9d1165a47a93",
   "metadata": {},
   "source": [
    "# Python Loops "
   ]
  },
  {
   "cell_type": "markdown",
   "id": "00c1cdb9-1a59-4efb-af9e-4dd51170dd9b",
   "metadata": {},
   "source": [
    "### Exercise 1: Write a program which repeatedly reads numbers until the user enters “done”. Once “done” is entered, print out the total, count, and average of the numbers. If the user enters anything other than a number, detect their mistake using try and except and print an error message and skip to the next number."
   ]
  },
  {
   "cell_type": "code",
   "execution_count": 10,
   "id": "7167317d-4163-47dd-b1d5-c1bcca97188f",
   "metadata": {},
   "outputs": [
    {
     "name": "stdin",
     "output_type": "stream",
     "text": [
      "Enter a number: 3\n",
      "Enter a number: 4\n",
      "Enter a number: 5\n",
      "Enter a number: 1\n",
      "Enter a number: done\n"
     ]
    },
    {
     "name": "stdout",
     "output_type": "stream",
     "text": [
      "Count:  4\n",
      "Total:  13\n",
      "Average:  3.25\n"
     ]
    }
   ],
   "source": [
    "nums = [] # empty list for input data\n",
    "while True: \n",
    "    try: \n",
    "        usrInput = input(\"Enter a number:\")\n",
    "        if usrInput == \"done\":\n",
    "            break\n",
    "        else: \n",
    "            nums.append(int(usrInput)) \n",
    "\n",
    "    except: \n",
    "        print(\"Invalid input\")\n",
    "        \n",
    "print(\"Count: \", len(nums))\n",
    "print(\"Total: \", sum(nums))\n",
    "print(\"Average: \", sum(nums) / len(nums))"
   ]
  },
  {
   "cell_type": "markdown",
   "id": "110a0fde-b645-4fb5-b4ac-1725ea819adc",
   "metadata": {},
   "source": [
    "### Exercise 2: Write another program that prompts for a list of numbers as above and at the end prints out both the maximum and minimum of the numbers instead of the average."
   ]
  },
  {
   "cell_type": "code",
   "execution_count": 12,
   "id": "85f5530a-3f4d-4568-a38e-c7279ffe6721",
   "metadata": {},
   "outputs": [
    {
     "name": "stdin",
     "output_type": "stream",
     "text": [
      "Enter a number: 23\n",
      "Enter a number: 325\n",
      "Enter a number: 1\n",
      "Enter a number: done\n"
     ]
    },
    {
     "name": "stdout",
     "output_type": "stream",
     "text": [
      "max:  325\n",
      "min:  1\n"
     ]
    }
   ],
   "source": [
    "nums = [] # empty list for input data\n",
    "while True: \n",
    "    try: \n",
    "        usrInput = input(\"Enter a number:\")\n",
    "        if usrInput == \"done\":\n",
    "            break\n",
    "        else: \n",
    "            nums.append(int(usrInput)) \n",
    "\n",
    "    except: \n",
    "        print(\"Invalid input\")\n",
    "        \n",
    "print(\"max: \", max(nums))\n",
    "print(\"min: \", min(nums))"
   ]
  }
 ],
 "metadata": {
  "kernelspec": {
   "display_name": "Python 3 (ipykernel)",
   "language": "python",
   "name": "python3"
  },
  "language_info": {
   "codemirror_mode": {
    "name": "ipython",
    "version": 3
   },
   "file_extension": ".py",
   "mimetype": "text/x-python",
   "name": "python",
   "nbconvert_exporter": "python",
   "pygments_lexer": "ipython3",
   "version": "3.12.4"
  }
 },
 "nbformat": 4,
 "nbformat_minor": 5
}
