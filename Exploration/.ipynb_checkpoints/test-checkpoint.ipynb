{
 "cells": [
  {
   "cell_type": "code",
   "execution_count": 17,
   "id": "e38d6ec1-5dc8-498f-b6fd-d656ad9dae54",
   "metadata": {},
   "outputs": [],
   "source": [
    "def CF(*nums):\n",
    "    res = factor(nums[0])\n",
    "    for i in nums: \n",
    "        a = factor(i)\n",
    "        for j in a: \n",
    "            if j in res: \n",
    "                \n",
    "\n",
    "def factor(num): \n",
    "    return [i for i in range(1, num) if num % i == 0]\n",
    "       \n",
    "\n",
    "def Cfactors(x, y):\n",
    "    a = factor(x)\n",
    "    b = factor(y)\n",
    "    res = []\n",
    "\n",
    "    for i in a: \n",
    "        if i in b: \n",
    "            res.append(i)\n",
    "\n",
    "    return res\n",
    "    "
   ]
  },
  {
   "cell_type": "code",
   "execution_count": 12,
   "id": "4d231948-d9b9-4797-92d7-8092682d5b6a",
   "metadata": {},
   "outputs": [
    {
     "data": {
      "text/plain": [
       "[1, 3]"
      ]
     },
     "execution_count": 12,
     "metadata": {},
     "output_type": "execute_result"
    }
   ],
   "source": [
    "Cfactors(75, 63)"
   ]
  },
  {
   "cell_type": "code",
   "execution_count": null,
   "id": "220f3bef-4bc1-4d38-88b8-61df17a382e0",
   "metadata": {},
   "outputs": [],
   "source": []
  }
 ],
 "metadata": {
  "kernelspec": {
   "display_name": "Python 3 (ipykernel)",
   "language": "python",
   "name": "python3"
  },
  "language_info": {
   "codemirror_mode": {
    "name": "ipython",
    "version": 3
   },
   "file_extension": ".py",
   "mimetype": "text/x-python",
   "name": "python",
   "nbconvert_exporter": "python",
   "pygments_lexer": "ipython3",
   "version": "3.12.4"
  }
 },
 "nbformat": 4,
 "nbformat_minor": 5
}
