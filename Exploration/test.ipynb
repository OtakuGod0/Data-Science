{
 "cells": [
  {
   "cell_type": "code",
   "execution_count": 14,
   "id": "12ced2ec-9c32-4dfe-967f-e8b0509e3937",
   "metadata": {},
   "outputs": [
    {
     "name": "stdout",
     "output_type": "stream",
     "text": [
      "DataFrame saved to output.xlsx\n"
     ]
    }
   ],
   "source": [
    "import pandas as pd\n",
    "\n",
    "# Create a sample DataFrame\n",
    "data = {\n",
    "    'Name': ['Alice', 'Bob', 'Charlie'],\n",
    "    'Age': [25, 30, 35],\n",
    "    'City': ['New York', 'Los Angeles', 'Chicago']\n",
    "}\n",
    "\n",
    "df = pd.DataFrame(data)\n",
    "\n",
    "# Save the DataFrame to an Excel file\n",
    "file_path = 'output.xlsx'\n",
    "df.to_excel(file_path, index=False)\n",
    "\n",
    "print(f'DataFrame saved to {file_path}')\n"
   ]
  },
  {
   "cell_type": "code",
   "execution_count": 15,
   "id": "6de10dee-1675-4b9c-a5a8-0ab0a72e6982",
   "metadata": {},
   "outputs": [],
   "source": [
    "df = pd.read_excel(file_path)\n",
    "df[\"id\"] = range(3)\n",
    "df.to_excel(file_path)"
   ]
  },
  {
   "cell_type": "code",
   "execution_count": 16,
   "id": "3aa054fb-bd0c-46ae-bccc-f6804017e3f2",
   "metadata": {},
   "outputs": [
    {
     "ename": "AttributeError",
     "evalue": "property 'book' of 'OpenpyxlWriter' object has no setter",
     "output_type": "error",
     "traceback": [
      "\u001b[0;31m---------------------------------------------------------------------------\u001b[0m",
      "\u001b[0;31mAttributeError\u001b[0m                            Traceback (most recent call last)",
      "Cell \u001b[0;32mIn[16], line 29\u001b[0m\n\u001b[1;32m     27\u001b[0m \u001b[38;5;66;03m# Write the combined DataFrame back to the Excel sheet\u001b[39;00m\n\u001b[1;32m     28\u001b[0m \u001b[38;5;28;01mwith\u001b[39;00m pd\u001b[38;5;241m.\u001b[39mExcelWriter(file_path, engine\u001b[38;5;241m=\u001b[39m\u001b[38;5;124m'\u001b[39m\u001b[38;5;124mopenpyxl\u001b[39m\u001b[38;5;124m'\u001b[39m, mode\u001b[38;5;241m=\u001b[39m\u001b[38;5;124m'\u001b[39m\u001b[38;5;124ma\u001b[39m\u001b[38;5;124m'\u001b[39m, if_sheet_exists\u001b[38;5;241m=\u001b[39m\u001b[38;5;124m'\u001b[39m\u001b[38;5;124mreplace\u001b[39m\u001b[38;5;124m'\u001b[39m) \u001b[38;5;28;01mas\u001b[39;00m writer:\n\u001b[0;32m---> 29\u001b[0m     writer\u001b[38;5;241m.\u001b[39mbook \u001b[38;5;241m=\u001b[39m book\n\u001b[1;32m     30\u001b[0m     writer\u001b[38;5;241m.\u001b[39msheets \u001b[38;5;241m=\u001b[39m {ws\u001b[38;5;241m.\u001b[39mtitle: ws \u001b[38;5;28;01mfor\u001b[39;00m ws \u001b[38;5;129;01min\u001b[39;00m book\u001b[38;5;241m.\u001b[39mworksheets}\n\u001b[1;32m     31\u001b[0m     df_combined\u001b[38;5;241m.\u001b[39mto_excel(writer, sheet_name\u001b[38;5;241m=\u001b[39msheet_name, index\u001b[38;5;241m=\u001b[39m\u001b[38;5;28;01mFalse\u001b[39;00m)\n",
      "\u001b[0;31mAttributeError\u001b[0m: property 'book' of 'OpenpyxlWriter' object has no setter"
     ]
    }
   ],
   "source": [
    "import pandas as pd\n",
    "from openpyxl import load_workbook\n",
    "\n",
    "# File path for the existing Excel file\n",
    "file_path = 'output.xlsx'\n",
    "\n",
    "# Load the existing workbook\n",
    "book = load_workbook(file_path)\n",
    "\n",
    "# Specify the sheet name (adjust if needed)\n",
    "sheet_name = 'Sheet1'\n",
    "\n",
    "# Read the existing data into a pandas DataFrame\n",
    "df_existing = pd.read_excel(file_path, sheet_name=sheet_name)\n",
    "\n",
    "# Sample new data to update\n",
    "new_data = {\n",
    "    'Name': ['Eve', 'Frank'],\n",
    "    'Age': [28, 33],\n",
    "    'City': ['Houston', 'Phoenix']\n",
    "}\n",
    "df_new = pd.DataFrame(new_data)\n",
    "\n",
    "# Append the new data to the existing DataFrame\n",
    "df_combined = pd.concat([df_existing, df_new], ignore_index=True)\n",
    "\n",
    "# Write the combined DataFrame back to the Excel sheet\n",
    "with pd.ExcelWriter(file_path, engine='openpyxl', mode='a', if_sheet_exists='replace') as writer:\n",
    "    writer.book = book\n",
    "    writer.sheets = {ws.title: ws for ws in book.worksheets}\n",
    "    df_combined.to_excel(writer, sheet_name=sheet_name, index=False)\n"
   ]
  },
  {
   "cell_type": "code",
   "execution_count": 8,
   "id": "d720b8b6-6c2a-4985-9e5e-82566f16a404",
   "metadata": {},
   "outputs": [
    {
     "data": {
      "text/html": [
       "<div>\n",
       "<style scoped>\n",
       "    .dataframe tbody tr th:only-of-type {\n",
       "        vertical-align: middle;\n",
       "    }\n",
       "\n",
       "    .dataframe tbody tr th {\n",
       "        vertical-align: top;\n",
       "    }\n",
       "\n",
       "    .dataframe thead th {\n",
       "        text-align: right;\n",
       "    }\n",
       "</style>\n",
       "<table border=\"1\" class=\"dataframe\">\n",
       "  <thead>\n",
       "    <tr style=\"text-align: right;\">\n",
       "      <th></th>\n",
       "      <th>Name</th>\n",
       "      <th>Age</th>\n",
       "      <th>City</th>\n",
       "      <th>id</th>\n",
       "    </tr>\n",
       "  </thead>\n",
       "  <tbody>\n",
       "    <tr>\n",
       "      <th>0</th>\n",
       "      <td>Alice</td>\n",
       "      <td>25</td>\n",
       "      <td>New York</td>\n",
       "      <td>0</td>\n",
       "    </tr>\n",
       "    <tr>\n",
       "      <th>1</th>\n",
       "      <td>Bob</td>\n",
       "      <td>30</td>\n",
       "      <td>Los Angeles</td>\n",
       "      <td>1</td>\n",
       "    </tr>\n",
       "    <tr>\n",
       "      <th>2</th>\n",
       "      <td>Charlie</td>\n",
       "      <td>35</td>\n",
       "      <td>Chicago</td>\n",
       "      <td>2</td>\n",
       "    </tr>\n",
       "  </tbody>\n",
       "</table>\n",
       "</div>"
      ],
      "text/plain": [
       "      Name  Age         City  id\n",
       "0    Alice   25     New York   0\n",
       "1      Bob   30  Los Angeles   1\n",
       "2  Charlie   35      Chicago   2"
      ]
     },
     "execution_count": 8,
     "metadata": {},
     "output_type": "execute_result"
    }
   ],
   "source": [
    "df"
   ]
  },
  {
   "cell_type": "code",
   "execution_count": null,
   "id": "d2251b8d-bdbf-41d1-97dd-3152fa395758",
   "metadata": {},
   "outputs": [],
   "source": []
  }
 ],
 "metadata": {
  "kernelspec": {
   "display_name": "Python 3 (ipykernel)",
   "language": "python",
   "name": "python3"
  },
  "language_info": {
   "codemirror_mode": {
    "name": "ipython",
    "version": 3
   },
   "file_extension": ".py",
   "mimetype": "text/x-python",
   "name": "python",
   "nbconvert_exporter": "python",
   "pygments_lexer": "ipython3",
   "version": "3.12.4"
  }
 },
 "nbformat": 4,
 "nbformat_minor": 5
}
