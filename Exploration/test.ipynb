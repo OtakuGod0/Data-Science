{
 "cells": [
  {
   "cell_type": "code",
   "execution_count": 1,
   "id": "69996f68-55b2-409a-9d94-8b41f481be2c",
   "metadata": {},
   "outputs": [
    {
     "data": {
      "text/html": [
       "<div>\n",
       "<style scoped>\n",
       "    .dataframe tbody tr th:only-of-type {\n",
       "        vertical-align: middle;\n",
       "    }\n",
       "\n",
       "    .dataframe tbody tr th {\n",
       "        vertical-align: top;\n",
       "    }\n",
       "\n",
       "    .dataframe thead th {\n",
       "        text-align: right;\n",
       "    }\n",
       "</style>\n",
       "<table border=\"1\" class=\"dataframe\">\n",
       "  <thead>\n",
       "    <tr style=\"text-align: right;\">\n",
       "      <th></th>\n",
       "      <th>Word</th>\n",
       "      <th>Meaning</th>\n",
       "      <th>Part of Speech</th>\n",
       "    </tr>\n",
       "  </thead>\n",
       "  <tbody>\n",
       "    <tr>\n",
       "      <th>0</th>\n",
       "      <td>Abate</td>\n",
       "      <td>to become less strong, or to make something less strong</td>\n",
       "      <td>v.</td>\n",
       "    </tr>\n",
       "    <tr>\n",
       "      <th>1</th>\n",
       "      <td>Abstract</td>\n",
       "      <td>existing as an idea, feeling, or quality, not as a material object</td>\n",
       "      <td>adj.</td>\n",
       "    </tr>\n",
       "    <tr>\n",
       "      <th>2</th>\n",
       "      <td>Abysmal</td>\n",
       "      <td>very bad</td>\n",
       "      <td>adj.</td>\n",
       "    </tr>\n",
       "    <tr>\n",
       "      <th>3</th>\n",
       "      <td>Adversarial</td>\n",
       "      <td>involving opposition or disagreement</td>\n",
       "      <td>adj.</td>\n",
       "    </tr>\n",
       "    <tr>\n",
       "      <th>4</th>\n",
       "      <td>Agitate</td>\n",
       "      <td>to argue energetically, esp. in public, in order to achieve a particular type of change</td>\n",
       "      <td>v.</td>\n",
       "    </tr>\n",
       "  </tbody>\n",
       "</table>\n",
       "</div>"
      ],
      "text/plain": [
       "          Word  \\\n",
       "0        Abate   \n",
       "1     Abstract   \n",
       "2      Abysmal   \n",
       "3  Adversarial   \n",
       "4      Agitate   \n",
       "\n",
       "                                                                                   Meaning  \\\n",
       "0                                  to become less strong, or to make something less strong   \n",
       "1                       existing as an idea, feeling, or quality, not as a material object   \n",
       "2                                                                                 very bad   \n",
       "3                                                     involving opposition or disagreement   \n",
       "4  to argue energetically, esp. in public, in order to achieve a particular type of change   \n",
       "\n",
       "  Part of Speech  \n",
       "0             v.  \n",
       "1           adj.  \n",
       "2           adj.  \n",
       "3           adj.  \n",
       "4             v.  "
      ]
     },
     "execution_count": 1,
     "metadata": {},
     "output_type": "execute_result"
    }
   ],
   "source": [
    "import numpy as np\n",
    "import pandas as pd \n",
    "import matplotlib.pyplot as plt \n",
    "import seaborn as sns; sns.set_style()\n",
    "\n",
    "df = pd.read_csv(\"satwords.csv\")\n",
    "\n",
    "# Temporarily set display options\n",
    "pd.set_option('display.max_colwidth', None)\n",
    "\n",
    "df.head()"
   ]
  },
  {
   "cell_type": "code",
   "execution_count": 14,
   "id": "a870d410-4047-4832-9b7e-05cc7157868b",
   "metadata": {},
   "outputs": [
    {
     "ename": "ModuleNotFoundError",
     "evalue": "No module named 'pyperclip'",
     "output_type": "error",
     "traceback": [
      "\u001b[1;31m---------------------------------------------------------------------------\u001b[0m",
      "\u001b[1;31mModuleNotFoundError\u001b[0m                       Traceback (most recent call last)",
      "Cell \u001b[1;32mIn[14], line 1\u001b[0m\n\u001b[1;32m----> 1\u001b[0m \u001b[38;5;28;01mimport\u001b[39;00m \u001b[38;5;21;01mpyperclip\u001b[39;00m\n\u001b[0;32m      2\u001b[0m pyperclip\u001b[38;5;241m.\u001b[39mcopy(df\u001b[38;5;241m.\u001b[39msample(n \u001b[38;5;241m=\u001b[39m \u001b[38;5;241m10\u001b[39m, replace \u001b[38;5;241m=\u001b[39m \u001b[38;5;28;01mFalse\u001b[39;00m)[\u001b[38;5;124m'\u001b[39m\u001b[38;5;124mWord\u001b[39m\u001b[38;5;124m'\u001b[39m])\n",
      "\u001b[1;31mModuleNotFoundError\u001b[0m: No module named 'pyperclip'"
     ]
    }
   ],
   "source": [
    "import pyperclip\n",
    "pyperclip.copy(df.sample(n = 10, replace = False)['Word'])"
   ]
  },
  {
   "cell_type": "code",
   "execution_count": null,
   "id": "5ad9b36a-755e-4bbc-8ed9-abda6399d6fb",
   "metadata": {},
   "outputs": [],
   "source": []
  },
  {
   "cell_type": "code",
   "execution_count": null,
   "id": "91ae36cb-75b3-4d37-9615-2b87508dc81f",
   "metadata": {},
   "outputs": [],
   "source": []
  },
  {
   "cell_type": "code",
   "execution_count": null,
   "id": "4d603479-6e60-400b-99c9-c8d6077a4038",
   "metadata": {},
   "outputs": [],
   "source": []
  }
 ],
 "metadata": {
  "kernelspec": {
   "display_name": "Python 3 (ipykernel)",
   "language": "python",
   "name": "python3"
  },
  "language_info": {
   "codemirror_mode": {
    "name": "ipython",
    "version": 3
   },
   "file_extension": ".py",
   "mimetype": "text/x-python",
   "name": "python",
   "nbconvert_exporter": "python",
   "pygments_lexer": "ipython3",
   "version": "3.12.4"
  }
 },
 "nbformat": 4,
 "nbformat_minor": 5
}
