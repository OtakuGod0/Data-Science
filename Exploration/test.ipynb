{
 "cells": [
  {
   "cell_type": "code",
   "execution_count": 9,
   "id": "110d63a4-2a24-4030-99de-14bc8bb11693",
   "metadata": {},
   "outputs": [],
   "source": [
    "def factor(n): \n",
    "    return [i for i in range(1, n+1) if n % i == 0]\n",
    "\n",
    "def CF(*nums, initial_fact = None):\n",
    "    if len(nums) == 0 or len(nums) == 1:\n",
    "        return initial_fact\n",
    "    if initial_fact == None: \n",
    "        initial_fact = nums[0]\n",
    "        CF(nums[1:], initial_fact = initial_fact)\n",
    "    else: \n",
    "        tmp = [i for i in initial_fact for j in factor(nums[0]) if i == j]\n",
    "        CF(nums[1:], initial_fact=tmp)\n",
    "    \n",
    "\n",
    "CF(20, 30)"
   ]
  },
  {
   "cell_type": "code",
   "execution_count": null,
   "id": "4fe9a17b-fbcd-4463-b4c4-4cd746f8d2b6",
   "metadata": {},
   "outputs": [],
   "source": []
  }
 ],
 "metadata": {
  "kernelspec": {
   "display_name": "Python 3 (ipykernel)",
   "language": "python",
   "name": "python3"
  },
  "language_info": {
   "codemirror_mode": {
    "name": "ipython",
    "version": 3
   },
   "file_extension": ".py",
   "mimetype": "text/x-python",
   "name": "python",
   "nbconvert_exporter": "python",
   "pygments_lexer": "ipython3",
   "version": "3.12.4"
  }
 },
 "nbformat": 4,
 "nbformat_minor": 5
}
