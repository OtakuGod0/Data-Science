{
 "cells": [
  {
   "cell_type": "code",
   "execution_count": 2,
   "id": "b2f7050e-e0f4-4348-b72e-d57889c7a4dd",
   "metadata": {},
   "outputs": [],
   "source": [
    "import numpy as np "
   ]
  },
  {
   "cell_type": "markdown",
   "id": "d96fbba7-b1a9-48d9-b683-36cfb258923e",
   "metadata": {},
   "source": [
    "## Creating array from Python list  \n",
    "---"
   ]
  },
  {
   "cell_type": "code",
   "execution_count": 11,
   "id": "0f2e614e-36f8-4ae7-996f-a10d16d723ea",
   "metadata": {},
   "outputs": [
    {
     "name": "stdout",
     "output_type": "stream",
     "text": [
      "[2 4 5 6]\n",
      "<class 'numpy.ndarray'>\n"
     ]
    }
   ],
   "source": [
    "my_arr = np.array([2, 4, 5, 6])\n",
    "print(my_arr)\n",
    "print(type(my_arr))"
   ]
  },
  {
   "cell_type": "code",
   "execution_count": 15,
   "id": "a7ab011c-63cf-4ac0-beb2-1ed74ccf9368",
   "metadata": {},
   "outputs": [
    {
     "data": {
      "text/plain": [
       "array([1. , 2.4, 2. , 4. ])"
      ]
     },
     "execution_count": 15,
     "metadata": {},
     "output_type": "execute_result"
    }
   ],
   "source": [
    "# Float data Type \n",
    "np.array([1, 2.4, 2, 4]) # Converts all items to float"
   ]
  },
  {
   "cell_type": "code",
   "execution_count": 14,
   "id": "575885b0-7798-4bb6-a54b-f51afcfac79e",
   "metadata": {},
   "outputs": [
    {
     "data": {
      "text/plain": [
       "array(['1', '3.0', '5', 'str'], dtype='<U32')"
      ]
     },
     "execution_count": 14,
     "metadata": {},
     "output_type": "execute_result"
    }
   ],
   "source": [
    "# int and string in list\n",
    "np.array([1, 3.0, 5, \"str\"]) # Converts all items to Str"
   ]
  },
  {
   "cell_type": "markdown",
   "id": "4e604806-7712-484c-917b-590b017389d0",
   "metadata": {},
   "source": [
    "`We can also explicitly set the data type of the array using hte dtype keyword, as follow:`"
   ]
  },
  {
   "cell_type": "code",
   "execution_count": 16,
   "id": "89237c48-1eef-49e1-9ec8-854f1547eaf3",
   "metadata": {},
   "outputs": [
    {
     "data": {
      "text/plain": [
       "array([1, 2, 3, 4], dtype=int16)"
      ]
     },
     "execution_count": 16,
     "metadata": {},
     "output_type": "execute_result"
    }
   ],
   "source": [
    "np.array([1.24, 2, 3, 4], dtype='int16') # 16 represents no of bit"
   ]
  },
  {
   "cell_type": "code",
   "execution_count": 17,
   "id": "149ec8e0-1c61-435d-97df-bca3d54ded3b",
   "metadata": {},
   "outputs": [
    {
     "data": {
      "text/plain": [
       "array([1.25, 2.  , 3.  , 4.  ], dtype=float32)"
      ]
     },
     "execution_count": 17,
     "metadata": {},
     "output_type": "execute_result"
    }
   ],
   "source": [
    "np.array([1.25, 2, 3, 4], dtype='float32')"
   ]
  },
  {
   "cell_type": "markdown",
   "id": "4315e750-ee24-43a0-9c37-030ce4956b80",
   "metadata": {},
   "source": [
    "## Multi dimensional array \n",
    "---"
   ]
  },
  {
   "cell_type": "code",
   "execution_count": 19,
   "id": "a688b71b-78ff-444a-9604-2485c45ac4e9",
   "metadata": {},
   "outputs": [
    {
     "data": {
      "text/plain": [
       "array([[1, 2, 3],\n",
       "       [4, 5, 6],\n",
       "       [7, 8, 9]])"
      ]
     },
     "execution_count": 19,
     "metadata": {},
     "output_type": "execute_result"
    }
   ],
   "source": [
    "np.array([  [1, 2, 3], \n",
    "            [4, 5, 6], \n",
    "            [7, 8, 9]])"
   ]
  },
  {
   "cell_type": "code",
   "execution_count": 22,
   "id": "fecfe781-9356-499f-a7bb-1c29f936bc70",
   "metadata": {},
   "outputs": [
    {
     "data": {
      "text/plain": [
       "array([0, 0, 0, 0, 0])"
      ]
     },
     "execution_count": 22,
     "metadata": {},
     "output_type": "execute_result"
    }
   ],
   "source": [
    "np.zeros(5, dtype=int)"
   ]
  },
  {
   "cell_type": "code",
   "execution_count": 24,
   "id": "df19aae5-0420-411d-bdc7-faf0a8c3ae6d",
   "metadata": {},
   "outputs": [
    {
     "data": {
      "text/plain": [
       "array([[1., 1.],\n",
       "       [1., 1.],\n",
       "       [1., 1.],\n",
       "       [1., 1.],\n",
       "       [1., 1.]])"
      ]
     },
     "execution_count": 24,
     "metadata": {},
     "output_type": "execute_result"
    }
   ],
   "source": [
    "np.ones((5, 2), dtype=float)"
   ]
  },
  {
   "cell_type": "markdown",
   "id": "48c9c466-f727-4c96-ace8-c5a8be0100e5",
   "metadata": {},
   "source": [
    "## Some numpy methods\n",
    "---"
   ]
  },
  {
   "cell_type": "code",
   "execution_count": 28,
   "id": "55803734-f035-4de7-bc12-87989e3fdcd2",
   "metadata": {},
   "outputs": [
    {
     "data": {
      "text/plain": [
       "array([ 1,  2,  3,  4,  5,  6,  7,  8,  9, 10, 11, 12, 13, 14, 15, 16, 17,\n",
       "       18, 19, 20, 21, 22, 23, 24, 25, 26, 27, 28, 29, 30])"
      ]
     },
     "execution_count": 28,
     "metadata": {},
     "output_type": "execute_result"
    }
   ],
   "source": [
    "np.arange(1, 31, 1) # starting: stoping: step"
   ]
  },
  {
   "cell_type": "code",
   "execution_count": 32,
   "id": "348e7e35-be59-4398-8c6d-a496b8782709",
   "metadata": {},
   "outputs": [
    {
     "data": {
      "text/plain": [
       "array([0.  , 0.25, 0.5 , 0.75, 1.  ])"
      ]
     },
     "execution_count": 32,
     "metadata": {},
     "output_type": "execute_result"
    }
   ],
   "source": [
    "np.linspace(0, 1, 5) # linspace = linear spacing # eqully spaces and it's inclusive"
   ]
  },
  {
   "cell_type": "markdown",
   "id": "4153ce4e-5d33-4799-a8e8-15a7f54e5ffa",
   "metadata": {},
   "source": [
    "### Numpy random"
   ]
  },
  {
   "cell_type": "code",
   "execution_count": 34,
   "id": "a0a88fcd-7124-419c-8fdf-98d2573cfeac",
   "metadata": {},
   "outputs": [
    {
     "data": {
      "text/plain": [
       "array([[0.02310022, 0.59254043, 0.37369436],\n",
       "       [0.28698824, 0.24968674, 0.66606117],\n",
       "       [0.8233144 , 0.63133645, 0.80869642]])"
      ]
     },
     "execution_count": 34,
     "metadata": {},
     "output_type": "execute_result"
    }
   ],
   "source": [
    "np.random.random((3, 3))"
   ]
  },
  {
   "cell_type": "code",
   "execution_count": 51,
   "id": "d10de418-b77b-48de-99a0-2e7953a02555",
   "metadata": {},
   "outputs": [
    {
     "data": {
      "text/plain": [
       "array([[-1.20574758,  1.08626708, -1.780056  ],\n",
       "       [-0.08679959,  0.44222258,  0.89270387],\n",
       "       [-1.10544765,  1.35215636,  1.17044169]])"
      ]
     },
     "execution_count": 51,
     "metadata": {},
     "output_type": "execute_result"
    }
   ],
   "source": [
    "# Create a 3x3 array of normally distributed random values with mean (avarage) \n",
    "# 0 mean and standard deviation 1 \n",
    "np.random.normal(0, 1, (3, 3)) # first parameter = mean; second = standard deviation; third = dimension "
   ]
  },
  {
   "cell_type": "code",
   "execution_count": 44,
   "id": "5b075097-b59b-4abd-9c9c-8d14214f6eac",
   "metadata": {},
   "outputs": [],
   "source": [
    "# discriptive stat => mean median  and infrencial stat => result and conclusion; hypothesis testing, normalization"
   ]
  },
  {
   "cell_type": "code",
   "execution_count": 48,
   "id": "97e712cc-2e5a-4495-a856-a59d42441753",
   "metadata": {},
   "outputs": [
    {
     "data": {
      "text/plain": [
       "array([[4, 7],\n",
       "       [9, 6],\n",
       "       [1, 0]])"
      ]
     },
     "execution_count": 48,
     "metadata": {},
     "output_type": "execute_result"
    }
   ],
   "source": [
    "np.random.randint(0, 10, (3, 2)) #first parameter: start; second: stop; third: dimension"
   ]
  },
  {
   "cell_type": "markdown",
   "id": "9f59a759-4b29-4c39-934e-e6c1db90f43e",
   "metadata": {},
   "source": [
    "### Identity metrix "
   ]
  },
  {
   "cell_type": "code",
   "execution_count": 53,
   "id": "cab547aa-0503-46ae-80ee-2892303ce352",
   "metadata": {},
   "outputs": [
    {
     "data": {
      "text/plain": [
       "array([[1., 0., 0.],\n",
       "       [0., 1., 0.],\n",
       "       [0., 0., 1.]])"
      ]
     },
     "execution_count": 53,
     "metadata": {},
     "output_type": "execute_result"
    }
   ],
   "source": [
    "# Identity metrix \n",
    "np.eye(3)"
   ]
  },
  {
   "cell_type": "markdown",
   "id": "1957d5a0-6ae3-4fa6-a6fd-51a89fc602aa",
   "metadata": {},
   "source": [
    "### Empty array "
   ]
  },
  {
   "cell_type": "code",
   "execution_count": 50,
   "id": "bef908ec-fc4d-44bd-be50-d65f0421699b",
   "metadata": {},
   "outputs": [
    {
     "data": {
      "text/plain": [
       "array([1., 1., 1., 1., 1., 1., 1., 1., 1., 1.])"
      ]
     },
     "execution_count": 50,
     "metadata": {},
     "output_type": "execute_result"
    }
   ],
   "source": [
    "# creates array without initializating it \n",
    "np.empty(10)"
   ]
  },
  {
   "cell_type": "markdown",
   "id": "2b890456-b122-44a4-b566-bc42f8f782d5",
   "metadata": {},
   "source": [
    "# Array Indexing "
   ]
  },
  {
   "cell_type": "code",
   "execution_count": 4,
   "id": "d9760ba1-16fd-4cfc-aaf2-7d3d35ce01a9",
   "metadata": {},
   "outputs": [
    {
     "name": "stdout",
     "output_type": "stream",
     "text": [
      "[1 2 3]\n"
     ]
    }
   ],
   "source": [
    "x = np.array([1, 2, 3])\n",
    "print(x)"
   ]
  },
  {
   "cell_type": "code",
   "execution_count": 5,
   "id": "cade6f5a-6183-450b-aec5-9db4a79bcd82",
   "metadata": {},
   "outputs": [
    {
     "name": "stdout",
     "output_type": "stream",
     "text": [
      "1\n"
     ]
    }
   ],
   "source": [
    "print(x[0])"
   ]
  },
  {
   "cell_type": "code",
   "execution_count": 9,
   "id": "a98550f6-638c-40b2-b558-58f11da87a29",
   "metadata": {},
   "outputs": [
    {
     "name": "stdout",
     "output_type": "stream",
     "text": [
      "6\n"
     ]
    }
   ],
   "source": [
    "x2 = np.array([[1, 2, 3], [4, 5, 6], [7, 8, 0]])\n",
    "print(x2[1, 2])"
   ]
  },
  {
   "cell_type": "code",
   "execution_count": 15,
   "id": "3236d7bc-c743-4a8e-a778-46af754fcd44",
   "metadata": {},
   "outputs": [
    {
     "name": "stdout",
     "output_type": "stream",
     "text": [
      "x[:7] => [0 1 2 3 4 5 6]\n",
      "x[7:] => [7 8 9]\n",
      "x[3:8] => [3 4 5 6 7]\n",
      "x[:-1] => [0 1 2 3 4 5 6 7 8]\n",
      "x[1:5:2] => [1 3]\n",
      "x[::] =>  [0 1 2 3 4 5 6 7 8 9]\n"
     ]
    }
   ],
   "source": [
    "x = np.arange(10)\n",
    "# Splicing \n",
    "print(\"x[:7] =>\", x[:7])\n",
    "print(\"x[7:] =>\", x[7:])\n",
    "print(\"x[3:8] =>\", x[3:8])\n",
    "print(\"x[:-1] =>\", x[:-1])\n",
    "print(\"x[1:5:2] =>\", x[1:5:2])\n",
    "print(\"x[::] => \", x[::])"
   ]
  },
  {
   "cell_type": "code",
   "execution_count": 17,
   "id": "13894517-62e7-4573-bbd2-507717e1044c",
   "metadata": {},
   "outputs": [
    {
     "data": {
      "text/plain": [
       "array([[ 3,  5],\n",
       "       [ 7,  8],\n",
       "       [10, 11]])"
      ]
     },
     "execution_count": 17,
     "metadata": {},
     "output_type": "execute_result"
    }
   ],
   "source": [
    "## Splicing multiple rows \n",
    "x = np.array([[3, 5, 6], \n",
    "     [7, 8, 9],\n",
    "     [10, 11, 12]])\n",
    "x[:3, :2] # x[rows, column]"
   ]
  },
  {
   "cell_type": "code",
   "execution_count": 25,
   "id": "599b1206-3fd3-4df1-9a25-5de36e48be3d",
   "metadata": {},
   "outputs": [
    {
     "data": {
      "text/plain": [
       "array([[3, 5]])"
      ]
     },
     "execution_count": 25,
     "metadata": {},
     "output_type": "execute_result"
    }
   ],
   "source": [
    "x[0:1, 0:2]"
   ]
  },
  {
   "cell_type": "markdown",
   "id": "0456d9f5-a678-4df2-bdf0-251a43b78a9c",
   "metadata": {},
   "source": [
    "### reshape method "
   ]
  },
  {
   "cell_type": "code",
   "execution_count": 26,
   "id": "1f53303a-dd09-48ec-80e0-e74595be658d",
   "metadata": {},
   "outputs": [
    {
     "data": {
      "text/plain": [
       "array([[1, 2, 3],\n",
       "       [4, 5, 6]])"
      ]
     },
     "execution_count": 26,
     "metadata": {},
     "output_type": "execute_result"
    }
   ],
   "source": [
    "n = np.array([1, 2, 3, 4, 5, 6])\n",
    "n = n.reshape((2, 3))"
   ]
  },
  {
   "cell_type": "code",
   "execution_count": 36,
   "id": "5cdc0bf5-8c14-48b9-a577-4d0735ea5cc2",
   "metadata": {},
   "outputs": [
    {
     "data": {
      "text/plain": [
       "array([[1, 2],\n",
       "       [3, 4],\n",
       "       [5, 6]])"
      ]
     },
     "execution_count": 36,
     "metadata": {},
     "output_type": "execute_result"
    }
   ],
   "source": [
    "n.reshape((3, 2))"
   ]
  },
  {
   "cell_type": "code",
   "execution_count": 29,
   "id": "10101e87-6ee5-4dd5-8f14-77880709c13d",
   "metadata": {},
   "outputs": [
    {
     "data": {
      "text/plain": [
       "array([1, 2, 3, 4, 5, 6])"
      ]
     },
     "execution_count": 29,
     "metadata": {},
     "output_type": "execute_result"
    }
   ],
   "source": [
    "n.flatten()"
   ]
  },
  {
   "cell_type": "markdown",
   "id": "9ff61e8a-9b35-468a-bebd-4b09587d9740",
   "metadata": {},
   "source": [
    "### Concatenate Method"
   ]
  },
  {
   "cell_type": "code",
   "execution_count": 31,
   "id": "8ab47db7-5881-426d-906a-8f351d292f0a",
   "metadata": {},
   "outputs": [
    {
     "data": {
      "text/plain": [
       "array([1, 2, 3, 4, 4, 5, 6, 7])"
      ]
     },
     "execution_count": 31,
     "metadata": {},
     "output_type": "execute_result"
    }
   ],
   "source": [
    "x = [1, 2, 3, 4]\n",
    "y = [4, 5, 6, 7]\n",
    "\n",
    "np.concatenate([x, y])"
   ]
  },
  {
   "cell_type": "code",
   "execution_count": 34,
   "id": "70a66a57-4684-49b0-a869-74707d36ec03",
   "metadata": {},
   "outputs": [
    {
     "data": {
      "text/plain": [
       "array([[1, 2, 3, 4],\n",
       "       [4, 5, 6, 7]])"
      ]
     },
     "execution_count": 34,
     "metadata": {},
     "output_type": "execute_result"
    }
   ],
   "source": [
    "np.vstack([x, y])"
   ]
  },
  {
   "cell_type": "code",
   "execution_count": 46,
   "id": "860c12f8-e9c6-4784-8c51-2e4b0319e494",
   "metadata": {},
   "outputs": [
    {
     "ename": "ValueError",
     "evalue": "all the input array dimensions except for the concatenation axis must match exactly, but along dimension 1, the array at index 0 has size 3 and the array at index 1 has size 2",
     "output_type": "error",
     "traceback": [
      "\u001b[0;31m---------------------------------------------------------------------------\u001b[0m",
      "\u001b[0;31mValueError\u001b[0m                                Traceback (most recent call last)",
      "Cell \u001b[0;32mIn[46], line 5\u001b[0m\n\u001b[1;32m      1\u001b[0m x \u001b[38;5;241m=\u001b[39m np\u001b[38;5;241m.\u001b[39marray([[\u001b[38;5;241m1\u001b[39m, \u001b[38;5;241m2\u001b[39m, \u001b[38;5;241m3\u001b[39m], \n\u001b[1;32m      2\u001b[0m              [\u001b[38;5;241m4\u001b[39m, \u001b[38;5;241m5\u001b[39m, \u001b[38;5;241m6\u001b[39m]])\n\u001b[1;32m      3\u001b[0m y \u001b[38;5;241m=\u001b[39m np\u001b[38;5;241m.\u001b[39marray([\u001b[38;5;241m1\u001b[39m, \u001b[38;5;241m2\u001b[39m])\n\u001b[0;32m----> 5\u001b[0m np\u001b[38;5;241m.\u001b[39mvstack([x, y])\n",
      "File \u001b[0;32m~/anaconda3/lib/python3.12/site-packages/numpy/core/shape_base.py:289\u001b[0m, in \u001b[0;36mvstack\u001b[0;34m(tup, dtype, casting)\u001b[0m\n\u001b[1;32m    287\u001b[0m \u001b[38;5;28;01mif\u001b[39;00m \u001b[38;5;129;01mnot\u001b[39;00m \u001b[38;5;28misinstance\u001b[39m(arrs, \u001b[38;5;28mlist\u001b[39m):\n\u001b[1;32m    288\u001b[0m     arrs \u001b[38;5;241m=\u001b[39m [arrs]\n\u001b[0;32m--> 289\u001b[0m \u001b[38;5;28;01mreturn\u001b[39;00m _nx\u001b[38;5;241m.\u001b[39mconcatenate(arrs, \u001b[38;5;241m0\u001b[39m, dtype\u001b[38;5;241m=\u001b[39mdtype, casting\u001b[38;5;241m=\u001b[39mcasting)\n",
      "\u001b[0;31mValueError\u001b[0m: all the input array dimensions except for the concatenation axis must match exactly, but along dimension 1, the array at index 0 has size 3 and the array at index 1 has size 2"
     ]
    }
   ],
   "source": [
    "x = np.array([[1, 2, 3], \n",
    "             [4, 5, 6]])\n",
    "y = np.array([1, 2])\n",
    "\n",
    "np.hstack([x, y])"
   ]
  },
  {
   "cell_type": "code",
   "execution_count": null,
   "id": "7b2d3928-a742-42ec-af54-c9855b072b2b",
   "metadata": {},
   "outputs": [],
   "source": []
  }
 ],
 "metadata": {
  "kernelspec": {
   "display_name": "Python 3 (ipykernel)",
   "language": "python",
   "name": "python3"
  },
  "language_info": {
   "codemirror_mode": {
    "name": "ipython",
    "version": 3
   },
   "file_extension": ".py",
   "mimetype": "text/x-python",
   "name": "python",
   "nbconvert_exporter": "python",
   "pygments_lexer": "ipython3",
   "version": "3.12.4"
  }
 },
 "nbformat": 4,
 "nbformat_minor": 5
}
