{
 "cells": [
  {
   "cell_type": "code",
   "execution_count": 2,
   "id": "b2f7050e-e0f4-4348-b72e-d57889c7a4dd",
   "metadata": {},
   "outputs": [],
   "source": [
    "import numpy as np "
   ]
  },
  {
   "cell_type": "markdown",
   "id": "d96fbba7-b1a9-48d9-b683-36cfb258923e",
   "metadata": {},
   "source": [
    "## Creating array from Python list  \n",
    "---"
   ]
  },
  {
   "cell_type": "code",
   "execution_count": 11,
   "id": "0f2e614e-36f8-4ae7-996f-a10d16d723ea",
   "metadata": {},
   "outputs": [
    {
     "name": "stdout",
     "output_type": "stream",
     "text": [
      "[2 4 5 6]\n",
      "<class 'numpy.ndarray'>\n"
     ]
    }
   ],
   "source": [
    "my_arr = np.array([2, 4, 5, 6])\n",
    "print(my_arr)\n",
    "print(type(my_arr))"
   ]
  },
  {
   "cell_type": "code",
   "execution_count": 15,
   "id": "a7ab011c-63cf-4ac0-beb2-1ed74ccf9368",
   "metadata": {},
   "outputs": [
    {
     "data": {
      "text/plain": [
       "array([1. , 2.4, 2. , 4. ])"
      ]
     },
     "execution_count": 15,
     "metadata": {},
     "output_type": "execute_result"
    }
   ],
   "source": [
    "# Float data Type \n",
    "np.array([1, 2.4, 2, 4]) # Converts all items to float"
   ]
  },
  {
   "cell_type": "code",
   "execution_count": 14,
   "id": "575885b0-7798-4bb6-a54b-f51afcfac79e",
   "metadata": {},
   "outputs": [
    {
     "data": {
      "text/plain": [
       "array(['1', '3.0', '5', 'str'], dtype='<U32')"
      ]
     },
     "execution_count": 14,
     "metadata": {},
     "output_type": "execute_result"
    }
   ],
   "source": [
    "# int and string in list\n",
    "np.array([1, 3.0, 5, \"str\"]) # Converts all items to Str"
   ]
  },
  {
   "cell_type": "markdown",
   "id": "4e604806-7712-484c-917b-590b017389d0",
   "metadata": {},
   "source": [
    "`We can also explicitly set the data type of the array using hte dtype keyword, as follow:`"
   ]
  },
  {
   "cell_type": "code",
   "execution_count": 16,
   "id": "89237c48-1eef-49e1-9ec8-854f1547eaf3",
   "metadata": {},
   "outputs": [
    {
     "data": {
      "text/plain": [
       "array([1, 2, 3, 4], dtype=int16)"
      ]
     },
     "execution_count": 16,
     "metadata": {},
     "output_type": "execute_result"
    }
   ],
   "source": [
    "np.array([1.24, 2, 3, 4], dtype='int16') # 16 represents no of bit"
   ]
  },
  {
   "cell_type": "code",
   "execution_count": 17,
   "id": "149ec8e0-1c61-435d-97df-bca3d54ded3b",
   "metadata": {},
   "outputs": [
    {
     "data": {
      "text/plain": [
       "array([1.25, 2.  , 3.  , 4.  ], dtype=float32)"
      ]
     },
     "execution_count": 17,
     "metadata": {},
     "output_type": "execute_result"
    }
   ],
   "source": [
    "np.array([1.25, 2, 3, 4], dtype='float32')"
   ]
  },
  {
   "cell_type": "markdown",
   "id": "4315e750-ee24-43a0-9c37-030ce4956b80",
   "metadata": {},
   "source": [
    "## Multi dimensional array \n",
    "---"
   ]
  },
  {
   "cell_type": "code",
   "execution_count": 19,
   "id": "a688b71b-78ff-444a-9604-2485c45ac4e9",
   "metadata": {},
   "outputs": [
    {
     "data": {
      "text/plain": [
       "array([[1, 2, 3],\n",
       "       [4, 5, 6],\n",
       "       [7, 8, 9]])"
      ]
     },
     "execution_count": 19,
     "metadata": {},
     "output_type": "execute_result"
    }
   ],
   "source": [
    "np.array([  [1, 2, 3], \n",
    "            [4, 5, 6], \n",
    "            [7, 8, 9]])"
   ]
  },
  {
   "cell_type": "code",
   "execution_count": 22,
   "id": "fecfe781-9356-499f-a7bb-1c29f936bc70",
   "metadata": {},
   "outputs": [
    {
     "data": {
      "text/plain": [
       "array([0, 0, 0, 0, 0])"
      ]
     },
     "execution_count": 22,
     "metadata": {},
     "output_type": "execute_result"
    }
   ],
   "source": [
    "np.zeros(5, dtype=int)"
   ]
  },
  {
   "cell_type": "code",
   "execution_count": 24,
   "id": "df19aae5-0420-411d-bdc7-faf0a8c3ae6d",
   "metadata": {},
   "outputs": [
    {
     "data": {
      "text/plain": [
       "array([[1., 1.],\n",
       "       [1., 1.],\n",
       "       [1., 1.],\n",
       "       [1., 1.],\n",
       "       [1., 1.]])"
      ]
     },
     "execution_count": 24,
     "metadata": {},
     "output_type": "execute_result"
    }
   ],
   "source": [
    "np.ones((5, 2), dtype=float)"
   ]
  },
  {
   "cell_type": "markdown",
   "id": "48c9c466-f727-4c96-ace8-c5a8be0100e5",
   "metadata": {},
   "source": [
    "## Some numpy methods\n",
    "---"
   ]
  },
  {
   "cell_type": "code",
   "execution_count": 28,
   "id": "55803734-f035-4de7-bc12-87989e3fdcd2",
   "metadata": {},
   "outputs": [
    {
     "data": {
      "text/plain": [
       "array([ 1,  2,  3,  4,  5,  6,  7,  8,  9, 10, 11, 12, 13, 14, 15, 16, 17,\n",
       "       18, 19, 20, 21, 22, 23, 24, 25, 26, 27, 28, 29, 30])"
      ]
     },
     "execution_count": 28,
     "metadata": {},
     "output_type": "execute_result"
    }
   ],
   "source": [
    "np.arange(1, 31, 1) # starting: stoping: step"
   ]
  },
  {
   "cell_type": "code",
   "execution_count": 32,
   "id": "348e7e35-be59-4398-8c6d-a496b8782709",
   "metadata": {},
   "outputs": [
    {
     "data": {
      "text/plain": [
       "array([0.  , 0.25, 0.5 , 0.75, 1.  ])"
      ]
     },
     "execution_count": 32,
     "metadata": {},
     "output_type": "execute_result"
    }
   ],
   "source": [
    "np.linspace(0, 1, 5) # linspace = linear spacing # eqully spaces and it's inclusive"
   ]
  },
  {
   "cell_type": "markdown",
   "id": "4153ce4e-5d33-4799-a8e8-15a7f54e5ffa",
   "metadata": {},
   "source": [
    "### Numpy random"
   ]
  },
  {
   "cell_type": "code",
   "execution_count": 34,
   "id": "a0a88fcd-7124-419c-8fdf-98d2573cfeac",
   "metadata": {},
   "outputs": [
    {
     "data": {
      "text/plain": [
       "array([[0.02310022, 0.59254043, 0.37369436],\n",
       "       [0.28698824, 0.24968674, 0.66606117],\n",
       "       [0.8233144 , 0.63133645, 0.80869642]])"
      ]
     },
     "execution_count": 34,
     "metadata": {},
     "output_type": "execute_result"
    }
   ],
   "source": [
    "np.random.random((3, 3))"
   ]
  },
  {
   "cell_type": "code",
   "execution_count": 51,
   "id": "d10de418-b77b-48de-99a0-2e7953a02555",
   "metadata": {},
   "outputs": [
    {
     "data": {
      "text/plain": [
       "array([[-1.20574758,  1.08626708, -1.780056  ],\n",
       "       [-0.08679959,  0.44222258,  0.89270387],\n",
       "       [-1.10544765,  1.35215636,  1.17044169]])"
      ]
     },
     "execution_count": 51,
     "metadata": {},
     "output_type": "execute_result"
    }
   ],
   "source": [
    "# Create a 3x3 array of normally distributed random values with mean (avarage) \n",
    "# 0 mean and standard deviation 1 \n",
    "np.random.normal(0, 1, (3, 3)) # first parameter = mean; second = standard deviation; third = dimension "
   ]
  },
  {
   "cell_type": "code",
   "execution_count": 44,
   "id": "5b075097-b59b-4abd-9c9c-8d14214f6eac",
   "metadata": {},
   "outputs": [],
   "source": [
    "# discriptive stat => mean median  and infrencial stat => result and conclusion; hypothesis testing, normalization"
   ]
  },
  {
   "cell_type": "code",
   "execution_count": 48,
   "id": "97e712cc-2e5a-4495-a856-a59d42441753",
   "metadata": {},
   "outputs": [
    {
     "data": {
      "text/plain": [
       "array([[4, 7],\n",
       "       [9, 6],\n",
       "       [1, 0]])"
      ]
     },
     "execution_count": 48,
     "metadata": {},
     "output_type": "execute_result"
    }
   ],
   "source": [
    "np.random.randint(0, 10, (3, 2)) #first parameter: start; second: stop; third: dimension"
   ]
  },
  {
   "cell_type": "markdown",
   "id": "9f59a759-4b29-4c39-934e-e6c1db90f43e",
   "metadata": {},
   "source": [
    "### Identity metrix "
   ]
  },
  {
   "cell_type": "code",
   "execution_count": 53,
   "id": "cab547aa-0503-46ae-80ee-2892303ce352",
   "metadata": {},
   "outputs": [
    {
     "data": {
      "text/plain": [
       "array([[1., 0., 0.],\n",
       "       [0., 1., 0.],\n",
       "       [0., 0., 1.]])"
      ]
     },
     "execution_count": 53,
     "metadata": {},
     "output_type": "execute_result"
    }
   ],
   "source": [
    "# Identity metrix \n",
    "np.eye(3)"
   ]
  },
  {
   "cell_type": "markdown",
   "id": "1957d5a0-6ae3-4fa6-a6fd-51a89fc602aa",
   "metadata": {},
   "source": [
    "### Empty array "
   ]
  },
  {
   "cell_type": "code",
   "execution_count": 50,
   "id": "bef908ec-fc4d-44bd-be50-d65f0421699b",
   "metadata": {},
   "outputs": [
    {
     "data": {
      "text/plain": [
       "array([1., 1., 1., 1., 1., 1., 1., 1., 1., 1.])"
      ]
     },
     "execution_count": 50,
     "metadata": {},
     "output_type": "execute_result"
    }
   ],
   "source": [
    "# creates array without initializating it \n",
    "np.empty(10)"
   ]
  },
  {
   "cell_type": "markdown",
   "id": "3c4e7a8a-9d45-495e-9624-f0d33912a590",
   "metadata": {},
   "source": [
    "## ndim, shape & size"
   ]
  },
  {
   "cell_type": "code",
   "execution_count": 6,
   "id": "59fc1161-8114-41ef-a1a6-54b9ab7b077a",
   "metadata": {},
   "outputs": [
    {
     "data": {
      "text/plain": [
       "array([[[8, 1, 5, 9],\n",
       "        [8, 9, 4, 3],\n",
       "        [0, 3, 5, 0]],\n",
       "\n",
       "       [[2, 3, 8, 1],\n",
       "        [3, 3, 3, 7],\n",
       "        [0, 1, 9, 9]]])"
      ]
     },
     "execution_count": 6,
     "metadata": {},
     "output_type": "execute_result"
    }
   ],
   "source": [
    "np.random.seed(0)\n",
    "x1 = np.random.randint(10, size= 6)\n",
    "x2 = np.random.randint(10, size =(4, 3))\n",
    "x3 = np.random.randint(10, size = (2, 3, 4))\n",
    "x3"
   ]
  },
  {
   "cell_type": "markdown",
   "id": "15d39873-db75-4469-a73a-281f65dd9e6e",
   "metadata": {},
   "source": [
    "The Above array have following attributes\n",
    "- ndim => Number of dimension\n",
    "- shape => Size of each dimension\n",
    "- size => Total size of array "
   ]
  },
  {
   "cell_type": "code",
   "execution_count": 8,
   "id": "00649812-cbb0-4bf7-a2df-e1bacf253cf9",
   "metadata": {},
   "outputs": [
    {
     "name": "stdout",
     "output_type": "stream",
     "text": [
      "1\n",
      "2\n",
      "3\n"
     ]
    }
   ],
   "source": [
    "#number of dimension \n",
    "print(x1.ndim)\n",
    "print(x2.ndim)\n",
    "print(x3.ndim)"
   ]
  },
  {
   "cell_type": "code",
   "execution_count": 9,
   "id": "63857aa3-586e-4468-9705-78cdb82d5401",
   "metadata": {},
   "outputs": [
    {
     "name": "stdout",
     "output_type": "stream",
     "text": [
      "(6,)\n",
      "(4, 3)\n",
      "(2, 3, 4)\n"
     ]
    }
   ],
   "source": [
    "# Shape \n",
    "print(x1.shape)\n",
    "print(x2.shape)\n",
    "print(x3.shape)"
   ]
  },
  {
   "cell_type": "code",
   "execution_count": 10,
   "id": "b43bbb1d-6653-4beb-8191-bb651f6afa47",
   "metadata": {},
   "outputs": [
    {
     "name": "stdout",
     "output_type": "stream",
     "text": [
      "6\n",
      "12\n",
      "24\n"
     ]
    }
   ],
   "source": [
    "# size\n",
    "print(x1.size)\n",
    "print(x2.size)\n",
    "print(x3.size)"
   ]
  },
  {
   "cell_type": "code",
   "execution_count": 11,
   "id": "80ae1ae3-2da4-4e9d-ac0d-bd577ab4f6c8",
   "metadata": {},
   "outputs": [
    {
     "data": {
      "text/plain": [
       "dtype('int64')"
      ]
     },
     "execution_count": 11,
     "metadata": {},
     "output_type": "execute_result"
    }
   ],
   "source": [
    "#dtype\n",
    "x1.dtype"
   ]
  },
  {
   "cell_type": "markdown",
   "id": "2b890456-b122-44a4-b566-bc42f8f782d5",
   "metadata": {},
   "source": [
    "# Array Indexing "
   ]
  },
  {
   "cell_type": "code",
   "execution_count": 4,
   "id": "d9760ba1-16fd-4cfc-aaf2-7d3d35ce01a9",
   "metadata": {},
   "outputs": [
    {
     "name": "stdout",
     "output_type": "stream",
     "text": [
      "[1 2 3]\n"
     ]
    }
   ],
   "source": [
    "x = np.array([1, 2, 3])\n",
    "print(x)"
   ]
  },
  {
   "cell_type": "code",
   "execution_count": 5,
   "id": "cade6f5a-6183-450b-aec5-9db4a79bcd82",
   "metadata": {},
   "outputs": [
    {
     "name": "stdout",
     "output_type": "stream",
     "text": [
      "1\n"
     ]
    }
   ],
   "source": [
    "print(x[0])"
   ]
  },
  {
   "cell_type": "code",
   "execution_count": 9,
   "id": "a98550f6-638c-40b2-b558-58f11da87a29",
   "metadata": {},
   "outputs": [
    {
     "name": "stdout",
     "output_type": "stream",
     "text": [
      "6\n"
     ]
    }
   ],
   "source": [
    "x2 = np.array([[1, 2, 3], [4, 5, 6], [7, 8, 0]])\n",
    "print(x2[1, 2])"
   ]
  },
  {
   "cell_type": "code",
   "execution_count": 15,
   "id": "3236d7bc-c743-4a8e-a778-46af754fcd44",
   "metadata": {},
   "outputs": [
    {
     "name": "stdout",
     "output_type": "stream",
     "text": [
      "x[:7] => [0 1 2 3 4 5 6]\n",
      "x[7:] => [7 8 9]\n",
      "x[3:8] => [3 4 5 6 7]\n",
      "x[:-1] => [0 1 2 3 4 5 6 7 8]\n",
      "x[1:5:2] => [1 3]\n",
      "x[::] =>  [0 1 2 3 4 5 6 7 8 9]\n"
     ]
    }
   ],
   "source": [
    "x = np.arange(10)\n",
    "# Splicing \n",
    "print(\"x[:7] =>\", x[:7])\n",
    "print(\"x[7:] =>\", x[7:])\n",
    "print(\"x[3:8] =>\", x[3:8])\n",
    "print(\"x[:-1] =>\", x[:-1])\n",
    "print(\"x[1:5:2] =>\", x[1:5:2])\n",
    "print(\"x[::] => \", x[::])"
   ]
  },
  {
   "cell_type": "code",
   "execution_count": 17,
   "id": "13894517-62e7-4573-bbd2-507717e1044c",
   "metadata": {},
   "outputs": [
    {
     "data": {
      "text/plain": [
       "array([[ 3,  5],\n",
       "       [ 7,  8],\n",
       "       [10, 11]])"
      ]
     },
     "execution_count": 17,
     "metadata": {},
     "output_type": "execute_result"
    }
   ],
   "source": [
    "## Splicing multiple rows \n",
    "x = np.array([[3, 5, 6], \n",
    "     [7, 8, 9],\n",
    "     [10, 11, 12]])\n",
    "x[:3, :2] # x[rows, column]"
   ]
  },
  {
   "cell_type": "code",
   "execution_count": 25,
   "id": "599b1206-3fd3-4df1-9a25-5de36e48be3d",
   "metadata": {},
   "outputs": [
    {
     "data": {
      "text/plain": [
       "array([[3, 5]])"
      ]
     },
     "execution_count": 25,
     "metadata": {},
     "output_type": "execute_result"
    }
   ],
   "source": [
    "x[0:1, 0:2]"
   ]
  },
  {
   "cell_type": "markdown",
   "id": "0456d9f5-a678-4df2-bdf0-251a43b78a9c",
   "metadata": {},
   "source": [
    "### reshape method "
   ]
  },
  {
   "cell_type": "code",
   "execution_count": 26,
   "id": "1f53303a-dd09-48ec-80e0-e74595be658d",
   "metadata": {},
   "outputs": [
    {
     "data": {
      "text/plain": [
       "array([[1, 2, 3],\n",
       "       [4, 5, 6]])"
      ]
     },
     "execution_count": 26,
     "metadata": {},
     "output_type": "execute_result"
    }
   ],
   "source": [
    "n = np.array([1, 2, 3, 4, 5, 6])\n",
    "n = n.reshape((2, 3))"
   ]
  },
  {
   "cell_type": "code",
   "execution_count": 36,
   "id": "5cdc0bf5-8c14-48b9-a577-4d0735ea5cc2",
   "metadata": {},
   "outputs": [
    {
     "data": {
      "text/plain": [
       "array([[1, 2],\n",
       "       [3, 4],\n",
       "       [5, 6]])"
      ]
     },
     "execution_count": 36,
     "metadata": {},
     "output_type": "execute_result"
    }
   ],
   "source": [
    "n.reshape((3, 2))"
   ]
  },
  {
   "cell_type": "code",
   "execution_count": 29,
   "id": "10101e87-6ee5-4dd5-8f14-77880709c13d",
   "metadata": {},
   "outputs": [
    {
     "data": {
      "text/plain": [
       "array([1, 2, 3, 4, 5, 6])"
      ]
     },
     "execution_count": 29,
     "metadata": {},
     "output_type": "execute_result"
    }
   ],
   "source": [
    "n.flatten()"
   ]
  },
  {
   "cell_type": "markdown",
   "id": "9ff61e8a-9b35-468a-bebd-4b09587d9740",
   "metadata": {},
   "source": [
    "### Concatenate Method"
   ]
  },
  {
   "cell_type": "code",
   "execution_count": 31,
   "id": "8ab47db7-5881-426d-906a-8f351d292f0a",
   "metadata": {},
   "outputs": [
    {
     "data": {
      "text/plain": [
       "array([1, 2, 3, 4, 4, 5, 6, 7])"
      ]
     },
     "execution_count": 31,
     "metadata": {},
     "output_type": "execute_result"
    }
   ],
   "source": [
    "x = [1, 2, 3, 4]\n",
    "y = [4, 5, 6, 7]\n",
    "\n",
    "np.concatenate([x, y])"
   ]
  },
  {
   "cell_type": "code",
   "execution_count": 34,
   "id": "70a66a57-4684-49b0-a869-74707d36ec03",
   "metadata": {},
   "outputs": [
    {
     "data": {
      "text/plain": [
       "array([[1, 2, 3, 4],\n",
       "       [4, 5, 6, 7]])"
      ]
     },
     "execution_count": 34,
     "metadata": {},
     "output_type": "execute_result"
    }
   ],
   "source": [
    "np.vstack([x, y])"
   ]
  },
  {
   "cell_type": "markdown",
   "id": "c120a729-db38-466f-a2b9-332a0fc09c49",
   "metadata": {},
   "source": [
    "## Math methods "
   ]
  },
  {
   "cell_type": "code",
   "execution_count": 13,
   "id": "7b2d3928-a742-42ec-af54-c9855b072b2b",
   "metadata": {},
   "outputs": [
    {
     "name": "stdout",
     "output_type": "stream",
     "text": [
      "2.95 ms ± 204 μs per loop (mean ± std. dev. of 7 runs, 100 loops each)\n"
     ]
    }
   ],
   "source": [
    "# timeit method \n",
    "%timeit sum(range(100000))"
   ]
  },
  {
   "cell_type": "code",
   "execution_count": 11,
   "id": "c86a8e60-54d7-49a7-af87-c7ac8ed21290",
   "metadata": {},
   "outputs": [
    {
     "name": "stdout",
     "output_type": "stream",
     "text": [
      "115 μs ± 10.9 μs per loop (mean ± std. dev. of 7 runs, 10,000 loops each)\n"
     ]
    }
   ],
   "source": [
    "%timeit np.sum(np.arange(100000))"
   ]
  },
  {
   "cell_type": "markdown",
   "id": "4f8ff713-d9a8-4341-956e-65842cc299cd",
   "metadata": {},
   "source": [
    "### Exercise "
   ]
  },
  {
   "cell_type": "code",
   "execution_count": 21,
   "id": "ec1ec5cb-77e4-44d1-8c0b-f1d12fff199c",
   "metadata": {},
   "outputs": [
    {
     "name": "stdout",
     "output_type": "stream",
     "text": [
      "Mean (average) height:\t 179.73809523809524\n",
      "Standard Deviation: \t 6.931843442745892\n",
      "Maximum height:\t 163\n",
      "Maximum height:\t 193\n"
     ]
    }
   ],
   "source": [
    "import pandas as pd \n",
    "\n",
    "df = pd.read_csv(\"president_heights.csv\")\n",
    "heights = np.array(df[\"height(cm)\"])\n",
    "print(\"Mean (average) height:\\t\", heights.mean())\n",
    "print(\"Standard Deviation: \\t\", heights.std())\n",
    "print(\"Maximum height:\\t\", heights.min())\n",
    "print(\"Maximum height:\\t\", heights.max())"
   ]
  },
  {
   "cell_type": "code",
   "execution_count": 23,
   "id": "4ae4ed67-eddb-44f8-8f9b-369f7604c4cf",
   "metadata": {},
   "outputs": [
    {
     "data": {
      "text/plain": [
       "Text(0, 0.5, 'number')"
      ]
     },
     "execution_count": 23,
     "metadata": {},
     "output_type": "execute_result"
    },
    {
     "data": {
      "image/png": "[encoded data removed]",
      "text/plain": [
       "<Figure size 640x480 with 1 Axes>"
      ]
     },
     "metadata": {},
     "output_type": "display_data"
    }
   ],
   "source": [
    "import matplotlib.pyplot as plt\n",
    "import seaborn; seaborn.set()\n",
    "\n",
    "plt.hist(heights)\n",
    "plt.title(\"Height Distriburion of US Presidents\")\n",
    "plt.xlabel(\"Height (cm)\")\n",
    "plt.ylabel(\"number\")"
   ]
  },
  {
   "cell_type": "markdown",
   "id": "68898eb8-8ad4-4dfb-ba55-34704283c8cd",
   "metadata": {},
   "source": [
    "# Broadcasting in Practice "
   ]
  },
  {
   "cell_type": "code",
   "execution_count": 9,
   "id": "96c42f5f-ec9e-4c93-9e57-ca3575be2851",
   "metadata": {},
   "outputs": [
    {
     "data": {
      "text/plain": [
       "array([[8, 7, 3],\n",
       "       [6, 6, 4]])"
      ]
     },
     "execution_count": 9,
     "metadata": {},
     "output_type": "execute_result"
    }
   ],
   "source": [
    "x = np.random.randint(2, 10, (2, 3))\n",
    "x[:5]"
   ]
  },
  {
   "cell_type": "code",
   "execution_count": 10,
   "id": "51e6026a-e9f5-40ba-b1eb-2eb0dbdbf08a",
   "metadata": {},
   "outputs": [
    {
     "data": {
      "text/plain": [
       "array([7. , 6.5, 3.5])"
      ]
     },
     "execution_count": 10,
     "metadata": {},
     "output_type": "execute_result"
    }
   ],
   "source": [
    "x_mean = x.mean(axis=0)\n",
    "x_mean"
   ]
  },
  {
   "cell_type": "code",
   "execution_count": 12,
   "id": "40bd30ff-0485-4963-b366-0d8bbcee3d1d",
   "metadata": {},
   "outputs": [
    {
     "data": {
      "text/plain": [
       "array([[False, False,  True],\n",
       "       [False, False, False]])"
      ]
     },
     "execution_count": 12,
     "metadata": {},
     "output_type": "execute_result"
    }
   ],
   "source": [
    "x < 4"
   ]
  },
  {
   "cell_type": "markdown",
   "id": "765ccd30-5624-4edc-8ffa-ae7b3800ee84",
   "metadata": {},
   "source": [
    "# Boolean Arrays as Masking"
   ]
  },
  {
   "cell_type": "code",
   "execution_count": 14,
   "id": "c2b08f41-8379-43d8-b539-276d57658c55",
   "metadata": {},
   "outputs": [
    {
     "data": {
      "text/plain": [
       "array([[7, 7, 4, 3],\n",
       "       [5, 2, 7, 9],\n",
       "       [1, 3, 6, 2]])"
      ]
     },
     "execution_count": 14,
     "metadata": {},
     "output_type": "execute_result"
    }
   ],
   "source": [
    "import numpy as np \n",
    "\n",
    "x = np.random.randint(0, 10, (3, 4))\n",
    "x"
   ]
  },
  {
   "cell_type": "code",
   "execution_count": 15,
   "id": "cf909ca6-ba3a-4045-8b6b-bd7dc2b9d73c",
   "metadata": {},
   "outputs": [
    {
     "data": {
      "text/plain": [
       "array([[ True,  True, False, False],\n",
       "       [False, False,  True,  True],\n",
       "       [False, False,  True, False]])"
      ]
     },
     "execution_count": 15,
     "metadata": {},
     "output_type": "execute_result"
    }
   ],
   "source": [
    "x > 5"
   ]
  },
  {
   "cell_type": "markdown",
   "id": "52f621f8-171c-4898-abc6-f6f10326fcdd",
   "metadata": {},
   "source": [
    "# Exercise "
   ]
  },
  {
   "cell_type": "code",
   "execution_count": 1,
   "id": "6bdb4643-d4dc-41e9-b33d-14f1e6291698",
   "metadata": {},
   "outputs": [],
   "source": [
    "import numpy as np \n",
    "import pandas as pd \n",
    "import matplotlib.pyplot as plt "
   ]
  },
  {
   "cell_type": "code",
   "execution_count": 4,
   "id": "671d91ff-a1e2-4e95-b2d0-8f09f3163d19",
   "metadata": {},
   "outputs": [
    {
     "data": {
      "text/plain": [
       "array([False, False, False, False, False, False, False, False, False,\n",
       "       False, False, False, False, False, False, False, False, False,\n",
       "       False, False, False, False, False, False, False, False, False,\n",
       "       False, False, False, False, False, False, False, False, False,\n",
       "       False, False, False, False, False, False, False, False, False,\n",
       "       False, False, False, False, False, False, False, False, False,\n",
       "       False, False, False, False, False, False, False, False, False,\n",
       "       False, False, False, False, False, False, False, False, False,\n",
       "       False, False, False, False, False, False, False, False, False,\n",
       "       False, False, False, False, False, False, False, False, False,\n",
       "       False, False, False, False, False, False, False, False, False,\n",
       "       False, False, False, False, False, False, False, False, False,\n",
       "       False, False, False, False, False, False, False, False, False,\n",
       "       False, False, False, False, False, False, False, False, False,\n",
       "       False, False, False, False, False, False, False, False, False,\n",
       "       False, False, False, False, False, False, False, False, False,\n",
       "       False, False, False, False, False, False, False, False, False,\n",
       "       False, False, False, False, False, False, False, False, False,\n",
       "       False, False, False, False, False, False, False, False, False,\n",
       "       False, False,  True,  True,  True,  True,  True,  True,  True,\n",
       "        True,  True,  True,  True,  True,  True,  True,  True,  True,\n",
       "        True,  True,  True,  True,  True,  True,  True,  True,  True,\n",
       "        True,  True,  True,  True,  True,  True,  True,  True,  True,\n",
       "        True,  True,  True,  True,  True,  True,  True,  True,  True,\n",
       "        True,  True,  True,  True,  True,  True,  True,  True,  True,\n",
       "        True,  True,  True,  True,  True,  True,  True,  True,  True,\n",
       "        True,  True,  True,  True,  True,  True,  True,  True,  True,\n",
       "        True,  True,  True,  True,  True,  True,  True,  True,  True,\n",
       "        True,  True,  True,  True,  True,  True,  True,  True,  True,\n",
       "        True, False, False, False, False, False, False, False, False,\n",
       "       False, False, False, False, False, False, False, False, False,\n",
       "       False, False, False, False, False, False, False, False, False,\n",
       "       False, False, False, False, False, False, False, False, False,\n",
       "       False, False, False, False, False, False, False, False, False,\n",
       "       False, False, False, False, False, False, False, False, False,\n",
       "       False, False, False, False, False, False, False, False, False,\n",
       "       False, False, False, False, False, False, False, False, False,\n",
       "       False, False, False, False, False, False, False, False, False,\n",
       "       False, False, False, False, False, False, False, False, False,\n",
       "       False, False, False, False, False, False, False, False, False,\n",
       "       False, False, False, False, False])"
      ]
     },
     "execution_count": 4,
     "metadata": {},
     "output_type": "execute_result"
    }
   ],
   "source": [
    "summer = (np.arange(365) - 172 < 90 ) & (np.arange(365) - 172 > 0)\n",
    "summer"
   ]
  },
  {
   "cell_type": "code",
   "execution_count": 5,
   "id": "cad7e877-250a-4c1f-a2c7-a3024ae3dfa0",
   "metadata": {},
   "outputs": [],
   "source": [
    "df = pd.read_csv(\"Seattle2014.csv\")\n",
    "rainfall = df['PRCP'].values"
   ]
  },
  {
   "cell_type": "code",
   "execution_count": 12,
   "id": "86b40607-ddd4-45cc-b536-62b6159447b7",
   "metadata": {},
   "outputs": [],
   "source": [
    "inches = rainfall[summer]"
   ]
  },
  {
   "cell_type": "code",
   "execution_count": 13,
   "id": "5449588b-25dd-4b21-9fbd-b14ff881957e",
   "metadata": {},
   "outputs": [
    {
     "data": {
      "text/plain": [
       "0.0"
      ]
     },
     "execution_count": 13,
     "metadata": {},
     "output_type": "execute_result"
    }
   ],
   "source": [
    "np.median(inches)"
   ]
  },
  {
   "cell_type": "code",
   "execution_count": 14,
   "id": "7f2ed6b0-ca6c-4668-8799-cc448c729c0e",
   "metadata": {},
   "outputs": [
    {
     "data": {
      "text/plain": [
       "216"
      ]
     },
     "execution_count": 14,
     "metadata": {},
     "output_type": "execute_result"
    }
   ],
   "source": [
    "np.max(inches)"
   ]
  },
  {
   "cell_type": "code",
   "execution_count": 15,
   "id": "feaba570-2927-44f8-898a-7fcf7d22abb1",
   "metadata": {},
   "outputs": [
    {
     "data": {
      "text/plain": [
       "0"
      ]
     },
     "execution_count": 15,
     "metadata": {},
     "output_type": "execute_result"
    }
   ],
   "source": [
    "np.min(inches)"
   ]
  },
  {
   "cell_type": "markdown",
   "id": "3656719d-3971-4e67-9e05-0a5aa60546da",
   "metadata": {},
   "source": [
    "# Accessing elements "
   ]
  },
  {
   "cell_type": "code",
   "execution_count": 16,
   "id": "3355b5ac-5d97-47dd-a769-00201deabb69",
   "metadata": {},
   "outputs": [
    {
     "data": {
      "text/plain": [
       "array([20, 13, 90, 45, 88, 97, 66, 42, 36, 85])"
      ]
     },
     "execution_count": 16,
     "metadata": {},
     "output_type": "execute_result"
    }
   ],
   "source": [
    "random = np.random.randint(0, 100, size = 10)\n",
    "random"
   ]
  },
  {
   "cell_type": "code",
   "execution_count": 17,
   "id": "17994d96-6511-429a-9b8e-8fdc8ebd8704",
   "metadata": {},
   "outputs": [
    {
     "data": {
      "text/plain": [
       "(20, 13, 42)"
      ]
     },
     "execution_count": 17,
     "metadata": {},
     "output_type": "execute_result"
    }
   ],
   "source": [
    "random[0], random[1], random[7]"
   ]
  },
  {
   "cell_type": "code",
   "execution_count": 18,
   "id": "3e892e9b-7d5c-4b33-b51a-a9104dd32edf",
   "metadata": {},
   "outputs": [
    {
     "data": {
      "text/plain": [
       "array([20, 13, 42])"
      ]
     },
     "execution_count": 18,
     "metadata": {},
     "output_type": "execute_result"
    }
   ],
   "source": [
    "random[[0, 1, 7]]"
   ]
  },
  {
   "cell_type": "code",
   "execution_count": 21,
   "id": "2afb72d3-14a5-4eda-a290-d0ff4e8c2a1f",
   "metadata": {},
   "outputs": [
    {
     "data": {
      "text/plain": [
       "array([[90, 13],\n",
       "       [88, 97]])"
      ]
     },
     "execution_count": 21,
     "metadata": {},
     "output_type": "execute_result"
    }
   ],
   "source": [
    "random[[[2, 1],[4, 5]]] # passing 2d array results in 2d result"
   ]
  },
  {
   "cell_type": "markdown",
   "id": "64208782-dd42-41a0-941a-2549aa675ccd",
   "metadata": {},
   "source": [
    "# Sorting Array "
   ]
  },
  {
   "cell_type": "code",
   "execution_count": 25,
   "id": "13795eda-d991-445a-8557-c9ace5f82546",
   "metadata": {},
   "outputs": [
    {
     "data": {
      "text/plain": [
       "array([ 3,  4, -3,  0,  8])"
      ]
     },
     "execution_count": 25,
     "metadata": {},
     "output_type": "execute_result"
    }
   ],
   "source": [
    "x = np.array([3, 4, -3, 0, 8])\n",
    "np.sort(x)\n",
    "x # original array unchanted "
   ]
  },
  {
   "cell_type": "code",
   "execution_count": 26,
   "id": "191943fb-98f7-45b1-a338-c128f6de1b42",
   "metadata": {},
   "outputs": [
    {
     "data": {
      "text/plain": [
       "array([-3,  0,  3,  4,  8])"
      ]
     },
     "execution_count": 26,
     "metadata": {},
     "output_type": "execute_result"
    }
   ],
   "source": [
    "x.sort()\n",
    "x # origianal array sorted in palce "
   ]
  },
  {
   "attachments": {},
   "cell_type": "markdown",
   "id": "ff44677d-17a7-4ec4-88a2-16138954a65f",
   "metadata": {},
   "source": [
    "### argsort returns the indicies of the sorted elements"
   ]
  },
  {
   "cell_type": "code",
   "execution_count": 27,
   "id": "98907bbe-eefd-4f4f-9011-fc39a78a5276",
   "metadata": {},
   "outputs": [
    {
     "data": {
      "text/plain": [
       "array([3, 2, 4, 0, 1])"
      ]
     },
     "execution_count": 27,
     "metadata": {},
     "output_type": "execute_result"
    }
   ],
   "source": [
    "x = np.array([2, 3, -2, -7, 0])\n",
    "np.argsort(x)"
   ]
  },
  {
   "cell_type": "markdown",
   "id": "c397379e-693b-498f-b91a-dbee042b72b1",
   "metadata": {},
   "source": [
    "### sorting 2d array "
   ]
  },
  {
   "cell_type": "code",
   "execution_count": 30,
   "id": "ba9d7c64-8736-4d35-a1fb-1214306318cd",
   "metadata": {},
   "outputs": [
    {
     "data": {
      "text/plain": [
       "array([[38, 38, 46, 46, 13, 24],\n",
       "       [ 3, 54, 18, 47,  4, 42],\n",
       "       [ 8, 66, 50, 46, 62, 36],\n",
       "       [19, 19, 77, 17,  7, 63]])"
      ]
     },
     "execution_count": 30,
     "metadata": {},
     "output_type": "execute_result"
    }
   ],
   "source": [
    "rand = np.random.RandomState(30)\n",
    "x = rand.randint(1, 100, (4, 6))\n",
    "x"
   ]
  },
  {
   "cell_type": "code",
   "execution_count": 31,
   "id": "cb3cc235-5d0c-48f4-a866-65f30aafd095",
   "metadata": {},
   "outputs": [
    {
     "data": {
      "text/plain": [
       "array([[ 3, 19, 18, 17,  4, 24],\n",
       "       [ 8, 38, 46, 46,  7, 36],\n",
       "       [19, 54, 50, 46, 13, 42],\n",
       "       [38, 66, 77, 47, 62, 63]])"
      ]
     },
     "execution_count": 31,
     "metadata": {},
     "output_type": "execute_result"
    }
   ],
   "source": [
    "np.sort(x, axis = 0) # sorting according to columns"
   ]
  },
  {
   "cell_type": "code",
   "execution_count": 33,
   "id": "9076a9d7-30d7-40c4-95f8-47d90a50e029",
   "metadata": {},
   "outputs": [
    {
     "data": {
      "text/plain": [
       "array([[13, 24, 38, 38, 46, 46],\n",
       "       [ 3,  4, 18, 42, 47, 54],\n",
       "       [ 8, 36, 46, 50, 62, 66],\n",
       "       [ 7, 17, 19, 19, 63, 77]])"
      ]
     },
     "execution_count": 33,
     "metadata": {},
     "output_type": "execute_result"
    }
   ],
   "source": [
    "np.sort(x) # sorting according to row, same as np.sort(x, axis = 1) "
   ]
  },
  {
   "cell_type": "markdown",
   "id": "4757f409-88a6-42ad-8949-766c6d49380a",
   "metadata": {},
   "source": [
    "### Partial sorting\n",
    "\n"
   ]
  },
  {
   "cell_type": "code",
   "execution_count": 36,
   "id": "a4daa584-934a-4123-b302-6c0fc542fad0",
   "metadata": {},
   "outputs": [
    {
     "name": "stdout",
     "output_type": "stream",
     "text": [
      "[7 2 3 1 6 4]\n"
     ]
    },
    {
     "data": {
      "text/plain": [
       "array([1, 3, 2, 4, 6, 7])"
      ]
     },
     "execution_count": 36,
     "metadata": {},
     "output_type": "execute_result"
    }
   ],
   "source": [
    "x = np.array([7, 2, 3, 1, 6, 4])\n",
    "print(x)\n",
    "np.partition(x, 3) "
   ]
  },
  {
   "cell_type": "code",
   "execution_count": 38,
   "id": "3dc0fedf-c42b-4ef4-9001-b63ec6c37d65",
   "metadata": {},
   "outputs": [
    {
     "data": {
      "text/plain": [
       "array([6, 7, 4, 3, 2, 1])"
      ]
     },
     "execution_count": 38,
     "metadata": {},
     "output_type": "execute_result"
    }
   ],
   "source": [
    "-np.partition(-x, 3) # get the largest number k = 3"
   ]
  },
  {
   "cell_type": "markdown",
   "id": "cd1d5845-41c2-415c-b66c-6d99e338d5a2",
   "metadata": {},
   "source": [
    "# Structured data Numpy"
   ]
  },
  {
   "cell_type": "code",
   "execution_count": 42,
   "id": "9c916048-a87d-404c-87b1-0ddd8d3cc10e",
   "metadata": {},
   "outputs": [
    {
     "data": {
      "text/plain": [
       "array([('', 0, 0.), ('', 0, 0.), ('', 0, 0.), ('', 0, 0.)],\n",
       "      dtype=[('name', '<U10'), ('age', '<i4'), ('weight', '<f8')])"
      ]
     },
     "execution_count": 42,
     "metadata": {},
     "output_type": "execute_result"
    }
   ],
   "source": [
    "data = np.zeros(4, dtype={'names': ('name', 'age', 'weight'), \n",
    "                            'formats': (\"U10\", \"i4\", \"f8\")})\n",
    "data"
   ]
  },
  {
   "cell_type": "code",
   "execution_count": 43,
   "id": "1660a6f2-9939-4eba-83e9-9559e56a5877",
   "metadata": {},
   "outputs": [
    {
     "data": {
      "text/plain": [
       "dtype([('name', '<U10'), ('age', '<i4'), ('weight', '<f8')])"
      ]
     },
     "execution_count": 43,
     "metadata": {},
     "output_type": "execute_result"
    }
   ],
   "source": [
    "data.dtype"
   ]
  },
  {
   "cell_type": "code",
   "execution_count": 50,
   "id": "f41806d1-f17b-425b-9c57-bbda5acaee14",
   "metadata": {},
   "outputs": [
    {
     "data": {
      "text/plain": [
       "array(['Harry', 'Harry', 'Harry', 'Harry'], dtype='<U10')"
      ]
     },
     "execution_count": 50,
     "metadata": {},
     "output_type": "execute_result"
    }
   ],
   "source": [
    "data[\"name\"] = \"Harry\"\n",
    "data[\"age\"] = 14\n",
    "data[\"weight\"] = 56.1\n",
    "data[\"name\"]"
   ]
  },
  {
   "cell_type": "code",
   "execution_count": 55,
   "id": "f95c1fcf-f9a7-4560-aa2f-723909d605e7",
   "metadata": {},
   "outputs": [
    {
     "data": {
      "text/plain": [
       "('Potter', 23, 56.1)"
      ]
     },
     "execution_count": 55,
     "metadata": {},
     "output_type": "execute_result"
    }
   ],
   "source": [
    "data[\"name\"][1] = \"Potter\"\n",
    "data[1][\"age\"] = 23\n",
    "data[1]"
   ]
  },
  {
   "cell_type": "code",
   "execution_count": 54,
   "id": "6a1b796f-38a8-472c-8a19-3889c964fec4",
   "metadata": {},
   "outputs": [
    {
     "data": {
      "text/plain": [
       "'Harry'"
      ]
     },
     "execution_count": 54,
     "metadata": {},
     "output_type": "execute_result"
    }
   ],
   "source": [
    "data[-1][\"name\"] # get name of last element"
   ]
  },
  {
   "cell_type": "code",
   "execution_count": null,
   "id": "360919b8-9e2b-41b9-9ab8-f5371c980522",
   "metadata": {},
   "outputs": [],
   "source": []
  }
 ],
 "metadata": {
  "kernelspec": {
   "display_name": "Python 3 (ipykernel)",
   "language": "python",
   "name": "python3"
  },
  "language_info": {
   "codemirror_mode": {
    "name": "ipython",
    "version": 3
   },
   "file_extension": ".py",
   "mimetype": "text/x-python",
   "name": "python",
   "nbconvert_exporter": "python",
   "pygments_lexer": "ipython3",
   "version": "3.12.4"
  }
 },
 "nbformat": 4,
 "nbformat_minor": 5
}
