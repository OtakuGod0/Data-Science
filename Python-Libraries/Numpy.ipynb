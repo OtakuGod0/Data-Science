{
 "cells": [
  {
   "cell_type": "code",
   "execution_count": 3,
   "id": "b2f7050e-e0f4-4348-b72e-d57889c7a4dd",
   "metadata": {},
   "outputs": [],
   "source": [
    "import numpy as np "
   ]
  },
  {
   "cell_type": "markdown",
   "id": "d96fbba7-b1a9-48d9-b683-36cfb258923e",
   "metadata": {},
   "source": [
    "## Creating array from Python list  \n",
    "---"
   ]
  },
  {
   "cell_type": "code",
   "execution_count": 11,
   "id": "0f2e614e-36f8-4ae7-996f-a10d16d723ea",
   "metadata": {},
   "outputs": [
    {
     "name": "stdout",
     "output_type": "stream",
     "text": [
      "[2 4 5 6]\n",
      "<class 'numpy.ndarray'>\n"
     ]
    }
   ],
   "source": [
    "my_arr = np.array([2, 4, 5, 6])\n",
    "print(my_arr)\n",
    "print(type(my_arr))"
   ]
  },
  {
   "cell_type": "code",
   "execution_count": 15,
   "id": "a7ab011c-63cf-4ac0-beb2-1ed74ccf9368",
   "metadata": {},
   "outputs": [
    {
     "data": {
      "text/plain": [
       "array([1. , 2.4, 2. , 4. ])"
      ]
     },
     "execution_count": 15,
     "metadata": {},
     "output_type": "execute_result"
    }
   ],
   "source": [
    "# Float data Type \n",
    "np.array([1, 2.4, 2, 4]) # Converts all items to float"
   ]
  },
  {
   "cell_type": "code",
   "execution_count": 14,
   "id": "575885b0-7798-4bb6-a54b-f51afcfac79e",
   "metadata": {},
   "outputs": [
    {
     "data": {
      "text/plain": [
       "array(['1', '3.0', '5', 'str'], dtype='<U32')"
      ]
     },
     "execution_count": 14,
     "metadata": {},
     "output_type": "execute_result"
    }
   ],
   "source": [
    "# int and string in list\n",
    "np.array([1, 3.0, 5, \"str\"]) # Converts all items to Str"
   ]
  },
  {
   "cell_type": "markdown",
   "id": "4e604806-7712-484c-917b-590b017389d0",
   "metadata": {},
   "source": [
    "`We can also explicitly set the data type of the array using hte dtype keyword, as follow:`"
   ]
  },
  {
   "cell_type": "code",
   "execution_count": 16,
   "id": "89237c48-1eef-49e1-9ec8-854f1547eaf3",
   "metadata": {},
   "outputs": [
    {
     "data": {
      "text/plain": [
       "array([1, 2, 3, 4], dtype=int16)"
      ]
     },
     "execution_count": 16,
     "metadata": {},
     "output_type": "execute_result"
    }
   ],
   "source": [
    "np.array([1.24, 2, 3, 4], dtype='int16') # 16 represents no of bit"
   ]
  },
  {
   "cell_type": "code",
   "execution_count": 17,
   "id": "149ec8e0-1c61-435d-97df-bca3d54ded3b",
   "metadata": {},
   "outputs": [
    {
     "data": {
      "text/plain": [
       "array([1.25, 2.  , 3.  , 4.  ], dtype=float32)"
      ]
     },
     "execution_count": 17,
     "metadata": {},
     "output_type": "execute_result"
    }
   ],
   "source": [
    "np.array([1.25, 2, 3, 4], dtype='float32')"
   ]
  },
  {
   "cell_type": "markdown",
   "id": "4315e750-ee24-43a0-9c37-030ce4956b80",
   "metadata": {},
   "source": [
    "## Multi dimensional array \n",
    "---"
   ]
  },
  {
   "cell_type": "code",
   "execution_count": 19,
   "id": "a688b71b-78ff-444a-9604-2485c45ac4e9",
   "metadata": {},
   "outputs": [
    {
     "data": {
      "text/plain": [
       "array([[1, 2, 3],\n",
       "       [4, 5, 6],\n",
       "       [7, 8, 9]])"
      ]
     },
     "execution_count": 19,
     "metadata": {},
     "output_type": "execute_result"
    }
   ],
   "source": [
    "np.array([  [1, 2, 3], \n",
    "            [4, 5, 6], \n",
    "            [7, 8, 9]])"
   ]
  },
  {
   "cell_type": "code",
   "execution_count": 22,
   "id": "fecfe781-9356-499f-a7bb-1c29f936bc70",
   "metadata": {},
   "outputs": [
    {
     "data": {
      "text/plain": [
       "array([0, 0, 0, 0, 0])"
      ]
     },
     "execution_count": 22,
     "metadata": {},
     "output_type": "execute_result"
    }
   ],
   "source": [
    "np.zeros(5, dtype=int)"
   ]
  },
  {
   "cell_type": "code",
   "execution_count": 24,
   "id": "df19aae5-0420-411d-bdc7-faf0a8c3ae6d",
   "metadata": {},
   "outputs": [
    {
     "data": {
      "text/plain": [
       "array([[1., 1.],\n",
       "       [1., 1.],\n",
       "       [1., 1.],\n",
       "       [1., 1.],\n",
       "       [1., 1.]])"
      ]
     },
     "execution_count": 24,
     "metadata": {},
     "output_type": "execute_result"
    }
   ],
   "source": [
    "np.ones((5, 2), dtype=float)"
   ]
  },
  {
   "cell_type": "markdown",
   "id": "48c9c466-f727-4c96-ace8-c5a8be0100e5",
   "metadata": {},
   "source": [
    "## Some numpy methods\n",
    "---"
   ]
  },
  {
   "cell_type": "code",
   "execution_count": 28,
   "id": "55803734-f035-4de7-bc12-87989e3fdcd2",
   "metadata": {},
   "outputs": [
    {
     "data": {
      "text/plain": [
       "array([ 1,  2,  3,  4,  5,  6,  7,  8,  9, 10, 11, 12, 13, 14, 15, 16, 17,\n",
       "       18, 19, 20, 21, 22, 23, 24, 25, 26, 27, 28, 29, 30])"
      ]
     },
     "execution_count": 28,
     "metadata": {},
     "output_type": "execute_result"
    }
   ],
   "source": [
    "np.arange(1, 31, 1) # starting: stoping: step"
   ]
  },
  {
   "cell_type": "code",
   "execution_count": 32,
   "id": "348e7e35-be59-4398-8c6d-a496b8782709",
   "metadata": {},
   "outputs": [
    {
     "data": {
      "text/plain": [
       "array([0.  , 0.25, 0.5 , 0.75, 1.  ])"
      ]
     },
     "execution_count": 32,
     "metadata": {},
     "output_type": "execute_result"
    }
   ],
   "source": [
    "np.linspace(0, 1, 5) # linspace = linear spacing # eqully spaces and it's inclusive"
   ]
  },
  {
   "cell_type": "markdown",
   "id": "4153ce4e-5d33-4799-a8e8-15a7f54e5ffa",
   "metadata": {},
   "source": [
    "### Numpy random"
   ]
  },
  {
   "cell_type": "code",
   "execution_count": 34,
   "id": "a0a88fcd-7124-419c-8fdf-98d2573cfeac",
   "metadata": {},
   "outputs": [
    {
     "data": {
      "text/plain": [
       "array([[0.02310022, 0.59254043, 0.37369436],\n",
       "       [0.28698824, 0.24968674, 0.66606117],\n",
       "       [0.8233144 , 0.63133645, 0.80869642]])"
      ]
     },
     "execution_count": 34,
     "metadata": {},
     "output_type": "execute_result"
    }
   ],
   "source": [
    "np.random.random((3, 3))"
   ]
  },
  {
   "cell_type": "code",
   "execution_count": 51,
   "id": "d10de418-b77b-48de-99a0-2e7953a02555",
   "metadata": {},
   "outputs": [
    {
     "data": {
      "text/plain": [
       "array([[-1.20574758,  1.08626708, -1.780056  ],\n",
       "       [-0.08679959,  0.44222258,  0.89270387],\n",
       "       [-1.10544765,  1.35215636,  1.17044169]])"
      ]
     },
     "execution_count": 51,
     "metadata": {},
     "output_type": "execute_result"
    }
   ],
   "source": [
    "# Create a 3x3 array of normally distributed random values with mean (avarage) \n",
    "# 0 mean and standard deviation 1 \n",
    "np.random.normal(0, 1, (3, 3)) # first parameter = mean; second = standard deviation; third = dimension "
   ]
  },
  {
   "cell_type": "code",
   "execution_count": 44,
   "id": "5b075097-b59b-4abd-9c9c-8d14214f6eac",
   "metadata": {},
   "outputs": [],
   "source": [
    "# discriptive stat => mean median  and infrencial stat => result and conclusion; hypothesis testing, normalization"
   ]
  },
  {
   "cell_type": "code",
   "execution_count": 48,
   "id": "97e712cc-2e5a-4495-a856-a59d42441753",
   "metadata": {},
   "outputs": [
    {
     "data": {
      "text/plain": [
       "array([[4, 7],\n",
       "       [9, 6],\n",
       "       [1, 0]])"
      ]
     },
     "execution_count": 48,
     "metadata": {},
     "output_type": "execute_result"
    }
   ],
   "source": [
    "np.random.randint(0, 10, (3, 2)) #first parameter: start; second: stop; third: dimension"
   ]
  },
  {
   "cell_type": "markdown",
   "id": "9f59a759-4b29-4c39-934e-e6c1db90f43e",
   "metadata": {},
   "source": [
    "### Identity metrix "
   ]
  },
  {
   "cell_type": "code",
   "execution_count": 53,
   "id": "cab547aa-0503-46ae-80ee-2892303ce352",
   "metadata": {},
   "outputs": [
    {
     "data": {
      "text/plain": [
       "array([[1., 0., 0.],\n",
       "       [0., 1., 0.],\n",
       "       [0., 0., 1.]])"
      ]
     },
     "execution_count": 53,
     "metadata": {},
     "output_type": "execute_result"
    }
   ],
   "source": [
    "# Identity metrix \n",
    "np.eye(3)"
   ]
  },
  {
   "cell_type": "markdown",
   "id": "1957d5a0-6ae3-4fa6-a6fd-51a89fc602aa",
   "metadata": {},
   "source": [
    "### Empty array "
   ]
  },
  {
   "cell_type": "code",
   "execution_count": 50,
   "id": "bef908ec-fc4d-44bd-be50-d65f0421699b",
   "metadata": {},
   "outputs": [
    {
     "data": {
      "text/plain": [
       "array([1., 1., 1., 1., 1., 1., 1., 1., 1., 1.])"
      ]
     },
     "execution_count": 50,
     "metadata": {},
     "output_type": "execute_result"
    }
   ],
   "source": [
    "# creates array without initializating it \n",
    "np.empty(10)"
   ]
  },
  {
   "cell_type": "code",
   "execution_count": null,
   "id": "5f81ba4f-e0d3-4ece-9d5f-c347a506b38e",
   "metadata": {},
   "outputs": [],
   "source": []
  }
 ],
 "metadata": {
  "kernelspec": {
   "display_name": "Python 3 (ipykernel)",
   "language": "python",
   "name": "python3"
  },
  "language_info": {
   "codemirror_mode": {
    "name": "ipython",
    "version": 3
   },
   "file_extension": ".py",
   "mimetype": "text/x-python",
   "name": "python",
   "nbconvert_exporter": "python",
   "pygments_lexer": "ipython3",
   "version": "3.12.4"
  }
 },
 "nbformat": 4,
 "nbformat_minor": 5
}
