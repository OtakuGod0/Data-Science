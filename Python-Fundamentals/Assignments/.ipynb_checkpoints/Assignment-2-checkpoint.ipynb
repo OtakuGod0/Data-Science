{
 "cells": [
  {
   "cell_type": "markdown",
   "id": "e0320e95-49b9-42c8-a90e-36dc2a77e8e8",
   "metadata": {},
   "source": [
    "# Exercise 1: Write a pay computation program to give the employee 1.5 times the hourly rate for hours worked above 40 hours \n",
    "---"
   ]
  },
  {
   "cell_type": "code",
   "execution_count": 4,
   "id": "c3dbf4c0-21af-4f37-83b1-1d472f311b8e",
   "metadata": {},
   "outputs": [
    {
     "name": "stdin",
     "output_type": "stream",
     "text": [
      "Enter Hours: 45\n",
      "Enter rate: 10\n"
     ]
    },
    {
     "data": {
      "text/plain": [
       "475.0"
      ]
     },
     "execution_count": 4,
     "metadata": {},
     "output_type": "execute_result"
    }
   ],
   "source": [
    "H = int(input(\"Enter Hours:\"))\n",
    "R = int(input(\"Enter rate:\"))\n",
    "P = ( H * R ) if ( H < 40 ) else ( R * 40 + (H-40)*R*1.5 )\n",
    "P"
   ]
  },
  {
   "cell_type": "markdown",
   "id": "1d1e68f6-b65f-4169-9f3a-715f9f94a32d",
   "metadata": {},
   "source": [
    "# Exercise 2: Write a program to prompt for a score between 0.0 and 1.0. If the score is out of range, print an error message. If the score is between 0.0 and 1.0, print a grade using the following table:\n",
    "\n",
    "| Range | Grade |\n",
    "|-------|-------|\n",
    "| >= 0.9 | A     |\n",
    "| >= 0.8 | B     |\n",
    "| >= 0.7 | C     |\n",
    "| >= 0.6 | D     |\n",
    "| < 0.6  | F     |\n",
    "\n",
    "---\n"
   ]
  },
  {
   "cell_type": "code",
   "execution_count": 9,
   "id": "c29d395a-456a-4b5b-ad6c-2ce337504462",
   "metadata": {},
   "outputs": [
    {
     "name": "stdin",
     "output_type": "stream",
     "text": [
      "Enter score: perfect\n"
     ]
    },
    {
     "name": "stdout",
     "output_type": "stream",
     "text": [
      "Bad Score\n"
     ]
    }
   ],
   "source": [
    "try: \n",
    "    S = float(input(\"Enter score:\"))\n",
    "\n",
    "    if S <= 1 and S >= 0.9:\n",
    "        print(\"A\")\n",
    "    elif S>=0.8: \n",
    "        print(\"B\")\n",
    "    elif S>=0.7:\n",
    "        print(\"C\")\n",
    "    elif S>=0.6: \n",
    "        print(\"D\")\n",
    "    elif S<0.6:\n",
    "        print(\"F\")\n",
    "    else:\n",
    "        print(\"Bad Score\")\n",
    "\n",
    "except ValueError:\n",
    "    print(\"Bad Score\")"
   ]
  },
  {
   "cell_type": "code",
   "execution_count": null,
   "id": "207a89ae-49d8-4cbd-8bb6-c6f1cb118b39",
   "metadata": {},
   "outputs": [],
   "source": []
  }
 ],
 "metadata": {
  "kernelspec": {
   "display_name": "Python 3 (ipykernel)",
   "language": "python",
   "name": "python3"
  },
  "language_info": {
   "codemirror_mode": {
    "name": "ipython",
    "version": 3
   },
   "file_extension": ".py",
   "mimetype": "text/x-python",
   "name": "python",
   "nbconvert_exporter": "python",
   "pygments_lexer": "ipython3",
   "version": "3.12.4"
  }
 },
 "nbformat": 4,
 "nbformat_minor": 5
}
