{
 "cells": [
  {
   "cell_type": "code",
   "execution_count": 1,
   "id": "5c2ca87c-2d42-450b-9acf-7ac7a0952ace",
   "metadata": {},
   "outputs": [
    {
     "name": "stdout",
     "output_type": "stream",
     "text": [
      "explore() method from class A\n"
     ]
    }
   ],
   "source": [
    "class A: \n",
    "    def explore(self):\n",
    "        print(\"explore() method from class A\")\n",
    "\n",
    "class B: \n",
    "    def explore(self):\n",
    "        print(\"explore() method from class B\")\n",
    "\n",
    "\n",
    "class C(A, B):\n",
    "    pass\n",
    "\n",
    "D = C()\n",
    "D.explore()"
   ]
  },
  {
   "cell_type": "code",
   "execution_count": null,
   "id": "cc830a60-122a-484a-8bbe-639db7777ac9",
   "metadata": {},
   "outputs": [],
   "source": []
  }
 ],
 "metadata": {
  "kernelspec": {
   "display_name": "Python 3 (ipykernel)",
   "language": "python",
   "name": "python3"
  },
  "language_info": {
   "codemirror_mode": {
    "name": "ipython",
    "version": 3
   },
   "file_extension": ".py",
   "mimetype": "text/x-python",
   "name": "python",
   "nbconvert_exporter": "python",
   "pygments_lexer": "ipython3",
   "version": "3.12.4"
  }
 },
 "nbformat": 4,
 "nbformat_minor": 5
}
