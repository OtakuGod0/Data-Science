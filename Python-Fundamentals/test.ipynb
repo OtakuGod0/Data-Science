{
 "cells": [
  {
   "cell_type": "code",
   "execution_count": 1,
   "id": "bbfc4df2-e1b1-4789-8639-368635a7a886",
   "metadata": {},
   "outputs": [
    {
     "name": "stdout",
     "output_type": "stream",
     "text": [
      "a\n"
     ]
    }
   ],
   "source": [
    "print(str.lower(\"A\"))"
   ]
  },
  {
   "cell_type": "code",
   "execution_count": 2,
   "id": "67dc9d2e-c881-4fd2-94e1-b3be42d10227",
   "metadata": {},
   "outputs": [
    {
     "data": {
      "text/plain": [
       "'hhh'"
      ]
     },
     "execution_count": 2,
     "metadata": {},
     "output_type": "execute_result"
    }
   ],
   "source": [
    "3 * 'h'"
   ]
  },
  {
   "cell_type": "code",
   "execution_count": 3,
   "id": "8272f9b4-d951-451d-b914-edeacf9d0f89",
   "metadata": {},
   "outputs": [],
   "source": [
    "list = [1, 2, 1]\n",
    "set1 = set(list)"
   ]
  },
  {
   "cell_type": "code",
   "execution_count": 4,
   "id": "a36812ef-5e23-4dc5-af35-1d953a7450a5",
   "metadata": {},
   "outputs": [
    {
     "data": {
      "text/plain": [
       "{1, 2}"
      ]
     },
     "execution_count": 4,
     "metadata": {},
     "output_type": "execute_result"
    }
   ],
   "source": [
    "set1"
   ]
  },
  {
   "cell_type": "code",
   "execution_count": null,
   "id": "286c00bf-f9a4-4ac3-a41c-e2a35463ac46",
   "metadata": {},
   "outputs": [],
   "source": [
    "y = list(set1)"
   ]
  },
  {
   "cell_type": "code",
   "execution_count": null,
   "id": "65eb7845-3eef-4677-8a6c-a6c1fcc12ba2",
   "metadata": {},
   "outputs": [],
   "source": []
  }
 ],
 "metadata": {
  "kernelspec": {
   "display_name": "Python 3 (ipykernel)",
   "language": "python",
   "name": "python3"
  },
  "language_info": {
   "codemirror_mode": {
    "name": "ipython",
    "version": 3
   },
   "file_extension": ".py",
   "mimetype": "text/x-python",
   "name": "python",
   "nbconvert_exporter": "python",
   "pygments_lexer": "ipython3",
   "version": "3.12.4"
  }
 },
 "nbformat": 4,
 "nbformat_minor": 5
}
