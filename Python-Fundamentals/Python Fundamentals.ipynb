{
 "cells": [
  {
   "cell_type": "markdown",
   "id": "9d719d2d-1070-4cbd-922d-d6a914c468ba",
   "metadata": {},
   "source": [
    "# PYTHON Fundamentals"
   ]
  },
  {
   "cell_type": "code",
   "execution_count": 2,
   "id": "bb65f701-0917-4ea5-8586-e47e6750d6c8",
   "metadata": {},
   "outputs": [
    {
     "name": "stdout",
     "output_type": "stream",
     "text": [
      "Name:  Biraj\n",
      "Last Name: Buddhacharya\n"
     ]
    }
   ],
   "source": [
    "name = \"Biraj\"\n",
    "last_name = \"Buddhacharya\"\n",
    "\n",
    "print('Name: ', name)\n",
    "print('Last Name:', last_name)"
   ]
  },
  {
   "cell_type": "markdown",
   "id": "6331c01b-d423-4fc3-8af4-5ae0d5039257",
   "metadata": {},
   "source": [
    "## 1. Python Data Types \n",
    "---"
   ]
  },
  {
   "cell_type": "code",
   "execution_count": 8,
   "id": "d3d3c6e9-28cf-4b71-845c-b9bb78cd2531",
   "metadata": {},
   "outputs": [],
   "source": [
    "name = \"Biraj\" # string\n",
    "age = 18 # int\n",
    "height = 5.11 # float\n",
    "fruits = [\"Apple\", \"Banana\", \"Pear\"] #list \n",
    "countries = {\"China\", \"India\", \"Nepal\"} # set\n",
    "colors = (\"red\", \"green\", \"blue\") # tuple \n",
    "x = range(4) # range type\n",
    "my_info = {name: \"Biraj\", age: 18} # dictionary \n",
    "is_ok = True # boolean "
   ]
  },
  {
   "cell_type": "markdown",
   "id": "55fff6c9-2345-42bb-bf9b-25b5bdd69f51",
   "metadata": {},
   "source": [
    "You can use type() to show the type of the vairable as shown below: "
   ]
  },
  {
   "cell_type": "code",
   "execution_count": 13,
   "id": "b807d100-4871-4e0e-b866-75373d33af61",
   "metadata": {},
   "outputs": [
    {
     "name": "stdout",
     "output_type": "stream",
     "text": [
      "type name:  <class 'str'>\n",
      "type age:  <class 'int'>\n",
      "type height:  <class 'float'>\n",
      "type fruits:  <class 'list'>\n",
      "type countries:  <class 'set'>\n",
      "type colors:  <class 'tuple'>\n",
      "type x:  <class 'range'>\n",
      "type my_info:  <class 'dict'>\n",
      "type is_ok:  <class 'bool'>\n"
     ]
    }
   ],
   "source": [
    "print(\"type name: \", type(name))\n",
    "print(\"type age: \", type(age))\n",
    "print(\"type height: \", type(height))\n",
    "print(\"type fruits: \", type(fruits))\n",
    "print(\"type countries: \", type(countries))\n",
    "print(\"type colors: \", type(colors))\n",
    "print(\"type x: \", type(x))\n",
    "print(\"type my_info: \", type(my_info))\n",
    "print(\"type is_ok: \", type(is_ok))\n"
   ]
  },
  {
   "cell_type": "markdown",
   "id": "48fe3756-575b-4b9c-9c1c-61fdee8f1e4e",
   "metadata": {},
   "source": [
    "## 2. Python type Casting\n",
    "---"
   ]
  },
  {
   "cell_type": "markdown",
   "id": "966e6245-f8b7-4628-b2b3-433f7759aff3",
   "metadata": {},
   "source": [
    "### Exercise 2.1\n",
    "---\n"
   ]
  },
  {
   "cell_type": "code",
   "execution_count": 22,
   "id": "7b5e4fdf-8abd-498d-abed-edbbd8c416b0",
   "metadata": {},
   "outputs": [
    {
     "name": "stdout",
     "output_type": "stream",
     "text": [
      "18 18.0 18\n"
     ]
    }
   ],
   "source": [
    "age = 18 \n",
    "float_age = float(age)\n",
    "str_age = str(age)\n",
    "\n",
    "print(age, float_age, str_age)"
   ]
  },
  {
   "cell_type": "markdown",
   "id": "4d27fba5-6a4a-42f8-a7bb-1bd16f76099f",
   "metadata": {},
   "source": [
    "## 3. Python Operators \n",
    "---"
   ]
  },
  {
   "cell_type": "markdown",
   "id": "8c79af96-fa85-4efc-8a86-aa0a65163b8d",
   "metadata": {},
   "source": [
    "### Arthemetic operators \n"
   ]
  },
  {
   "cell_type": "code",
   "execution_count": 29,
   "id": "b96a9f03-7c83-4b6f-ac19-fb4657135f91",
   "metadata": {},
   "outputs": [
    {
     "data": {
      "text/plain": [
       "1"
      ]
     },
     "execution_count": 29,
     "metadata": {},
     "output_type": "execute_result"
    }
   ],
   "source": [
    "# Modulus (%)\n",
    "4 % 3 # prints reminder \n"
   ]
  },
  {
   "cell_type": "code",
   "execution_count": 31,
   "id": "b8e09888-9072-4e49-8cfa-ada1045cf8f5",
   "metadata": {},
   "outputs": [
    {
     "data": {
      "text/plain": [
       "4"
      ]
     },
     "execution_count": 31,
     "metadata": {},
     "output_type": "execute_result"
    }
   ],
   "source": [
    "# Exponential (**) or power \n",
    "2 ** 2 # prints square of two "
   ]
  },
  {
   "cell_type": "code",
   "execution_count": 33,
   "id": "b4b411a3-18ec-4b1a-852b-827c27210eb5",
   "metadata": {},
   "outputs": [
    {
     "data": {
      "text/plain": [
       "1"
      ]
     },
     "execution_count": 33,
     "metadata": {},
     "output_type": "execute_result"
    }
   ],
   "source": [
    "# Floor division (//)\n",
    "5 // 3 # prints quatient of division"
   ]
  },
  {
   "cell_type": "markdown",
   "id": "70841617-8c2a-450f-ab87-657ca9f5e6ef",
   "metadata": {},
   "source": [
    "### Exercise 3.1 "
   ]
  },
  {
   "cell_type": "code",
   "execution_count": 48,
   "id": "4e378b20-7b94-4e45-a4ad-b08812be2357",
   "metadata": {},
   "outputs": [],
   "source": [
    "x = 7*(3+8-4)/6\n",
    "y = x % 2 \n",
    "z = y ** 3 \n",
    "k = z // 3"
   ]
  },
  {
   "cell_type": "code",
   "execution_count": 50,
   "id": "0571f589-58e0-4c9e-9ad6-dffa84a9fa67",
   "metadata": {},
   "outputs": [
    {
     "name": "stdout",
     "output_type": "stream",
     "text": [
      "8.166666666666666 0.16666666666666607 0.00462962962962958 0.0\n"
     ]
    }
   ],
   "source": [
    "print(x, y, z, k)"
   ]
  },
  {
   "cell_type": "markdown",
   "id": "ced9f4ed-298a-4e9a-8c16-d2980b5e7f5e",
   "metadata": {},
   "source": [
    "### Comparasion Operator "
   ]
  },
  {
   "cell_type": "code",
   "execution_count": 1,
   "id": "2ccc51a1-ec14-4af0-a275-58f22b0217f0",
   "metadata": {},
   "outputs": [
    {
     "data": {
      "text/plain": [
       "False"
      ]
     },
     "execution_count": 1,
     "metadata": {},
     "output_type": "execute_result"
    }
   ],
   "source": [
    "2 == 3 "
   ]
  },
  {
   "cell_type": "code",
   "execution_count": 2,
   "id": "8fafc9ad-7d86-4d18-84d1-3148f2ab674a",
   "metadata": {},
   "outputs": [
    {
     "data": {
      "text/plain": [
       "True"
      ]
     },
     "execution_count": 2,
     "metadata": {},
     "output_type": "execute_result"
    }
   ],
   "source": [
    "2 != 3 "
   ]
  },
  {
   "cell_type": "markdown",
   "id": "c7573148-d1a5-4ff1-8beb-35a2dbbc6417",
   "metadata": {},
   "source": [
    "### Logical Operator \n",
    "1. And ( and ) ` True and False  output: False`\n",
    "2. Or ( or ) ` True or False output: True`\n",
    "3. Not ( not ) ` not False output: True`"
   ]
  },
  {
   "cell_type": "markdown",
   "id": "137bbe86-5749-4abd-9489-55e6d077ee27",
   "metadata": {},
   "source": [
    "> Note: [] -> False, \"\" -> False, 'something' -> True"
   ]
  },
  {
   "cell_type": "markdown",
   "id": "de7cab80-d6f9-486f-8bf1-a876bd7dad09",
   "metadata": {},
   "source": [
    "**Logical Operators Precedence Rules**\n",
    "1. not\n",
    "2. and\n",
    "3. or"
   ]
  },
  {
   "cell_type": "code",
   "execution_count": 4,
   "id": "4dbbc233-b05a-4805-b0a9-808666166bf2",
   "metadata": {},
   "outputs": [
    {
     "data": {
      "text/plain": [
       "False"
      ]
     },
     "execution_count": 4,
     "metadata": {},
     "output_type": "execute_result"
    }
   ],
   "source": [
    "False or True and not True"
   ]
  },
  {
   "cell_type": "markdown",
   "id": "3aa14cf2-f3ef-475f-9eb9-01b902076615",
   "metadata": {},
   "source": [
    "### Identy Operator \n",
    "The identity operators in Python to determine wheather a value is of a certain class or type. Thery they are use to determine hte type of data a certain vairable contain. \n",
    "\n",
    "Example: "
   ]
  },
  {
   "cell_type": "code",
   "execution_count": 8,
   "id": "53dcf735-3e0f-4f1d-826a-0250e6e9b313",
   "metadata": {},
   "outputs": [
    {
     "data": {
      "text/plain": [
       "False"
      ]
     },
     "execution_count": 8,
     "metadata": {},
     "output_type": "execute_result"
    }
   ],
   "source": [
    "x = 3\n",
    "type(x) is int \n",
    "type (x) is float \n",
    "type(x) is str"
   ]
  },
  {
   "cell_type": "markdown",
   "id": "0a665d0c-1fcd-4aaf-a090-3002e0e3803d",
   "metadata": {},
   "source": [
    "### Membership Operator \n",
    "It is used to test wheater a sequence is present in a object or not. \n",
    "Two operators in python are: \n",
    "- in\n",
    "- not in\n",
    "\n",
    "Example:"
   ]
  },
  {
   "cell_type": "code",
   "execution_count": 9,
   "id": "ebbd059b-2636-4a69-a882-4f5171f4d729",
   "metadata": {},
   "outputs": [
    {
     "data": {
      "text/plain": [
       "True"
      ]
     },
     "execution_count": 9,
     "metadata": {},
     "output_type": "execute_result"
    }
   ],
   "source": [
    "'h' in 'hello'"
   ]
  },
  {
   "cell_type": "markdown",
   "id": "cdef4d3e-6f0e-48a8-823b-e752eee36ff8",
   "metadata": {},
   "source": [
    "### Bit Wise Operator\n",
    "In Python, bitwise operators are used to performing bitwise calculation in integer. \n",
    "\n",
    "**Note: bitwise operator only works in integer**"
   ]
  },
  {
   "cell_type": "code",
   "execution_count": 16,
   "id": "c6e023ce-22be-44e2-a994-332357df5c3a",
   "metadata": {},
   "outputs": [
    {
     "data": {
      "text/plain": [
       "2"
      ]
     },
     "execution_count": 16,
     "metadata": {},
     "output_type": "execute_result"
    }
   ],
   "source": [
    "# Bitwise and ( & ) \n",
    "# 2 = 10 in binary \n",
    "# 3 = 11 in binary \n",
    "# 2 & 3 = 10 & 11 = 10 = 2 \n",
    "2 & 3"
   ]
  },
  {
   "cell_type": "code",
   "execution_count": 17,
   "id": "87969977-454c-46d5-becf-be9944c59791",
   "metadata": {},
   "outputs": [
    {
     "data": {
      "text/plain": [
       "3"
      ]
     },
     "execution_count": 17,
     "metadata": {},
     "output_type": "execute_result"
    }
   ],
   "source": [
    "# Bitwise or ( | ) \n",
    "# 2 = 10 in binary \n",
    "# 3 = 11 in binary \n",
    "# 2 | 3 = 10 | 11 = 11 = 3\n",
    "2 | 3"
   ]
  },
  {
   "cell_type": "code",
   "execution_count": 19,
   "id": "77f52d18-4e9f-414d-bb46-211ffb376454",
   "metadata": {},
   "outputs": [
    {
     "data": {
      "text/plain": [
       "1"
      ]
     },
     "execution_count": 19,
     "metadata": {},
     "output_type": "execute_result"
    }
   ],
   "source": [
    "# Bitwise xor ( ^ ) \n",
    "2 ^ 3 "
   ]
  },
  {
   "cell_type": "markdown",
   "id": "19dd0930-6cce-41bf-8b9f-1666b043d84e",
   "metadata": {},
   "source": [
    "## 4. Python list\n",
    "---\n",
    "**Note: Python list are mutable(changable)**"
   ]
  },
  {
   "cell_type": "code",
   "execution_count": 24,
   "id": "f18bea0a-b26d-4533-8e3b-ff081157e434",
   "metadata": {},
   "outputs": [
    {
     "data": {
      "text/plain": [
       "['Sunday', 'Monday', 'Tuesday', 'Wednesday', 'Thursday', 'Friday', 'Saturday']"
      ]
     },
     "execution_count": 24,
     "metadata": {},
     "output_type": "execute_result"
    }
   ],
   "source": [
    "# list is enclosed in square brackets \n",
    "days_of_week = ['Sunday', 'Monday', 'Tuesday', 'Wednesday', 'Thursday', 'Friday', 'Saturday']\n",
    "days_of_week"
   ]
  },
  {
   "cell_type": "code",
   "execution_count": 28,
   "id": "cd7bbe6a-d75b-4c1a-9419-def0066bb6d9",
   "metadata": {},
   "outputs": [
    {
     "data": {
      "text/plain": [
       "7"
      ]
     },
     "execution_count": 28,
     "metadata": {},
     "output_type": "execute_result"
    }
   ],
   "source": [
    "# You can find hte number of items in the list using len()\n",
    "len(days_of_week)"
   ]
  },
  {
   "cell_type": "markdown",
   "id": "a18ef082-70c8-4f46-b764-976a38026d02",
   "metadata": {},
   "source": [
    "list can have any data type but it is not recommended to put different data type in a list as it can slow the program"
   ]
  },
  {
   "cell_type": "code",
   "execution_count": 31,
   "id": "072178b9-4360-4f24-8461-2246397276dd",
   "metadata": {},
   "outputs": [
    {
     "data": {
      "text/plain": [
       "[1, 31.1, 'Hello', True]"
      ]
     },
     "execution_count": 31,
     "metadata": {},
     "output_type": "execute_result"
    }
   ],
   "source": [
    "my_list = [1, 31.1, 'Hello' , True]\n",
    "my_list"
   ]
  },
  {
   "cell_type": "code",
   "execution_count": 32,
   "id": "6dd8fb27-a3cc-4339-88c6-bdf20e925656",
   "metadata": {},
   "outputs": [
    {
     "data": {
      "text/plain": [
       "'Hello'"
      ]
     },
     "execution_count": 32,
     "metadata": {},
     "output_type": "execute_result"
    }
   ],
   "source": [
    "# Accessing list items \n",
    "my_list[2]"
   ]
  },
  {
   "cell_type": "code",
   "execution_count": 38,
   "id": "37c28491-dc63-45f6-bbe9-f4c93dd0018f",
   "metadata": {},
   "outputs": [
    {
     "data": {
      "text/plain": [
       "['Monday', 'Tuesday']"
      ]
     },
     "execution_count": 38,
     "metadata": {},
     "output_type": "execute_result"
    }
   ],
   "source": [
    "# Slicking\n",
    "days_of_week[1:3]"
   ]
  },
  {
   "cell_type": "code",
   "execution_count": 39,
   "id": "677c2c4f-9445-4022-9a50-9c0728426d6b",
   "metadata": {},
   "outputs": [
    {
     "data": {
      "text/plain": [
       "'Saturday'"
      ]
     },
     "execution_count": 39,
     "metadata": {},
     "output_type": "execute_result"
    }
   ],
   "source": [
    "# Negative indexing \n",
    "days_of_week[-1]"
   ]
  },
  {
   "cell_type": "code",
   "execution_count": null,
   "id": "3bbc60fa-572c-40a3-ada3-5a992dbe65a7",
   "metadata": {},
   "outputs": [],
   "source": []
  }
 ],
 "metadata": {
  "kernelspec": {
   "display_name": "Python 3 (ipykernel)",
   "language": "python",
   "name": "python3"
  },
  "language_info": {
   "codemirror_mode": {
    "name": "ipython",
    "version": 3
   },
   "file_extension": ".py",
   "mimetype": "text/x-python",
   "name": "python",
   "nbconvert_exporter": "python",
   "pygments_lexer": "ipython3",
   "version": "3.12.4"
  }
 },
 "nbformat": 4,
 "nbformat_minor": 5
}
