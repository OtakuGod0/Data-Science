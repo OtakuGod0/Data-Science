{
 "cells": [
  {
   "cell_type": "markdown",
   "id": "9d719d2d-1070-4cbd-922d-d6a914c468ba",
   "metadata": {},
   "source": [
    "# PYTHON Fundamentals"
   ]
  },
  {
   "cell_type": "code",
   "execution_count": 1,
   "id": "bb65f701-0917-4ea5-8586-e47e6750d6c8",
   "metadata": {},
   "outputs": [
    {
     "name": "stdout",
     "output_type": "stream",
     "text": [
      "Name:  Biraj\n",
      "Last Name: Buddhacharya\n"
     ]
    }
   ],
   "source": [
    "name = \"Biraj\"\n",
    "last_name = \"Buddhacharya\"\n",
    "\n",
    "print('Name: ', name)\n",
    "print('Last Name:', last_name)"
   ]
  },
  {
   "cell_type": "markdown",
   "id": "6331c01b-d423-4fc3-8af4-5ae0d5039257",
   "metadata": {},
   "source": [
    "## 1. Python Data Types \n",
    "---"
   ]
  },
  {
   "cell_type": "code",
   "execution_count": 2,
   "id": "d3d3c6e9-28cf-4b71-845c-b9bb78cd2531",
   "metadata": {},
   "outputs": [],
   "source": [
    "name = \"Biraj\" # string\n",
    "age = 18 # int\n",
    "height = 5.11 # float\n",
    "fruits = [\"Apple\", \"Banana\", \"Pear\"] #list \n",
    "countries = {\"China\", \"India\", \"Nepal\"} # set\n",
    "colors = (\"red\", \"green\", \"blue\") # tuple \n",
    "x = range(4) # range type\n",
    "my_info = {name: \"Biraj\", age: 18} # dictionary \n",
    "is_ok = True # boolean "
   ]
  },
  {
   "cell_type": "markdown",
   "id": "55fff6c9-2345-42bb-bf9b-25b5bdd69f51",
   "metadata": {},
   "source": [
    "You can use type() to show the type of the vairable as shown below: "
   ]
  },
  {
   "cell_type": "code",
   "execution_count": 3,
   "id": "b807d100-4871-4e0e-b866-75373d33af61",
   "metadata": {},
   "outputs": [
    {
     "name": "stdout",
     "output_type": "stream",
     "text": [
      "type name:  <class 'str'>\n",
      "type age:  <class 'int'>\n",
      "type height:  <class 'float'>\n",
      "type fruits:  <class 'list'>\n",
      "type countries:  <class 'set'>\n",
      "type colors:  <class 'tuple'>\n",
      "type x:  <class 'range'>\n",
      "type my_info:  <class 'dict'>\n",
      "type is_ok:  <class 'bool'>\n"
     ]
    }
   ],
   "source": [
    "print(\"type name: \", type(name))\n",
    "print(\"type age: \", type(age))\n",
    "print(\"type height: \", type(height))\n",
    "print(\"type fruits: \", type(fruits))\n",
    "print(\"type countries: \", type(countries))\n",
    "print(\"type colors: \", type(colors))\n",
    "print(\"type x: \", type(x))\n",
    "print(\"type my_info: \", type(my_info))\n",
    "print(\"type is_ok: \", type(is_ok))\n"
   ]
  },
  {
   "cell_type": "markdown",
   "id": "48fe3756-575b-4b9c-9c1c-61fdee8f1e4e",
   "metadata": {},
   "source": [
    "## 2. Python type Casting\n",
    "---"
   ]
  },
  {
   "cell_type": "markdown",
   "id": "966e6245-f8b7-4628-b2b3-433f7759aff3",
   "metadata": {},
   "source": [
    "### Exercise 2.1\n",
    "---\n"
   ]
  },
  {
   "cell_type": "code",
   "execution_count": 4,
   "id": "7b5e4fdf-8abd-498d-abed-edbbd8c416b0",
   "metadata": {},
   "outputs": [
    {
     "name": "stdout",
     "output_type": "stream",
     "text": [
      "18 18.0 18\n"
     ]
    }
   ],
   "source": [
    "age = 18 \n",
    "float_age = float(age)\n",
    "str_age = str(age)\n",
    "\n",
    "print(age, float_age, str_age)"
   ]
  },
  {
   "cell_type": "markdown",
   "id": "4d27fba5-6a4a-42f8-a7bb-1bd16f76099f",
   "metadata": {},
   "source": [
    "## 3. Python Operators \n",
    "---"
   ]
  },
  {
   "cell_type": "markdown",
   "id": "8c79af96-fa85-4efc-8a86-aa0a65163b8d",
   "metadata": {},
   "source": [
    "### Arthemetic operators \n"
   ]
  },
  {
   "cell_type": "code",
   "execution_count": 5,
   "id": "b96a9f03-7c83-4b6f-ac19-fb4657135f91",
   "metadata": {},
   "outputs": [
    {
     "data": {
      "text/plain": [
       "1"
      ]
     },
     "execution_count": 5,
     "metadata": {},
     "output_type": "execute_result"
    }
   ],
   "source": [
    "# Modulus (%)\n",
    "4 % 3 # prints reminder \n"
   ]
  },
  {
   "cell_type": "code",
   "execution_count": 6,
   "id": "b8e09888-9072-4e49-8cfa-ada1045cf8f5",
   "metadata": {},
   "outputs": [
    {
     "data": {
      "text/plain": [
       "4"
      ]
     },
     "execution_count": 6,
     "metadata": {},
     "output_type": "execute_result"
    }
   ],
   "source": [
    "# Exponential (**) or power \n",
    "2 ** 2 # prints square of two "
   ]
  },
  {
   "cell_type": "code",
   "execution_count": 7,
   "id": "b4b411a3-18ec-4b1a-852b-827c27210eb5",
   "metadata": {},
   "outputs": [
    {
     "data": {
      "text/plain": [
       "1"
      ]
     },
     "execution_count": 7,
     "metadata": {},
     "output_type": "execute_result"
    }
   ],
   "source": [
    "# Floor division (//)\n",
    "5 // 3 # prints quatient of division"
   ]
  },
  {
   "cell_type": "markdown",
   "id": "70841617-8c2a-450f-ab87-657ca9f5e6ef",
   "metadata": {},
   "source": [
    "### Exercise 3.1 "
   ]
  },
  {
   "cell_type": "code",
   "execution_count": 8,
   "id": "4e378b20-7b94-4e45-a4ad-b08812be2357",
   "metadata": {},
   "outputs": [],
   "source": [
    "x = 7*(3+8-4)/6\n",
    "y = x % 2 \n",
    "z = y ** 3 \n",
    "k = z // 3"
   ]
  },
  {
   "cell_type": "code",
   "execution_count": 9,
   "id": "0571f589-58e0-4c9e-9ad6-dffa84a9fa67",
   "metadata": {},
   "outputs": [
    {
     "name": "stdout",
     "output_type": "stream",
     "text": [
      "8.166666666666666 0.16666666666666607 0.00462962962962958 0.0\n"
     ]
    }
   ],
   "source": [
    "print(x, y, z, k)"
   ]
  },
  {
   "cell_type": "markdown",
   "id": "ced9f4ed-298a-4e9a-8c16-d2980b5e7f5e",
   "metadata": {},
   "source": [
    "### Comparasion Operator "
   ]
  },
  {
   "cell_type": "code",
   "execution_count": 10,
   "id": "2ccc51a1-ec14-4af0-a275-58f22b0217f0",
   "metadata": {},
   "outputs": [
    {
     "data": {
      "text/plain": [
       "False"
      ]
     },
     "execution_count": 10,
     "metadata": {},
     "output_type": "execute_result"
    }
   ],
   "source": [
    "2 == 3 "
   ]
  },
  {
   "cell_type": "code",
   "execution_count": 11,
   "id": "8fafc9ad-7d86-4d18-84d1-3148f2ab674a",
   "metadata": {},
   "outputs": [
    {
     "data": {
      "text/plain": [
       "True"
      ]
     },
     "execution_count": 11,
     "metadata": {},
     "output_type": "execute_result"
    }
   ],
   "source": [
    "2 != 3 "
   ]
  },
  {
   "cell_type": "markdown",
   "id": "c7573148-d1a5-4ff1-8beb-35a2dbbc6417",
   "metadata": {},
   "source": [
    "### Logical Operator \n",
    "1. And ( and ) ` True and False  output: False`\n",
    "2. Or ( or ) ` True or False output: True`\n",
    "3. Not ( not ) ` not False output: True`"
   ]
  },
  {
   "cell_type": "markdown",
   "id": "137bbe86-5749-4abd-9489-55e6d077ee27",
   "metadata": {},
   "source": [
    "> Note: [] -> False, \"\" -> False, 'something' -> True"
   ]
  },
  {
   "cell_type": "markdown",
   "id": "de7cab80-d6f9-486f-8bf1-a876bd7dad09",
   "metadata": {},
   "source": [
    "**Logical Operators Precedence Rules**\n",
    "1. not\n",
    "2. and\n",
    "3. or"
   ]
  },
  {
   "cell_type": "code",
   "execution_count": 12,
   "id": "4dbbc233-b05a-4805-b0a9-808666166bf2",
   "metadata": {},
   "outputs": [
    {
     "data": {
      "text/plain": [
       "False"
      ]
     },
     "execution_count": 12,
     "metadata": {},
     "output_type": "execute_result"
    }
   ],
   "source": [
    "False or True and not True"
   ]
  },
  {
   "cell_type": "markdown",
   "id": "3aa14cf2-f3ef-475f-9eb9-01b902076615",
   "metadata": {},
   "source": [
    "### Identy Operator \n",
    "The identity operators in Python to determine wheather a value is of a certain class or type. Thery they are use to determine hte type of data a certain vairable contain. \n",
    "\n",
    "Example: "
   ]
  },
  {
   "cell_type": "code",
   "execution_count": 13,
   "id": "53dcf735-3e0f-4f1d-826a-0250e6e9b313",
   "metadata": {},
   "outputs": [
    {
     "data": {
      "text/plain": [
       "False"
      ]
     },
     "execution_count": 13,
     "metadata": {},
     "output_type": "execute_result"
    }
   ],
   "source": [
    "x = 3\n",
    "type(x) is int \n",
    "type (x) is float \n",
    "type(x) is str"
   ]
  },
  {
   "cell_type": "markdown",
   "id": "0a665d0c-1fcd-4aaf-a090-3002e0e3803d",
   "metadata": {},
   "source": [
    "### Membership Operator \n",
    "It is used to test wheater a sequence is present in a object or not. \n",
    "Two operators in python are: \n",
    "- in\n",
    "- not in\n",
    "\n",
    "Example:"
   ]
  },
  {
   "cell_type": "code",
   "execution_count": 14,
   "id": "ebbd059b-2636-4a69-a882-4f5171f4d729",
   "metadata": {},
   "outputs": [
    {
     "data": {
      "text/plain": [
       "True"
      ]
     },
     "execution_count": 14,
     "metadata": {},
     "output_type": "execute_result"
    }
   ],
   "source": [
    "'h' in 'hello'"
   ]
  },
  {
   "cell_type": "markdown",
   "id": "cdef4d3e-6f0e-48a8-823b-e752eee36ff8",
   "metadata": {},
   "source": [
    "### Bit Wise Operator\n",
    "In Python, bitwise operators are used to performing bitwise calculation in integer. \n",
    "\n",
    "**Note: bitwise operator only works in integer**"
   ]
  },
  {
   "cell_type": "code",
   "execution_count": 15,
   "id": "c6e023ce-22be-44e2-a994-332357df5c3a",
   "metadata": {},
   "outputs": [
    {
     "data": {
      "text/plain": [
       "2"
      ]
     },
     "execution_count": 15,
     "metadata": {},
     "output_type": "execute_result"
    }
   ],
   "source": [
    "# Bitwise and ( & ) \n",
    "# 2 = 10 in binary \n",
    "# 3 = 11 in binary \n",
    "# 2 & 3 = 10 & 11 = 10 = 2 \n",
    "2 & 3"
   ]
  },
  {
   "cell_type": "code",
   "execution_count": 16,
   "id": "87969977-454c-46d5-becf-be9944c59791",
   "metadata": {},
   "outputs": [
    {
     "data": {
      "text/plain": [
       "3"
      ]
     },
     "execution_count": 16,
     "metadata": {},
     "output_type": "execute_result"
    }
   ],
   "source": [
    "# Bitwise or ( | ) \n",
    "# 2 = 10 in binary \n",
    "# 3 = 11 in binary \n",
    "# 2 | 3 = 10 | 11 = 11 = 3\n",
    "2 | 3"
   ]
  },
  {
   "cell_type": "code",
   "execution_count": 17,
   "id": "77f52d18-4e9f-414d-bb46-211ffb376454",
   "metadata": {},
   "outputs": [
    {
     "data": {
      "text/plain": [
       "1"
      ]
     },
     "execution_count": 17,
     "metadata": {},
     "output_type": "execute_result"
    }
   ],
   "source": [
    "# Bitwise xor ( ^ ) \n",
    "2 ^ 3 "
   ]
  },
  {
   "cell_type": "markdown",
   "id": "19dd0930-6cce-41bf-8b9f-1666b043d84e",
   "metadata": {},
   "source": [
    "## 4. Python list\n",
    "---\n",
    "**Note: Python list are mutable(changable)**"
   ]
  },
  {
   "cell_type": "code",
   "execution_count": 18,
   "id": "f18bea0a-b26d-4533-8e3b-ff081157e434",
   "metadata": {},
   "outputs": [
    {
     "data": {
      "text/plain": [
       "['Sunday', 'Monday', 'Tuesday', 'Wednesday', 'Thursday', 'Friday', 'Saturday']"
      ]
     },
     "execution_count": 18,
     "metadata": {},
     "output_type": "execute_result"
    }
   ],
   "source": [
    "# list is enclosed in square brackets \n",
    "days_of_week = ['Sunday', 'Monday', 'Tuesday', 'Wednesday', 'Thursday', 'Friday', 'Saturday']\n",
    "days_of_week"
   ]
  },
  {
   "cell_type": "code",
   "execution_count": 19,
   "id": "cd7bbe6a-d75b-4c1a-9419-def0066bb6d9",
   "metadata": {},
   "outputs": [
    {
     "data": {
      "text/plain": [
       "7"
      ]
     },
     "execution_count": 19,
     "metadata": {},
     "output_type": "execute_result"
    }
   ],
   "source": [
    "# You can find hte number of items in the list using len()\n",
    "len(days_of_week)"
   ]
  },
  {
   "cell_type": "markdown",
   "id": "a18ef082-70c8-4f46-b764-976a38026d02",
   "metadata": {},
   "source": [
    "list can have any data type but it is not recommended to put different data type in a list as it can slow the program"
   ]
  },
  {
   "cell_type": "code",
   "execution_count": 20,
   "id": "072178b9-4360-4f24-8461-2246397276dd",
   "metadata": {},
   "outputs": [
    {
     "data": {
      "text/plain": [
       "[1, 31.1, 'Hello', True]"
      ]
     },
     "execution_count": 20,
     "metadata": {},
     "output_type": "execute_result"
    }
   ],
   "source": [
    "my_list = [1, 31.1, 'Hello' , True]\n",
    "my_list"
   ]
  },
  {
   "cell_type": "code",
   "execution_count": 21,
   "id": "6dd8fb27-a3cc-4339-88c6-bdf20e925656",
   "metadata": {},
   "outputs": [
    {
     "data": {
      "text/plain": [
       "'Hello'"
      ]
     },
     "execution_count": 21,
     "metadata": {},
     "output_type": "execute_result"
    }
   ],
   "source": [
    "# Accessing list items \n",
    "my_list[2]"
   ]
  },
  {
   "cell_type": "code",
   "execution_count": 22,
   "id": "37c28491-dc63-45f6-bbe9-f4c93dd0018f",
   "metadata": {},
   "outputs": [
    {
     "data": {
      "text/plain": [
       "['Monday', 'Tuesday']"
      ]
     },
     "execution_count": 22,
     "metadata": {},
     "output_type": "execute_result"
    }
   ],
   "source": [
    "# Slicking\n",
    "days_of_week[1:3]"
   ]
  },
  {
   "cell_type": "code",
   "execution_count": 23,
   "id": "677c2c4f-9445-4022-9a50-9c0728426d6b",
   "metadata": {},
   "outputs": [
    {
     "data": {
      "text/plain": [
       "'Saturday'"
      ]
     },
     "execution_count": 23,
     "metadata": {},
     "output_type": "execute_result"
    }
   ],
   "source": [
    "# Negative indexing \n",
    "days_of_week[-1]"
   ]
  },
  {
   "cell_type": "markdown",
   "id": "76b8042c-0fac-4df9-aafe-9741333a3c62",
   "metadata": {},
   "source": [
    "### Array manupulation methods "
   ]
  },
  {
   "cell_type": "code",
   "execution_count": 24,
   "id": "c11ee7fc-78e1-4234-ada2-f7fca5649ac3",
   "metadata": {},
   "outputs": [
    {
     "data": {
      "text/plain": [
       "[1, 'inserted', 2, 3]"
      ]
     },
     "execution_count": 24,
     "metadata": {},
     "output_type": "execute_result"
    }
   ],
   "source": [
    "# inserting items\n",
    "my_list = [1, 2, 3]\n",
    "my_list.insert(1, \"inserted\")\n",
    "my_list"
   ]
  },
  {
   "cell_type": "code",
   "execution_count": 25,
   "id": "4e2b141b-57d7-4dc7-ade0-2eee08feb3f1",
   "metadata": {},
   "outputs": [
    {
     "data": {
      "text/plain": [
       "[1, 'inserted', 2, 3, 4]"
      ]
     },
     "execution_count": 25,
     "metadata": {},
     "output_type": "execute_result"
    }
   ],
   "source": [
    "# appending items\n",
    "my_list.append(4)\n",
    "my_list"
   ]
  },
  {
   "cell_type": "code",
   "execution_count": 26,
   "id": "a73e8e8a-7e14-43c3-9c0e-9e8b3e07b90b",
   "metadata": {},
   "outputs": [
    {
     "data": {
      "text/plain": [
       "[1, 'inserted', 2, 3, 4, 6, 7, 8]"
      ]
     },
     "execution_count": 26,
     "metadata": {},
     "output_type": "execute_result"
    }
   ],
   "source": [
    "# extend list\n",
    "add_list = [6, 7, 8]\n",
    "my_list.extend(add_list)\n",
    "my_list"
   ]
  },
  {
   "cell_type": "code",
   "execution_count": 27,
   "id": "ad114856-eb22-4f84-915c-4c682d24375e",
   "metadata": {},
   "outputs": [
    {
     "data": {
      "text/plain": [
       "[1, 'inserted', 3, 4, 6, 7, 8]"
      ]
     },
     "execution_count": 27,
     "metadata": {},
     "output_type": "execute_result"
    }
   ],
   "source": [
    "# remove items\n",
    "my_list.remove(2)\n",
    "my_list"
   ]
  },
  {
   "cell_type": "code",
   "execution_count": 28,
   "id": "3a799366-f013-4274-9a0f-e13c6d2ae3a4",
   "metadata": {},
   "outputs": [
    {
     "data": {
      "text/plain": [
       "[1, 'inserted', 3, 4, 6, 7]"
      ]
     },
     "execution_count": 28,
     "metadata": {},
     "output_type": "execute_result"
    }
   ],
   "source": [
    "# pop method\n",
    "my_list.pop()\n",
    "my_list"
   ]
  },
  {
   "cell_type": "code",
   "execution_count": 29,
   "id": "86f7cc7f-7967-459e-b130-aa94e05b7457",
   "metadata": {},
   "outputs": [
    {
     "data": {
      "text/plain": [
       "[1, 'inserted', 4, 6, 7]"
      ]
     },
     "execution_count": 29,
     "metadata": {},
     "output_type": "execute_result"
    }
   ],
   "source": [
    "# pop items by index\n",
    "my_list.pop(2)\n",
    "my_list"
   ]
  },
  {
   "cell_type": "code",
   "execution_count": 30,
   "id": "a77d217a-4855-4c7d-9bde-a72efc0f439c",
   "metadata": {},
   "outputs": [
    {
     "data": {
      "text/plain": [
       "['inserted', 4, 6, 7]"
      ]
     },
     "execution_count": 30,
     "metadata": {},
     "output_type": "execute_result"
    }
   ],
   "source": [
    "# del keyword\n",
    "del my_list[0]\n",
    "my_list"
   ]
  },
  {
   "cell_type": "code",
   "execution_count": 31,
   "id": "cd2231d8-a41f-4ad4-ad0b-ba72a797e7b1",
   "metadata": {},
   "outputs": [
    {
     "ename": "NameError",
     "evalue": "name 'my_list' is not defined",
     "output_type": "error",
     "traceback": [
      "\u001b[0;31m---------------------------------------------------------------------------\u001b[0m",
      "\u001b[0;31mNameError\u001b[0m                                 Traceback (most recent call last)",
      "Cell \u001b[0;32mIn[31], line 3\u001b[0m\n\u001b[1;32m      1\u001b[0m \u001b[38;5;66;03m# use del keyword to remove vairable from memory\u001b[39;00m\n\u001b[1;32m      2\u001b[0m \u001b[38;5;28;01mdel\u001b[39;00m my_list\n\u001b[0;32m----> 3\u001b[0m my_list\n",
      "\u001b[0;31mNameError\u001b[0m: name 'my_list' is not defined"
     ]
    }
   ],
   "source": [
    "# use del keyword to remove vairable from memory\n",
    "del my_list\n",
    "my_list"
   ]
  },
  {
   "cell_type": "code",
   "execution_count": 32,
   "id": "e6412ea8-7d8b-45db-ae5b-fd7ecc22d3ad",
   "metadata": {},
   "outputs": [
    {
     "data": {
      "text/plain": [
       "[]"
      ]
     },
     "execution_count": 32,
     "metadata": {},
     "output_type": "execute_result"
    }
   ],
   "source": [
    "# clear method \n",
    "my_list = [1, 2, 3]\n",
    "my_list.clear()\n",
    "my_list"
   ]
  },
  {
   "cell_type": "code",
   "execution_count": 35,
   "id": "22e9ab0f-7646-4495-acf5-0800aa904772",
   "metadata": {},
   "outputs": [
    {
     "data": {
      "text/plain": [
       "['Jan', 'Feb', 'Mar', 'Apr']"
      ]
     },
     "execution_count": 35,
     "metadata": {},
     "output_type": "execute_result"
    }
   ],
   "source": [
    "#sorting list \n",
    "month = ['Jan', 'Feb', 'Mar', 'Apr']\n",
    "month"
   ]
  },
  {
   "cell_type": "code",
   "execution_count": 36,
   "id": "07db85e0-18ee-4c36-a98e-b0e0745d836a",
   "metadata": {},
   "outputs": [
    {
     "data": {
      "text/plain": [
       "['Apr', 'Feb', 'Jan', 'Mar']"
      ]
     },
     "execution_count": 36,
     "metadata": {},
     "output_type": "execute_result"
    }
   ],
   "source": [
    "month.sort()\n",
    "month"
   ]
  },
  {
   "cell_type": "code",
   "execution_count": 38,
   "id": "c09a5fd3-3ecc-4e2d-b1db-e09c64842911",
   "metadata": {},
   "outputs": [
    {
     "data": {
      "text/plain": [
       "['Mar', 'Jan', 'Feb', 'Apr']"
      ]
     },
     "execution_count": 38,
     "metadata": {},
     "output_type": "execute_result"
    }
   ],
   "source": [
    "# sorting in reverse order \n",
    "month.sort(reverse = True)\n",
    "month"
   ]
  },
  {
   "cell_type": "code",
   "execution_count": 39,
   "id": "a8060925-e727-41af-b38f-e00589dca760",
   "metadata": {},
   "outputs": [
    {
     "data": {
      "text/plain": [
       "['Kathmandu', 'LonDon', 'Pokhara']"
      ]
     },
     "execution_count": 39,
     "metadata": {},
     "output_type": "execute_result"
    }
   ],
   "source": [
    "# sorting list by making lower case \n",
    "cities = ['Kathmandu', 'Pokhara', 'LonDon']\n",
    "cities.sort(key=str.lower)\n",
    "cities"
   ]
  },
  {
   "cell_type": "code",
   "execution_count": 40,
   "id": "de526185-2705-44d8-9005-bc05b9826a87",
   "metadata": {},
   "outputs": [
    {
     "data": {
      "text/plain": [
       "['Pokhara', 'LonDon', 'Kathmandu']"
      ]
     },
     "execution_count": 40,
     "metadata": {},
     "output_type": "execute_result"
    }
   ],
   "source": [
    "# reversing list \n",
    "cities.reverse()\n",
    "cities"
   ]
  },
  {
   "cell_type": "markdown",
   "id": "3dc50791-6d97-45e3-9e3e-acbdd6a6808c",
   "metadata": {},
   "source": [
    "## Python Conditionals \n",
    "---"
   ]
  },
  {
   "cell_type": "markdown",
   "id": "c658e49b-8d05-4af1-88a0-96e93d17b082",
   "metadata": {},
   "source": [
    "### if statement "
   ]
  },
  {
   "cell_type": "code",
   "execution_count": 41,
   "id": "15c0c76c-2ead-4851-9798-d1ee488c8a00",
   "metadata": {},
   "outputs": [
    {
     "name": "stdout",
     "output_type": "stream",
     "text": [
      "x is greater than 3\n"
     ]
    }
   ],
   "source": [
    "# example \n",
    "x = 5 \n",
    "if x > 3: \n",
    "    print(\"x is greater than 3\")"
   ]
  },
  {
   "cell_type": "code",
   "execution_count": 43,
   "id": "1a7fe7ee-f7a2-4a05-8146-616390924137",
   "metadata": {},
   "outputs": [],
   "source": [
    "if x == 3: \n",
    "    print(\"x is equal to 5\")"
   ]
  },
  {
   "cell_type": "code",
   "execution_count": 44,
   "id": "330c4ed9-4226-4514-9a10-60daa5a51b64",
   "metadata": {},
   "outputs": [
    {
     "name": "stdout",
     "output_type": "stream",
     "text": [
      "x is equal to 5\n"
     ]
    }
   ],
   "source": [
    "if x == 3: \n",
    "    print(\"x is equal to 3\")\n",
    "elif x == 5: \n",
    "    print(\"x is equal to 5\")\n",
    "else: \n",
    "    print(\"x maybe equal to anything\")"
   ]
  },
  {
   "cell_type": "code",
   "execution_count": 49,
   "id": "439e0eac-0ed8-4aba-bbfd-b51d27198da3",
   "metadata": {},
   "outputs": [
    {
     "name": "stdin",
     "output_type": "stream",
     "text": [
      "Enter your age 18\n"
     ]
    },
    {
     "name": "stdout",
     "output_type": "stream",
     "text": [
      "Get your citizenship to vote\n"
     ]
    }
   ],
   "source": [
    "age = int(input(\"Enter your age\"))\n",
    "if age == 18: \n",
    "    print(\"Get your citizenship to vote\")\n",
    "elif age > 18: \n",
    "    print(\"You can vote\")\n",
    "elif age < 18: \n",
    "    print(\"You can't vote\")\n",
    "else:\n",
    "    print(\"invalid age\")"
   ]
  },
  {
   "cell_type": "markdown",
   "id": "016fec3a-1ea7-4849-ba6b-38313efb35c0",
   "metadata": {},
   "source": [
    "## Short hand if \n",
    "---"
   ]
  },
  {
   "cell_type": "code",
   "execution_count": 1,
   "id": "1f0842f3-c40d-4969-a6b1-97cb25df7a84",
   "metadata": {},
   "outputs": [
    {
     "name": "stdout",
     "output_type": "stream",
     "text": [
      "x is not equal to 2\n"
     ]
    }
   ],
   "source": [
    "x = 3 \n",
    "print(\"x is equal to 2\") if x == 2 else print(\"x is not equal to 2\")"
   ]
  },
  {
   "cell_type": "markdown",
   "id": "fd5e643f-f537-49a9-bfbe-6819ec30aa27",
   "metadata": {},
   "source": [
    "## Nested if\n",
    "---"
   ]
  },
  {
   "cell_type": "code",
   "execution_count": 2,
   "id": "0776d0f9-274b-46c6-ab7d-b93e63a7d1c0",
   "metadata": {},
   "outputs": [
    {
     "name": "stdout",
     "output_type": "stream",
     "text": [
      "x is greater than 10\n",
      "and it is greater than 30 as well\n"
     ]
    }
   ],
   "source": [
    "x = 35\n",
    "if x > 10: \n",
    "    print(\"x is greater than 10\")\n",
    "    if x < 30: \n",
    "        print(\"but it is less than 30\")\n",
    "    else: \n",
    "        print(\"and it is greater than 30 as well\")\n",
    "        "
   ]
  },
  {
   "cell_type": "markdown",
   "id": "7aa12c17-16bf-40a6-b671-73d9e5e39b33",
   "metadata": {},
   "source": [
    "# Python loops\n",
    "---"
   ]
  },
  {
   "cell_type": "markdown",
   "id": "34179f5b-88ee-4248-bdf7-23c32295b79c",
   "metadata": {},
   "source": [
    "## While loop\n",
    "---"
   ]
  },
  {
   "cell_type": "code",
   "execution_count": 5,
   "id": "56a55145-fe9a-46e2-8c77-43450f634fb1",
   "metadata": {},
   "outputs": [
    {
     "name": "stdout",
     "output_type": "stream",
     "text": [
      "0\n",
      "1\n",
      "2\n",
      "3\n",
      "4\n",
      "5\n",
      "6\n",
      "7\n",
      "8\n",
      "9\n"
     ]
    }
   ],
   "source": [
    "x = 0 \n",
    "while x < 10:\n",
    "    print(x)\n",
    "    x += 1 "
   ]
  },
  {
   "cell_type": "markdown",
   "id": "d9603a20-4ceb-4f52-918f-050f58bac849",
   "metadata": {},
   "source": [
    "### break statement\n",
    "\n",
    "The break statement breaks the loop and the execution exits the loop \n"
   ]
  },
  {
   "cell_type": "code",
   "execution_count": 3,
   "id": "0d1f6b25-9172-4b3c-9fad-17d5ccf4b5fe",
   "metadata": {},
   "outputs": [
    {
     "name": "stdout",
     "output_type": "stream",
     "text": [
      "0\n",
      "1\n",
      "2\n",
      "3\n"
     ]
    }
   ],
   "source": [
    "x = 0 \n",
    "while x < 10: \n",
    "    print(x)\n",
    "    x += 1\n",
    "    if x == 4: \n",
    "        break"
   ]
  },
  {
   "cell_type": "markdown",
   "id": "3bbb3ac0-e5e0-4b01-8b95-908f7087e2f9",
   "metadata": {},
   "source": [
    "### continue statement \n",
    "\n",
    "The continue statement stops hte current loop iteration and continues with the new iteration. "
   ]
  },
  {
   "cell_type": "code",
   "execution_count": 6,
   "id": "44404d55-d75c-478d-80b8-9166d5b62057",
   "metadata": {},
   "outputs": [
    {
     "name": "stdout",
     "output_type": "stream",
     "text": [
      "1\n",
      "2\n",
      "4\n",
      "5\n",
      "6\n",
      "7\n",
      "8\n",
      "9\n",
      "10\n"
     ]
    }
   ],
   "source": [
    "x = 0 \n",
    "while x < 10:\n",
    "    x += 1\n",
    "    if x == 3:\n",
    "        continue\n",
    "    print(x)"
   ]
  },
  {
   "cell_type": "markdown",
   "id": "e91606d3-fd2e-40d0-8951-e476f6122285",
   "metadata": {},
   "source": [
    "## For loop \n",
    "---"
   ]
  },
  {
   "cell_type": "markdown",
   "id": "eaab2e88-b5ee-43d4-bdd5-3d3f8a1a740f",
   "metadata": {},
   "source": [
    "The for loop is something you will be using a lot. It can iterate over a sequence (i.e. list, tuple, set, dict, string)"
   ]
  },
  {
   "cell_type": "code",
   "execution_count": 9,
   "id": "78e2599d-e7ad-4adf-9ae6-e04e88605e11",
   "metadata": {},
   "outputs": [
    {
     "name": "stdout",
     "output_type": "stream",
     "text": [
      "one\n",
      "two\n",
      "three\n"
     ]
    }
   ],
   "source": [
    "# iterate over a list \n",
    "list = [\"one\", \"two\", \"three\"]\n",
    "for num in list:\n",
    "    print(num)"
   ]
  },
  {
   "cell_type": "code",
   "execution_count": 11,
   "id": "e5f7f6c8-21b9-44b6-b60f-bac50fa774fe",
   "metadata": {},
   "outputs": [
    {
     "name": "stdout",
     "output_type": "stream",
     "text": [
      "P\n",
      "y\n",
      "t\n"
     ]
    }
   ],
   "source": [
    "# iterate over a string\n",
    "for i in \"Python\": \n",
    "    print(i)\n",
    "    if i == \"t\":\n",
    "        break"
   ]
  },
  {
   "cell_type": "markdown",
   "id": "7bf0a831-f944-42d9-b046-614c4d708341",
   "metadata": {},
   "source": [
    "### The range function "
   ]
  },
  {
   "cell_type": "markdown",
   "id": "7a4a2528-f916-4ef2-8d2b-0ad9f270d1c3",
   "metadata": {},
   "source": [
    "the range() function returns a sequence of numbers starting with 0 ( by default ) and incremented by 1 ( by default) up to the number less than one provided as argument. "
   ]
  },
  {
   "cell_type": "code",
   "execution_count": 14,
   "id": "55bab5ff-1963-45e1-82f9-4c87cb915bea",
   "metadata": {},
   "outputs": [
    {
     "name": "stdout",
     "output_type": "stream",
     "text": [
      "0\n",
      "1\n",
      "2\n",
      "3\n",
      "4\n",
      "5\n"
     ]
    }
   ],
   "source": [
    "for i in range(6):\n",
    "    print(i)"
   ]
  },
  {
   "cell_type": "markdown",
   "id": "feaa9c93-c263-4566-a7eb-c18cbe17953c",
   "metadata": {},
   "source": [
    " `syntax: range(start, stop, step)`"
   ]
  },
  {
   "cell_type": "code",
   "execution_count": 15,
   "id": "443d6225-16de-4925-b874-6606cd1bb854",
   "metadata": {},
   "outputs": [
    {
     "name": "stdout",
     "output_type": "stream",
     "text": [
      "2\n",
      "5\n"
     ]
    }
   ],
   "source": [
    "for i in range(2, 7, 3):\n",
    "    print(i)"
   ]
  },
  {
   "cell_type": "markdown",
   "id": "63ec90f0-bfb2-4216-9109-90716332aed3",
   "metadata": {},
   "source": [
    "### Nested loop\n"
   ]
  },
  {
   "cell_type": "code",
   "execution_count": 16,
   "id": "abb9ca19-c523-4102-85a6-42c9279ed20c",
   "metadata": {},
   "outputs": [
    {
     "name": "stdout",
     "output_type": "stream",
     "text": [
      "red chair\n",
      "red table\n",
      "red house\n",
      "blue chair\n",
      "blue table\n",
      "blue house\n",
      "white chair\n",
      "white table\n",
      "white house\n"
     ]
    }
   ],
   "source": [
    "colors = [\"red\", \"blue\", \"white\"]\n",
    "objects = ['chair', 'table', 'house']\n",
    "\n",
    "for color in colors: \n",
    "    for object in objects: \n",
    "        print(color, object)"
   ]
  },
  {
   "cell_type": "markdown",
   "id": "b4a5c311-b82b-433d-a303-63874072ac51",
   "metadata": {},
   "source": [
    "# Python Function \n",
    "---"
   ]
  },
  {
   "cell_type": "code",
   "execution_count": 23,
   "id": "f096335a-8917-4890-81f1-f5ff71e4f806",
   "metadata": {},
   "outputs": [
    {
     "data": {
      "text/plain": [
       "7"
      ]
     },
     "execution_count": 23,
     "metadata": {},
     "output_type": "execute_result"
    }
   ],
   "source": [
    "def add(x, y):\n",
    "    return x + y\n",
    "add(3, 4)"
   ]
  },
  {
   "cell_type": "markdown",
   "id": "84ddf476-ffe7-41bd-b37d-57835eac3b8e",
   "metadata": {},
   "source": [
    "## Arbitary arguments (*args) \n",
    "\n",
    "If you do not know in advance how many arguments will be passed, you can define a function with arbitary arguments by adding an * (asterisk) before the parameter name. "
   ]
  },
  {
   "cell_type": "code",
   "execution_count": 21,
   "id": "5ac59fd2-6480-4d0f-a8b4-f95ac9a99858",
   "metadata": {},
   "outputs": [
    {
     "data": {
      "text/plain": [
       "18"
      ]
     },
     "execution_count": 21,
     "metadata": {},
     "output_type": "execute_result"
    }
   ],
   "source": [
    "def add(*numbers):\n",
    "    return sum(numbers)\n",
    "\n",
    "add(2, 3, 5, 8)\n",
    "        "
   ]
  },
  {
   "cell_type": "markdown",
   "id": "790db528-6ee5-4be1-b5a2-a1bbc7eb872b",
   "metadata": {},
   "source": [
    "## Default parameter \n"
   ]
  },
  {
   "cell_type": "code",
   "execution_count": 24,
   "id": "f14e536a-28cf-4ba0-84f0-82c478e10542",
   "metadata": {},
   "outputs": [
    {
     "data": {
      "text/plain": [
       "12"
      ]
     },
     "execution_count": 24,
     "metadata": {},
     "output_type": "execute_result"
    }
   ],
   "source": [
    "def multiply(x, y=4):\n",
    "    return x*y\n",
    "multiply(3)"
   ]
  },
  {
   "cell_type": "code",
   "execution_count": 30,
   "id": "3ece8d57-a12d-46a4-ae6f-9f8f4378b87e",
   "metadata": {},
   "outputs": [
    {
     "data": {
      "text/plain": [
       "4"
      ]
     },
     "execution_count": 30,
     "metadata": {},
     "output_type": "execute_result"
    }
   ],
   "source": [
    "def multiply(x=4, y=None):\n",
    "    return x * y\n",
    "\n",
    "multiply(y=1)\n"
   ]
  },
  {
   "cell_type": "code",
   "execution_count": null,
   "id": "fd2d42d8-367e-447f-9baa-35e7ccc3d119",
   "metadata": {},
   "outputs": [],
   "source": []
  }
 ],
 "metadata": {
  "kernelspec": {
   "display_name": "Python 3 (ipykernel)",
   "language": "python",
   "name": "python3"
  },
  "language_info": {
   "codemirror_mode": {
    "name": "ipython",
    "version": 3
   },
   "file_extension": ".py",
   "mimetype": "text/x-python",
   "name": "python",
   "nbconvert_exporter": "python",
   "pygments_lexer": "ipython3",
   "version": "3.12.4"
  }
 },
 "nbformat": 4,
 "nbformat_minor": 5
}
