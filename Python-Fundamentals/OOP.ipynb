{
 "cells": [
  {
   "cell_type": "markdown",
   "id": "b229ff81-c848-494d-8630-1b4978954737",
   "metadata": {},
   "source": [
    "# OBJECT-ORENTED CONCEPTS\n",
    "---\n",
    "Everything in Python is an object. For example, int, str, float, list, tuple, distionary etc. \n",
    "\n",
    "## Class and Object instances\n",
    "---"
   ]
  },
  {
   "cell_type": "code",
   "execution_count": 2,
   "id": "62843ab6-e4d3-4038-9026-772770ad5b62",
   "metadata": {},
   "outputs": [],
   "source": [
    "class Student:\n",
    "    pass"
   ]
  },
  {
   "cell_type": "code",
   "execution_count": 3,
   "id": "7ae76b2f-5ae5-4492-9c20-8763c56fb313",
   "metadata": {},
   "outputs": [],
   "source": [
    "student1 = Student()\n",
    "student2 = Student()"
   ]
  },
  {
   "cell_type": "code",
   "execution_count": 13,
   "id": "b0e6f047-fb0d-433f-b9f3-64f2c7dbf4be",
   "metadata": {},
   "outputs": [],
   "source": [
    "class student: \n",
    "    def __init__(self, name, level): # constructor \n",
    "        # instant vairable \n",
    "        self.name = name\n",
    "        self.level = level \n",
    "\n",
    "student1 = student(\"Biraj\", 10)"
   ]
  },
  {
   "cell_type": "code",
   "execution_count": 8,
   "id": "b27dad45-59b5-49cf-bca9-8560766c0127",
   "metadata": {},
   "outputs": [
    {
     "data": {
      "text/plain": [
       "'Biraj'"
      ]
     },
     "execution_count": 8,
     "metadata": {},
     "output_type": "execute_result"
    }
   ],
   "source": [
    "student1.name"
   ]
  },
  {
   "cell_type": "code",
   "execution_count": 6,
   "id": "26103d59-1f65-47b9-a425-8826868d12b1",
   "metadata": {},
   "outputs": [
    {
     "data": {
      "text/plain": [
       "10"
      ]
     },
     "execution_count": 6,
     "metadata": {},
     "output_type": "execute_result"
    }
   ],
   "source": [
    "student1.level"
   ]
  },
  {
   "cell_type": "code",
   "execution_count": 14,
   "id": "b223eb5b-2c5d-40ef-b2d2-99dce287dff0",
   "metadata": {},
   "outputs": [
    {
     "name": "stdout",
     "output_type": "stream",
     "text": [
      "biraj student in level 10\n"
     ]
    }
   ],
   "source": [
    "# __str__ method \n",
    "\n",
    "class Student: \n",
    "    def __init__(self, name, level): \n",
    "        self.name = name\n",
    "        self.level = level \n",
    "\n",
    "    def __str__(self):\n",
    "        return \"{} student in level {}\".format(self.name, self.level)\n",
    "\n",
    "    def level_up(self):\n",
    "        self.level += 1 \n",
    "\n",
    "student1 = Student(\"biraj\", 10)\n",
    "print(student1)\n"
   ]
  },
  {
   "cell_type": "code",
   "execution_count": 17,
   "id": "7d62ebaa-f275-4ce4-bc41-9af564b3a967",
   "metadata": {},
   "outputs": [
    {
     "name": "stdout",
     "output_type": "stream",
     "text": [
      "biraj student in level 13\n"
     ]
    }
   ],
   "source": [
    "student1.level_up()\n",
    "print(student1)"
   ]
  },
  {
   "cell_type": "markdown",
   "id": "f751b1f3-1f54-4e9a-9eb6-463dcb66c64f",
   "metadata": {},
   "source": [
    "# Inheritence \n",
    "---"
   ]
  },
  {
   "cell_type": "code",
   "execution_count": 22,
   "id": "ba75ddf0-6125-42ca-90b0-4bbeef7e0314",
   "metadata": {},
   "outputs": [],
   "source": [
    "# Rectangle class \n",
    "class Rectangle: \n",
    "    def __init__(self, color, filled, width, length): \n",
    "        self.__color = color\n",
    "        self.__filled = filled \n",
    "        self.__width = width \n",
    "        self.__length = length \n",
    "    #methods \n",
    "    def get_color(self): \n",
    "        return self.__color\n",
    "    def set_color(self, color): \n",
    "        self.__color = color\n",
    "    def is_filled(self):\n",
    "        return self.__filled \n",
    "    def set_filled(self, filled): \n",
    "        self.__filled = filled \n",
    "    def get_area(self): \n",
    "        return self.__width * self.__length\n",
    "\n",
    "class Circle: \n",
    "    def __init__(self, color, filled, radius): \n",
    "        self.__color = color\n",
    "        self.__filled = filled \n",
    "        self.__radius = radius \n",
    "    def get_color(self): \n",
    "        return self.__color\n",
    "    def set_color(self, color): \n",
    "        self.__color = color \n",
    "    def is_filled(self): \n",
    "        return self.__filled\n",
    "    def set_filled(self, filled): \n",
    "        self.__filled = filled \n",
    "    def get_area(self): \n",
    "        return math.pi * self.__radius**2"
   ]
  },
  {
   "cell_type": "markdown",
   "id": "9c164a3a-2f91-4cb5-b022-fc9b7d07e08f",
   "metadata": {},
   "source": [
    "To reduce data redundance and data integrity concept of inheretence was introduced. \n",
    "## Declaration of inheritance"
   ]
  },
  {
   "cell_type": "code",
   "execution_count": 2,
   "id": "aca6dbd6-eb82-45fd-9d98-26498578124d",
   "metadata": {},
   "outputs": [],
   "source": [
    "class ParentClass: \n",
    "    # body of ParentClass\n",
    "    # method1\n",
    "    # method2\n",
    "    pass\n",
    "class ChildClass(ParentClass):\n",
    "    # body of ChildClass\n",
    "    # method1\n",
    "    # method2\n",
    "    pass"
   ]
  },
  {
   "cell_type": "markdown",
   "id": "c55cd9c4-1928-431a-961e-d521e93105b3",
   "metadata": {},
   "source": [
    "# Polymorphism and Method overriding\n",
    "---"
   ]
  },
  {
   "cell_type": "code",
   "execution_count": 3,
   "id": "003b1ae5-7855-4606-8d0a-72e9bba23031",
   "metadata": {},
   "outputs": [
    {
     "name": "stdout",
     "output_type": "stream",
     "text": [
      "explore() method from class A\n",
      "explore() method from class B\n"
     ]
    }
   ],
   "source": [
    "class A: \n",
    "    def explore(self): \n",
    "        print(\"explore() method from class A\")\n",
    "class B: \n",
    "    def explore(self):\n",
    "        print(\"explore() method from class B\")\n",
    "\n",
    "b_obj = B()\n",
    "a_obj = A()\n",
    "\n",
    "a_obj.explore()\n",
    "b_obj.explore()"
   ]
  },
  {
   "cell_type": "code",
   "execution_count": 10,
   "id": "f06c64dd-4600-473d-b3f1-d8a012fb68c8",
   "metadata": {},
   "outputs": [
    {
     "name": "stdout",
     "output_type": "stream",
     "text": [
      "explore() method from class A\n",
      "explore() method from clas B\n"
     ]
    }
   ],
   "source": [
    "class A: \n",
    "    def explore(self): \n",
    "        print(\"explore() method from class A\") \n",
    "class B(A): \n",
    "    def explore(self): \n",
    "        super().explore()\n",
    "        print(\"explore() method from clas B\")\n",
    "\n",
    "b_obj = B()\n",
    "b_obj.explore()"
   ]
  },
  {
   "cell_type": "markdown",
   "id": "3243264a-8fa0-4c7f-8918-6c94acdc51a5",
   "metadata": {},
   "source": [
    "# List Comprehension "
   ]
  },
  {
   "cell_type": "code",
   "execution_count": 12,
   "id": "5d8b0c0a-40f9-4d53-8589-a8803b52ab99",
   "metadata": {},
   "outputs": [
    {
     "name": "stdout",
     "output_type": "stream",
     "text": [
      "[1, 4, 3, 16, 5, 36, 7, 64, 9]\n"
     ]
    }
   ],
   "source": [
    "sq_list = [i*i for i in range(1, 10)]\n",
    "\n",
    "#squaring number if it is even else leave it as it is\n",
    "sq_even_list = [i**2 if i % 2 == 0 else i for i in range(1, 10)]\n",
    "print(sq_even_list)\n"
   ]
  },
  {
   "cell_type": "code",
   "execution_count": 15,
   "id": "9b6662aa-bafd-420e-b358-0d4e6fc549a2",
   "metadata": {},
   "outputs": [
    {
     "data": {
      "text/plain": [
       "[0, 6, 12, 18]"
      ]
     },
     "execution_count": 15,
     "metadata": {},
     "output_type": "execute_result"
    }
   ],
   "source": [
    "# Nested if loop in list comprehension \n",
    "lst = [i for i in range(20) if i % 2 == 0 if i % 3 == 0 ]\n",
    "lst"
   ]
  },
  {
   "cell_type": "code",
   "execution_count": 16,
   "id": "878f1ee5-8265-4d90-bf50-d9f37e835c3f",
   "metadata": {},
   "outputs": [
    {
     "data": {
      "text/plain": [
       "['Steve', 'Kara', 'Saif']"
      ]
     },
     "execution_count": 16,
     "metadata": {},
     "output_type": "execute_result"
    }
   ],
   "source": [
    "#calling a method on each element using list comprehension \n",
    "\n",
    "names = [\"STEVE\", \"KaRa\", \"SAIF\"]\n",
    "lst = [name.capitalize() for name in names]\n",
    "lst"
   ]
  },
  {
   "cell_type": "code",
   "execution_count": 18,
   "id": "62cebbcd-5014-4212-84dc-07223013640f",
   "metadata": {},
   "outputs": [
    {
     "data": {
      "text/plain": [
       "[1, 2, 2, 4, 3, 6]"
      ]
     },
     "execution_count": 18,
     "metadata": {},
     "output_type": "execute_result"
    }
   ],
   "source": [
    "# nesting for loop \n",
    "lst = [x*y for x in range(1, 4) for y in range(1, 3)]\n",
    "lst"
   ]
  },
  {
   "cell_type": "markdown",
   "id": "b5be78b5-df77-40ff-874d-583507a94428",
   "metadata": {},
   "source": [
    "# Set Comprehension \n",
    "---"
   ]
  },
  {
   "cell_type": "code",
   "execution_count": 27,
   "id": "569f6dc3-6d47-4113-ab16-396bb76d27e8",
   "metadata": {},
   "outputs": [
    {
     "data": {
      "text/plain": [
       "{'Apple': 10.8, 'Orange': 7, 'kiwi': 22.5, 'banana': 6}"
      ]
     },
     "execution_count": 27,
     "metadata": {},
     "output_type": "execute_result"
    }
   ],
   "source": [
    "bill = {'Apple': 12, 'Orange': 7, 'kiwi': 25, 'banana':6}\n",
    "\n",
    "discount = {key: value*0.9 if value > 10 else value for key, value in bill.items()}\n",
    "discount"
   ]
  },
  {
   "cell_type": "code",
   "execution_count": null,
   "id": "43db0537-07c1-41d7-bd0c-de53aba3b8e2",
   "metadata": {},
   "outputs": [],
   "source": []
  }
 ],
 "metadata": {
  "kernelspec": {
   "display_name": "Python 3 (ipykernel)",
   "language": "python",
   "name": "python3"
  },
  "language_info": {
   "codemirror_mode": {
    "name": "ipython",
    "version": 3
   },
   "file_extension": ".py",
   "mimetype": "text/x-python",
   "name": "python",
   "nbconvert_exporter": "python",
   "pygments_lexer": "ipython3",
   "version": "3.12.4"
  }
 },
 "nbformat": 4,
 "nbformat_minor": 5
}
