{
 "cells": [
  {
   "cell_type": "markdown",
   "id": "b229ff81-c848-494d-8630-1b4978954737",
   "metadata": {},
   "source": [
    "# OBJECT-ORENTED CONCEPTS\n",
    "---\n",
    "Everything in Python is an object. For example, int, str, float, list, tuple, distionary etc. \n",
    "\n",
    "## Class and Object instances\n",
    "---"
   ]
  },
  {
   "cell_type": "code",
   "execution_count": 2,
   "id": "62843ab6-e4d3-4038-9026-772770ad5b62",
   "metadata": {},
   "outputs": [],
   "source": [
    "class Student:\n",
    "    pass"
   ]
  },
  {
   "cell_type": "code",
   "execution_count": 3,
   "id": "7ae76b2f-5ae5-4492-9c20-8763c56fb313",
   "metadata": {},
   "outputs": [],
   "source": [
    "student1 = Student()\n",
    "student2 = Student()"
   ]
  },
  {
   "cell_type": "code",
   "execution_count": 13,
   "id": "b0e6f047-fb0d-433f-b9f3-64f2c7dbf4be",
   "metadata": {},
   "outputs": [],
   "source": [
    "class student: \n",
    "    def __init__(self, name, level): # constructor \n",
    "        # instant vairable \n",
    "        self.name = name\n",
    "        self.level = level \n",
    "\n",
    "student1 = student(\"Biraj\", 10)"
   ]
  },
  {
   "cell_type": "code",
   "execution_count": 8,
   "id": "b27dad45-59b5-49cf-bca9-8560766c0127",
   "metadata": {},
   "outputs": [
    {
     "data": {
      "text/plain": [
       "'Biraj'"
      ]
     },
     "execution_count": 8,
     "metadata": {},
     "output_type": "execute_result"
    }
   ],
   "source": [
    "student1.name"
   ]
  },
  {
   "cell_type": "code",
   "execution_count": 6,
   "id": "26103d59-1f65-47b9-a425-8826868d12b1",
   "metadata": {},
   "outputs": [
    {
     "data": {
      "text/plain": [
       "10"
      ]
     },
     "execution_count": 6,
     "metadata": {},
     "output_type": "execute_result"
    }
   ],
   "source": [
    "student1.level"
   ]
  },
  {
   "cell_type": "code",
   "execution_count": 14,
   "id": "b223eb5b-2c5d-40ef-b2d2-99dce287dff0",
   "metadata": {},
   "outputs": [
    {
     "name": "stdout",
     "output_type": "stream",
     "text": [
      "biraj student in level 10\n"
     ]
    }
   ],
   "source": [
    "# __str__ method \n",
    "\n",
    "class Student: \n",
    "    def __init__(self, name, level): \n",
    "        self.name = name\n",
    "        self.level = level \n",
    "\n",
    "    def __str__(self):\n",
    "        return \"{} student in level {}\".format(self.name, self.level)\n",
    "\n",
    "    def level_up(self):\n",
    "        self.level += 1 \n",
    "\n",
    "student1 = Student(\"biraj\", 10)\n",
    "print(student1)\n"
   ]
  },
  {
   "cell_type": "code",
   "execution_count": 17,
   "id": "7d62ebaa-f275-4ce4-bc41-9af564b3a967",
   "metadata": {},
   "outputs": [
    {
     "name": "stdout",
     "output_type": "stream",
     "text": [
      "biraj student in level 13\n"
     ]
    }
   ],
   "source": [
    "student1.level_up()\n",
    "print(student1)"
   ]
  },
  {
   "cell_type": "markdown",
   "id": "f751b1f3-1f54-4e9a-9eb6-463dcb66c64f",
   "metadata": {},
   "source": [
    "# Inheritence \n",
    "---"
   ]
  },
  {
   "cell_type": "code",
   "execution_count": 22,
   "id": "ba75ddf0-6125-42ca-90b0-4bbeef7e0314",
   "metadata": {},
   "outputs": [],
   "source": [
    "# Rectangle class \n",
    "class Rectangle: \n",
    "    def __init__(self, color, filled, width, length): \n",
    "        self.__color = color\n",
    "        self.__filled = filled \n",
    "        self.__width = width \n",
    "        self.__length = length \n",
    "    #methods \n",
    "    def get_color(self): \n",
    "        return self.__color\n",
    "    def set_color(self, color): \n",
    "        self.__color = color\n",
    "    def is_filled(self):\n",
    "        return self.__filled \n",
    "    def set_filled(self, filled): \n",
    "        self.__filled = filled \n",
    "    def get_area(self): \n",
    "        return self.__width * self.__length\n",
    "\n",
    "class Circle: \n",
    "    def __init__(self, color, filled, radius): \n",
    "        self.__color = color\n",
    "        self.__filled = filled \n",
    "        self.__radius = radius \n",
    "    def get_color(self): \n",
    "        return self.__color\n",
    "    def set_color(self, color): \n",
    "        self.__color = color \n",
    "    def is_filled(self): \n",
    "        return self.__filled\n",
    "    def set_filled(self, filled): \n",
    "        self.__filled = filled \n",
    "    def get_area(self): \n",
    "        return math.pi * self.__radius**2"
   ]
  },
  {
   "cell_type": "markdown",
   "id": "9c164a3a-2f91-4cb5-b022-fc9b7d07e08f",
   "metadata": {},
   "source": [
    "To reduce data redundance and data integrity concept of inheretence was introduced. \n",
    "## Declaration of inheritance"
   ]
  },
  {
   "cell_type": "code",
   "execution_count": null,
   "id": "aca6dbd6-eb82-45fd-9d98-26498578124d",
   "metadata": {},
   "outputs": [],
   "source": [
    "class ParentClass: \n",
    "    # body of ParentClass\n",
    "    # method1\n",
    "    # method2\n",
    "class ChildClass(ParentClass):\n",
    "    # body of ChildClass\n",
    "    # method1\n",
    "    # method2"
   ]
  }
 ],
 "metadata": {
  "kernelspec": {
   "display_name": "Python 3 (ipykernel)",
   "language": "python",
   "name": "python3"
  },
  "language_info": {
   "codemirror_mode": {
    "name": "ipython",
    "version": 3
   },
   "file_extension": ".py",
   "mimetype": "text/x-python",
   "name": "python",
   "nbconvert_exporter": "python",
   "pygments_lexer": "ipython3",
   "version": "3.12.4"
  }
 },
 "nbformat": 4,
 "nbformat_minor": 5
}
