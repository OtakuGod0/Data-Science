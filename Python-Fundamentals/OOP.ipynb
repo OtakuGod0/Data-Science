{
 "cells": [
  {
   "cell_type": "markdown",
   "id": "b229ff81-c848-494d-8630-1b4978954737",
   "metadata": {},
   "source": [
    "# OBJECT-ORENTED CONCEPTS\n",
    "---\n",
    "Everything in Python is an object. For example, int, str, float, list, tuple, distionary etc. \n",
    "\n",
    "## Class and Object instances\n",
    "---"
   ]
  },
  {
   "cell_type": "code",
   "execution_count": 2,
   "id": "62843ab6-e4d3-4038-9026-772770ad5b62",
   "metadata": {},
   "outputs": [],
   "source": [
    "class Student:\n",
    "    pass"
   ]
  },
  {
   "cell_type": "code",
   "execution_count": 3,
   "id": "7ae76b2f-5ae5-4492-9c20-8763c56fb313",
   "metadata": {},
   "outputs": [],
   "source": [
    "student1 = Student()\n",
    "student2 = Student()"
   ]
  },
  {
   "cell_type": "code",
   "execution_count": null,
   "id": "8ed35ee7-eb31-44a8-88f4-8fdfa95404eb",
   "metadata": {},
   "outputs": [],
   "source": []
  }
 ],
 "metadata": {
  "kernelspec": {
   "display_name": "Python 3 (ipykernel)",
   "language": "python",
   "name": "python3"
  },
  "language_info": {
   "codemirror_mode": {
    "name": "ipython",
    "version": 3
   },
   "file_extension": ".py",
   "mimetype": "text/x-python",
   "name": "python",
   "nbconvert_exporter": "python",
   "pygments_lexer": "ipython3",
   "version": "3.12.4"
  }
 },
 "nbformat": 4,
 "nbformat_minor": 5
}
