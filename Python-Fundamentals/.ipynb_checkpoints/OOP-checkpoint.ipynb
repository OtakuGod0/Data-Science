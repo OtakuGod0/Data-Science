{
 "cells": [
  {
   "cell_type": "markdown",
   "id": "b229ff81-c848-494d-8630-1b4978954737",
   "metadata": {},
   "source": [
    "# OBJECT-ORENTED CONCEPTS\n",
    "---\n",
    "Everything in Python is an object. For example, int, str, float, list, tuple, distionary etc. \n",
    "\n",
    "## Class and Object instances\n",
    "---"
   ]
  },
  {
   "cell_type": "code",
   "execution_count": 2,
   "id": "62843ab6-e4d3-4038-9026-772770ad5b62",
   "metadata": {},
   "outputs": [],
   "source": [
    "class Student:\n",
    "    pass"
   ]
  },
  {
   "cell_type": "code",
   "execution_count": 3,
   "id": "7ae76b2f-5ae5-4492-9c20-8763c56fb313",
   "metadata": {},
   "outputs": [],
   "source": [
    "student1 = Student()\n",
    "student2 = Student()"
   ]
  },
  {
   "cell_type": "code",
   "execution_count": 11,
   "id": "b0e6f047-fb0d-433f-b9f3-64f2c7dbf4be",
   "metadata": {},
   "outputs": [
    {
     "ename": "SyntaxError",
     "evalue": "incomplete input (3656981237.py, line 8)",
     "output_type": "error",
     "traceback": [
      "\u001b[0;36m  Cell \u001b[0;32mIn[11], line 8\u001b[0;36m\u001b[0m\n\u001b[0;31m    print(student1\u001b[0m\n\u001b[0m                  ^\u001b[0m\n\u001b[0;31mSyntaxError\u001b[0m\u001b[0;31m:\u001b[0m incomplete input\n"
     ]
    }
   ],
   "source": [
    "class student: \n",
    "    def __init__(self, name, level): # constructor \n",
    "        # instant vairable \n",
    "        self.name = name\n",
    "        self.level = level \n",
    "\n",
    "student1 = student(\"Biraj\", 10)\n",
    "student1"
   ]
  },
  {
   "cell_type": "code",
   "execution_count": 8,
   "id": "b27dad45-59b5-49cf-bca9-8560766c0127",
   "metadata": {},
   "outputs": [
    {
     "data": {
      "text/plain": [
       "'Biraj'"
      ]
     },
     "execution_count": 8,
     "metadata": {},
     "output_type": "execute_result"
    }
   ],
   "source": [
    "student1.name"
   ]
  },
  {
   "cell_type": "code",
   "execution_count": 6,
   "id": "26103d59-1f65-47b9-a425-8826868d12b1",
   "metadata": {},
   "outputs": [
    {
     "data": {
      "text/plain": [
       "10"
      ]
     },
     "execution_count": 6,
     "metadata": {},
     "output_type": "execute_result"
    }
   ],
   "source": [
    "student1.level"
   ]
  },
  {
   "cell_type": "code",
   "execution_count": 9,
   "id": "b223eb5b-2c5d-40ef-b2d2-99dce287dff0",
   "metadata": {},
   "outputs": [
    {
     "name": "stdout",
     "output_type": "stream",
     "text": [
      "biraj student in level 10\n"
     ]
    }
   ],
   "source": [
    "# __str__ method \n",
    "\n",
    "class Student: \n",
    "    def __init__(self, name, level): \n",
    "        self.name = name\n",
    "        self.level = level \n",
    "\n",
    "    def __str__(self):\n",
    "        return \"{} student in level {}\".format(self.name, self.level)\n",
    "\n",
    "student1 = Student(\"biraj\", 10)\n",
    "print(student1)\n"
   ]
  },
  {
   "cell_type": "code",
   "execution_count": null,
   "id": "7d62ebaa-f275-4ce4-bc41-9af564b3a967",
   "metadata": {},
   "outputs": [],
   "source": []
  }
 ],
 "metadata": {
  "kernelspec": {
   "display_name": "Python 3 (ipykernel)",
   "language": "python",
   "name": "python3"
  },
  "language_info": {
   "codemirror_mode": {
    "name": "ipython",
    "version": 3
   },
   "file_extension": ".py",
   "mimetype": "text/x-python",
   "name": "python",
   "nbconvert_exporter": "python",
   "pygments_lexer": "ipython3",
   "version": "3.12.4"
  }
 },
 "nbformat": 4,
 "nbformat_minor": 5
}
