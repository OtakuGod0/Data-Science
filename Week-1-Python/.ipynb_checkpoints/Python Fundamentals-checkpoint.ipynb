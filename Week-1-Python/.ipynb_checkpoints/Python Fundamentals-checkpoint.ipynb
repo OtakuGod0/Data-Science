{
 "cells": [
  {
   "cell_type": "markdown",
   "id": "9d719d2d-1070-4cbd-922d-d6a914c468ba",
   "metadata": {},
   "source": [
    "# PYTHON Fundamentals"
   ]
  },
  {
   "cell_type": "markdown",
   "id": "56c34e11-8455-48d2-8569-16afce5bb98e",
   "metadata": {},
   "source": [
    "## Basic print code \n",
    "---\n"
   ]
  },
  {
   "cell_type": "code",
   "execution_count": 2,
   "id": "bb65f701-0917-4ea5-8586-e47e6750d6c8",
   "metadata": {},
   "outputs": [
    {
     "name": "stdout",
     "output_type": "stream",
     "text": [
      "Name:  Biraj\n",
      "Last Name: Buddhacharya\n"
     ]
    }
   ],
   "source": [
    "name = \"Biraj\"\n",
    "last_name = \"Buddhacharya\"\n",
    "\n",
    "print('Name: ', name)\n",
    "print('Last Name:', last_name)"
   ]
  },
  {
   "cell_type": "markdown",
   "id": "6331c01b-d423-4fc3-8af4-5ae0d5039257",
   "metadata": {},
   "source": [
    "## Python Data Types \n",
    "---"
   ]
  },
  {
   "cell_type": "code",
   "execution_count": 8,
   "id": "d3d3c6e9-28cf-4b71-845c-b9bb78cd2531",
   "metadata": {},
   "outputs": [],
   "source": [
    "name = \"Biraj\" # string\n",
    "age = 18 # int\n",
    "height = 5.11 # float\n",
    "fruits = [\"Apple\", \"Banana\", \"Pear\"] #list \n",
    "countries = {\"China\", \"India\", \"Nepal\"} # set\n",
    "colors = (\"red\", \"green\", \"blue\") # tuple \n",
    "x = range(4) # range type\n",
    "my_info = {name: \"Biraj\", age: 18} # dictionary \n",
    "is_ok = True # boolean "
   ]
  },
  {
   "cell_type": "markdown",
   "id": "55fff6c9-2345-42bb-bf9b-25b5bdd69f51",
   "metadata": {},
   "source": [
    "You can use type() to show the type of the vairable as shown below: "
   ]
  },
  {
   "cell_type": "code",
   "execution_count": 13,
   "id": "b807d100-4871-4e0e-b866-75373d33af61",
   "metadata": {},
   "outputs": [
    {
     "name": "stdout",
     "output_type": "stream",
     "text": [
      "type name:  <class 'str'>\n",
      "type age:  <class 'int'>\n",
      "type height:  <class 'float'>\n",
      "type fruits:  <class 'list'>\n",
      "type countries:  <class 'set'>\n",
      "type colors:  <class 'tuple'>\n",
      "type x:  <class 'range'>\n",
      "type my_info:  <class 'dict'>\n",
      "type is_ok:  <class 'bool'>\n"
     ]
    }
   ],
   "source": [
    "print(\"type name: \", type(name))\n",
    "print(\"type age: \", type(age))\n",
    "print(\"type height: \", type(height))\n",
    "print(\"type fruits: \", type(fruits))\n",
    "print(\"type countries: \", type(countries))\n",
    "print(\"type colors: \", type(colors))\n",
    "print(\"type x: \", type(x))\n",
    "print(\"type my_info: \", type(my_info))\n",
    "print(\"type is_ok: \", type(is_ok))\n"
   ]
  },
  {
   "cell_type": "markdown",
   "id": "48fe3756-575b-4b9c-9c1c-61fdee8f1e4e",
   "metadata": {},
   "source": [
    "## Python type Casting\n",
    "---"
   ]
  },
  {
   "cell_type": "markdown",
   "id": "966e6245-f8b7-4628-b2b3-433f7759aff3",
   "metadata": {},
   "source": [
    "### Exercise 2.1\n",
    "---\n"
   ]
  },
  {
   "cell_type": "code",
   "execution_count": 22,
   "id": "7b5e4fdf-8abd-498d-abed-edbbd8c416b0",
   "metadata": {},
   "outputs": [
    {
     "name": "stdout",
     "output_type": "stream",
     "text": [
      "18 18.0 18\n"
     ]
    }
   ],
   "source": [
    "age = 18 \n",
    "float_age = float(age)\n",
    "str_age = str(age)\n",
    "\n",
    "print(age, float_age, str_age)"
   ]
  },
  {
   "cell_type": "markdown",
   "id": "4d27fba5-6a4a-42f8-a7bb-1bd16f76099f",
   "metadata": {},
   "source": [
    "## Python Operators \n",
    "---"
   ]
  },
  {
   "cell_type": "markdown",
   "id": "8c79af96-fa85-4efc-8a86-aa0a65163b8d",
   "metadata": {},
   "source": [
    "### Arthemetic operators \n",
    "---"
   ]
  },
  {
   "cell_type": "code",
   "execution_count": 29,
   "id": "b96a9f03-7c83-4b6f-ac19-fb4657135f91",
   "metadata": {},
   "outputs": [
    {
     "data": {
      "text/plain": [
       "1"
      ]
     },
     "execution_count": 29,
     "metadata": {},
     "output_type": "execute_result"
    }
   ],
   "source": [
    "# Modulus (%)\n",
    "4 % 3 # prints reminder \n"
   ]
  },
  {
   "cell_type": "code",
   "execution_count": 31,
   "id": "b8e09888-9072-4e49-8cfa-ada1045cf8f5",
   "metadata": {},
   "outputs": [
    {
     "data": {
      "text/plain": [
       "4"
      ]
     },
     "execution_count": 31,
     "metadata": {},
     "output_type": "execute_result"
    }
   ],
   "source": [
    "# Exponential (**) or power \n",
    "2 ** 2 # prints square of two "
   ]
  },
  {
   "cell_type": "code",
   "execution_count": 33,
   "id": "b4b411a3-18ec-4b1a-852b-827c27210eb5",
   "metadata": {},
   "outputs": [
    {
     "data": {
      "text/plain": [
       "1"
      ]
     },
     "execution_count": 33,
     "metadata": {},
     "output_type": "execute_result"
    }
   ],
   "source": [
    "# Floor division (//)\n",
    "5 // 3 # prints quatient of division"
   ]
  },
  {
   "cell_type": "markdown",
   "id": "70841617-8c2a-450f-ab87-657ca9f5e6ef",
   "metadata": {},
   "source": [
    "### Exercise 3.1 "
   ]
  },
  {
   "cell_type": "code",
   "execution_count": 48,
   "id": "4e378b20-7b94-4e45-a4ad-b08812be2357",
   "metadata": {},
   "outputs": [],
   "source": [
    "x = 7*(3+8-4)/6\n",
    "y = x % 2 \n",
    "z = y ** 3 \n",
    "k = z // 3"
   ]
  },
  {
   "cell_type": "code",
   "execution_count": 50,
   "id": "0571f589-58e0-4c9e-9ad6-dffa84a9fa67",
   "metadata": {},
   "outputs": [
    {
     "name": "stdout",
     "output_type": "stream",
     "text": [
      "8.166666666666666 0.16666666666666607 0.00462962962962958 0.0\n"
     ]
    }
   ],
   "source": [
    "print(x, y, z, k)"
   ]
  },
  {
   "cell_type": "markdown",
   "id": "ced9f4ed-298a-4e9a-8c16-d2980b5e7f5e",
   "metadata": {},
   "source": [
    "## Comparasion Operator "
   ]
  },
  {
   "cell_type": "markdown",
   "id": "a6665450-61ee-41c3-a64a-b923e22a5945",
   "metadata": {},
   "source": []
  }
 ],
 "metadata": {
  "kernelspec": {
   "display_name": "Python 3 (ipykernel)",
   "language": "python",
   "name": "python3"
  },
  "language_info": {
   "codemirror_mode": {
    "name": "ipython",
    "version": 3
   },
   "file_extension": ".py",
   "mimetype": "text/x-python",
   "name": "python",
   "nbconvert_exporter": "python",
   "pygments_lexer": "ipython3",
   "version": "3.12.4"
  }
 },
 "nbformat": 4,
 "nbformat_minor": 5
}
