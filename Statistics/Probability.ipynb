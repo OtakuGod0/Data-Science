{
 "cells": [
  {
   "cell_type": "code",
   "execution_count": 1,
   "id": "1c26396f-28e0-4858-9d82-0435f58e4cdc",
   "metadata": {},
   "outputs": [],
   "source": [
    "# Bayess' Tkheormem (expanded version)\n",
    "# Binomial distribution \n",
    "# poisson distribution \n",
    "# Distribution \n",
    "# Z-score"
   ]
  },
  {
   "cell_type": "code",
   "execution_count": null,
   "id": "fbe5d26c-d0a2-4fc1-aada-4e834cd5e64f",
   "metadata": {},
   "outputs": [],
   "source": []
  }
 ],
 "metadata": {
  "kernelspec": {
   "display_name": "Python 3 (ipykernel)",
   "language": "python",
   "name": "python3"
  },
  "language_info": {
   "codemirror_mode": {
    "name": "ipython",
    "version": 3
   },
   "file_extension": ".py",
   "mimetype": "text/x-python",
   "name": "python",
   "nbconvert_exporter": "python",
   "pygments_lexer": "ipython3",
   "version": "3.12.4"
  }
 },
 "nbformat": 4,
 "nbformat_minor": 5
}
